{
 "cells": [
  {
   "cell_type": "code",
   "execution_count": 1,
   "metadata": {},
   "outputs": [],
   "source": [
    "import os\n",
    "import sys\n",
    "\n",
    "os.chdir(\"../..\")\n",
    "\n"
   ]
  },
  {
   "cell_type": "code",
   "execution_count": 2,
   "metadata": {},
   "outputs": [],
   "source": [
    "from lib.ffnn import FFNN\n",
    "from lib.neural import NetworkLayer, NeuralNetwork\n",
    "from lib.activation import *\n",
    "from lib.loss import *\n",
    "from lib.weight_initializer import *"
   ]
  },
  {
   "cell_type": "code",
   "execution_count": 3,
   "metadata": {},
   "outputs": [
    {
     "data": {
      "text/plain": [
       "np.float64(1.548698675870667)"
      ]
     },
     "execution_count": 3,
     "metadata": {},
     "output_type": "execute_result"
    }
   ],
   "source": [
    "sigmoid = ReLU()\n",
    "mse = BCE()\n",
    "normal_initializer = NormalInitializer(0.5, 0.5, 42)\n",
    "\n",
    "network = NeuralNetwork(\n",
    "    node_counts=[5, 3, 2],\n",
    "    activations=[sigmoid, Softmax()], \n",
    "    loss_function=mse,\n",
    "    initialize_method=normal_initializer\n",
    ")\n",
    "\n",
    "model = FFNN(\n",
    "    network=network,\n",
    ")\n",
    "\n",
    "model.back_prop(np.array([[1, 1, 1, 1, 1], [1, 2, 3, 4, 5], [0,0,0,0,0]]), np.array([[0,0], [1, 2], [3, 4]]))"
   ]
  }
 ],
 "metadata": {
  "kernelspec": {
   "display_name": ".env",
   "language": "python",
   "name": "python3"
  },
  "language_info": {
   "codemirror_mode": {
    "name": "ipython",
    "version": 3
   },
   "file_extension": ".py",
   "mimetype": "text/x-python",
   "name": "python",
   "nbconvert_exporter": "python",
   "pygments_lexer": "ipython3",
   "version": "3.10.12"
  }
 },
 "nbformat": 4,
 "nbformat_minor": 2
}
