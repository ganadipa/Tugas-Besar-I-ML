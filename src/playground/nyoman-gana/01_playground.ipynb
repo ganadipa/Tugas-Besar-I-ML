{
 "cells": [
  {
   "cell_type": "code",
   "execution_count": 2,
   "metadata": {},
   "outputs": [],
   "source": [
    "import os\n",
    "import sys\n",
    "\n",
    "os.chdir(\"../..\")\n",
    "\n"
   ]
  },
  {
   "cell_type": "code",
   "execution_count": 3,
   "metadata": {},
   "outputs": [],
   "source": [
    "from lib.ffnn import FFNN\n",
    "from lib.neural import NetworkLayer, NeuralNetwork\n",
    "from lib.activation import *\n",
    "from lib.loss import *\n",
    "from lib.weight_initializer import *"
   ]
  },
  {
   "cell_type": "code",
   "execution_count": null,
   "metadata": {},
   "outputs": [
    {
     "ename": "AttributeError",
     "evalue": "'NetworkLayer' object has no attribute 'shape'",
     "output_type": "error",
     "traceback": [
      "\u001b[1;31m---------------------------------------------------------------------------\u001b[0m",
      "\u001b[1;31mAttributeError\u001b[0m                            Traceback (most recent call last)",
      "Cell \u001b[1;32mIn[4], line 16\u001b[0m\n\u001b[0;32m      5\u001b[0m network \u001b[38;5;241m=\u001b[39m NeuralNetwork(\n\u001b[0;32m      6\u001b[0m     node_counts\u001b[38;5;241m=\u001b[39m[\u001b[38;5;241m5\u001b[39m, \u001b[38;5;241m3\u001b[39m, \u001b[38;5;241m2\u001b[39m],\n\u001b[0;32m      7\u001b[0m     activations\u001b[38;5;241m=\u001b[39m[Softmax(), Softmax()], \n\u001b[0;32m      8\u001b[0m     loss_function\u001b[38;5;241m=\u001b[39mmse,\n\u001b[0;32m      9\u001b[0m     initialize_method\u001b[38;5;241m=\u001b[39mnormal_initializer\n\u001b[0;32m     10\u001b[0m )\n\u001b[0;32m     12\u001b[0m model \u001b[38;5;241m=\u001b[39m FFNN(\n\u001b[0;32m     13\u001b[0m     network\u001b[38;5;241m=\u001b[39mnetwork,\n\u001b[0;32m     14\u001b[0m )\n\u001b[1;32m---> 16\u001b[0m \u001b[43mmodel\u001b[49m\u001b[38;5;241;43m.\u001b[39;49m\u001b[43mback_prop\u001b[49m\u001b[43m(\u001b[49m\u001b[43mnp\u001b[49m\u001b[38;5;241;43m.\u001b[39;49m\u001b[43marray\u001b[49m\u001b[43m(\u001b[49m\u001b[43m[\u001b[49m\u001b[43m[\u001b[49m\u001b[38;5;241;43m1\u001b[39;49m\u001b[43m,\u001b[49m\u001b[43m \u001b[49m\u001b[38;5;241;43m1\u001b[39;49m\u001b[43m,\u001b[49m\u001b[43m \u001b[49m\u001b[38;5;241;43m1\u001b[39;49m\u001b[43m,\u001b[49m\u001b[43m \u001b[49m\u001b[38;5;241;43m1\u001b[39;49m\u001b[43m,\u001b[49m\u001b[43m \u001b[49m\u001b[38;5;241;43m1\u001b[39;49m\u001b[43m]\u001b[49m\u001b[43m,\u001b[49m\u001b[43m \u001b[49m\u001b[43m[\u001b[49m\u001b[38;5;241;43m1\u001b[39;49m\u001b[43m,\u001b[49m\u001b[43m \u001b[49m\u001b[38;5;241;43m2\u001b[39;49m\u001b[43m,\u001b[49m\u001b[43m \u001b[49m\u001b[38;5;241;43m3\u001b[39;49m\u001b[43m,\u001b[49m\u001b[43m \u001b[49m\u001b[38;5;241;43m4\u001b[39;49m\u001b[43m,\u001b[49m\u001b[43m \u001b[49m\u001b[38;5;241;43m5\u001b[39;49m\u001b[43m]\u001b[49m\u001b[43m]\u001b[49m\u001b[43m)\u001b[49m\u001b[43m,\u001b[49m\u001b[43m \u001b[49m\u001b[43mnp\u001b[49m\u001b[38;5;241;43m.\u001b[39;49m\u001b[43marray\u001b[49m\u001b[43m(\u001b[49m\u001b[43m[\u001b[49m\u001b[43m[\u001b[49m\u001b[38;5;241;43m0\u001b[39;49m\u001b[43m,\u001b[49m\u001b[38;5;241;43m0\u001b[39;49m\u001b[43m]\u001b[49m\u001b[43m,\u001b[49m\u001b[43m \u001b[49m\u001b[43m[\u001b[49m\u001b[38;5;241;43m3\u001b[39;49m\u001b[43m,\u001b[49m\u001b[43m \u001b[49m\u001b[38;5;241;43m4\u001b[39;49m\u001b[43m]\u001b[49m\u001b[43m]\u001b[49m\u001b[43m)\u001b[49m\u001b[43m)\u001b[49m\n",
      "File \u001b[1;32md:\\GitHub\\Tugas-Besar-I-ML\\src\\lib\\ffnn.py:179\u001b[0m, in \u001b[0;36mFFNN.back_prop\u001b[1;34m(self, x_batch, y_batch)\u001b[0m\n\u001b[0;32m    175\u001b[0m     delta \u001b[38;5;241m*\u001b[39m\u001b[38;5;241m=\u001b[39m d_actprev\n\u001b[0;32m    177\u001b[0m \u001b[38;5;28;01melse\u001b[39;00m: \u001b[38;5;66;03m# softmax yea\u001b[39;00m\n\u001b[1;32m--> 179\u001b[0m     prev_sz \u001b[38;5;241m=\u001b[39m \u001b[43mprev_layer\u001b[49m\u001b[38;5;241;43m.\u001b[39;49m\u001b[43mshape\u001b[49m[\u001b[38;5;241m0\u001b[39m]\n\u001b[0;32m    180\u001b[0m     newdelta \u001b[38;5;241m=\u001b[39m np\u001b[38;5;241m.\u001b[39mzeros((prev_sz, batch_sz))\n\u001b[0;32m    182\u001b[0m     \u001b[38;5;28;01mfor\u001b[39;00m i \u001b[38;5;129;01min\u001b[39;00m \u001b[38;5;28mrange\u001b[39m(batch_sz):\n\u001b[0;32m    183\u001b[0m         \u001b[38;5;66;03m# For each sample in the batch\u001b[39;00m\n\u001b[0;32m    184\u001b[0m         \u001b[38;5;66;03m# d_activation[:,:,i] is the Jacobian matrix (output_sz, output_sz)\u001b[39;00m\n\u001b[0;32m    185\u001b[0m         \u001b[38;5;66;03m# d_loss[:,i] is the loss gradient vector (output_sz,)\u001b[39;00m\n",
      "\u001b[1;31mAttributeError\u001b[0m: 'NetworkLayer' object has no attribute 'shape'"
     ]
    }
   ],
   "source": [
    "sigmoid = ReLU()\n",
    "mse = BCE()\n",
    "normal_initializer = NormalInitializer(0.5, 0.5, 42)\n",
    "\n",
    "network = NeuralNetwork(\n",
    "    node_counts=[5, 3, 2],\n",
    "    activations=[Softmax(), Softmax()], \n",
    "    loss_function=mse,\n",
    "    initialize_method=normal_initializer\n",
    ")\n",
    "\n",
    "model = FFNN(\n",
    "    network=network,\n",
    ")\n",
    "\n",
    "model.back_prop(np.array([[1, 1, 1, 1, 1],\n",
    "                          [1, 1, 1, 1, 1],\n",
    "                          [1, 1, 1, 1, 1],\n",
    "                          [1, 1, 1, 1, 1],\n",
    "                          [1, 1, 1, 1, 1],\n",
    "                          [1, 1, 1, 1, 1], \n",
    "                          [1, 2, 3, 4, 5]]), np.array([[0, 0],\n",
    "                                                       [0, 0],\n",
    "                                                       [0, 0],\n",
    "                                                       [0, 0],\n",
    "                                                       [0, 0],\n",
    "                                                       [0, 0], \n",
    "                                                       [3, 4]]))"
   ]
  }
 ],
 "metadata": {
  "kernelspec": {
   "display_name": ".env",
   "language": "python",
   "name": "python3"
  },
  "language_info": {
   "codemirror_mode": {
    "name": "ipython",
    "version": 3
   },
   "file_extension": ".py",
   "mimetype": "text/x-python",
   "name": "python",
   "nbconvert_exporter": "python",
   "pygments_lexer": "ipython3",
   "version": "3.12.9"
  }
 },
 "nbformat": 4,
 "nbformat_minor": 2
}
