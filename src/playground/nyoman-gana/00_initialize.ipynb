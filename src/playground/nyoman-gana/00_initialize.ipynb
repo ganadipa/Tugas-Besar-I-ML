{
 "cells": [
  {
   "cell_type": "code",
   "execution_count": 1,
   "metadata": {},
   "outputs": [],
   "source": [
    "import os\n",
    "import sys\n",
    "\n",
    "os.chdir(\"../..\")"
   ]
  },
  {
   "cell_type": "code",
   "execution_count": 2,
   "metadata": {},
   "outputs": [],
   "source": [
    "import numpy as np\n",
    "import matplotlib.pyplot as plt\n",
    "from sklearn.datasets import fetch_openml\n",
    "from sklearn.model_selection import train_test_split\n",
    "from sklearn.preprocessing import StandardScaler, OneHotEncoder\n",
    "from sklearn.neural_network import MLPClassifier\n",
    "from sklearn.metrics import accuracy_score"
   ]
  },
  {
   "cell_type": "code",
   "execution_count": 3,
   "metadata": {},
   "outputs": [],
   "source": [
    "# Import custom FFNN implementation\n",
    "import os\n",
    "import sys\n",
    "# Add the parent directory to path to import your modules\n",
    "sys.path.append(os.path.dirname(os.path.dirname(os.getcwd())))\n",
    "\n",
    "from lib.neural import NeuralNetwork, NetworkLayer\n",
    "from lib.ffnn import FFNN\n",
    "from lib.activation import ReLU, Sigmoid, Tanh, Linear, Softmax\n",
    "from lib.loss import MSE, BCE, CCE\n",
    "from lib.weight_initializer import ZeroInitializer, UniformInitializer, NormalInitializer\n"
   ]
  },
  {
   "cell_type": "code",
   "execution_count": 4,
   "metadata": {},
   "outputs": [
    {
     "name": "stderr",
     "output_type": "stream",
     "text": [
      "INFO:root:Loading data\n"
     ]
    },
    {
     "name": "stdout",
     "output_type": "stream",
     "text": [
      "Sparsity with L1 penalty: 77.69%\n",
      "Test score with L1 penalty: 0.8250\n",
      "Example run in 12.715 s\n"
     ]
    },
    {
     "data": {
      "image/png": "[encoded data removed]",
      "text/plain": [
       "<Figure size 1000x500 with 10 Axes>"
      ]
     },
     "metadata": {},
     "output_type": "display_data"
    }
   ],
   "source": [
    "# Authors: The scikit-learn developers\n",
    "# SPDX-License-Identifier: BSD-3-Clause\n",
    "\n",
    "import time\n",
    "\n",
    "import matplotlib.pyplot as plt\n",
    "import numpy as np\n",
    "\n",
    "from sklearn.datasets import fetch_openml\n",
    "from sklearn.linear_model import LogisticRegression\n",
    "from sklearn.model_selection import train_test_split\n",
    "from sklearn.preprocessing import StandardScaler\n",
    "from sklearn.utils import check_random_state\n",
    "import logging\n",
    "\n",
    "logging.basicConfig(level=logging.INFO)\n",
    "\n",
    "# Turn down for faster convergence\n",
    "t0 = time.time()\n",
    "train_samples = 5000\n",
    "\n",
    "# Load data from https://www.openml.org/d/554\n",
    "logging.info(\"Loading data\")\n",
    "X, y = fetch_openml(\"mnist_784\", version=1, return_X_y=True, as_frame=False)\n",
    "\n",
    "random_state = check_random_state(0)\n",
    "permutation = random_state.permutation(X.shape[0])\n",
    "X = X[permutation]\n",
    "y = y[permutation]\n",
    "X = X.reshape((X.shape[0], -1))\n",
    "\n",
    "X_train, X_test, y_train, y_test = train_test_split(\n",
    "    X, y, train_size=train_samples, test_size=10000\n",
    ")\n",
    "\n",
    "scaler = StandardScaler()\n",
    "X_train = scaler.fit_transform(X_train)\n",
    "X_test = scaler.transform(X_test)\n",
    "\n",
    "# Turn up tolerance for faster convergence\n",
    "clf = LogisticRegression(C=50.0 / train_samples, penalty=\"l1\", solver=\"saga\", tol=0.1)\n",
    "clf.fit(X_train, y_train)\n",
    "sparsity = np.mean(clf.coef_ == 0) * 100\n",
    "score = clf.score(X_test, y_test)\n",
    "# print('Best C % .4f' % clf.C_)\n",
    "print(\"Sparsity with L1 penalty: %.2f%%\" % sparsity)\n",
    "print(\"Test score with L1 penalty: %.4f\" % score)\n",
    "\n",
    "coef = clf.coef_.copy()\n",
    "plt.figure(figsize=(10, 5))\n",
    "scale = np.abs(coef).max()\n",
    "for i in range(10):\n",
    "    l1_plot = plt.subplot(2, 5, i + 1)\n",
    "    l1_plot.imshow(\n",
    "        coef[i].reshape(28, 28),\n",
    "        interpolation=\"nearest\",\n",
    "        cmap=plt.cm.RdBu,\n",
    "        vmin=-scale,\n",
    "        vmax=scale,\n",
    "    )\n",
    "    l1_plot.set_xticks(())\n",
    "    l1_plot.set_yticks(())\n",
    "    l1_plot.set_xlabel(\"Class %i\" % i)\n",
    "plt.suptitle(\"Classification vector for...\")\n",
    "\n",
    "run_time = time.time() - t0\n",
    "print(\"Example run in %.3f s\" % run_time)\n",
    "plt.show()"
   ]
  },
  {
   "cell_type": "code",
   "execution_count": 5,
   "metadata": {},
   "outputs": [
    {
     "name": "stdout",
     "output_type": "stream",
     "text": [
      "Training set: 4000 samples\n",
      "Validation set: 1000 samples\n",
      "Test set: 10000 samples\n",
      "Input features: 784\n",
      "Output classes: 10\n"
     ]
    }
   ],
   "source": [
    "# Preprocess data for FFNN\n",
    "from sklearn.preprocessing import OneHotEncoder\n",
    "\n",
    "# Load data (using your already loaded data)\n",
    "# X_train and X_test are already loaded and scaled\n",
    "\n",
    "# Convert labels to one-hot encoding for neural network\n",
    "encoder = OneHotEncoder(sparse_output=False)\n",
    "y_train_onehot = encoder.fit_transform(y_train.reshape(-1, 1))\n",
    "y_test_onehot = encoder.transform(y_test.reshape(-1, 1))\n",
    "\n",
    "# Create validation set\n",
    "X_train_ffnn, X_val, y_train_ffnn, y_val = train_test_split(\n",
    "    X_train, y_train_onehot, test_size=0.2, random_state=42\n",
    ")\n",
    "\n",
    "print(f\"Training set: {X_train_ffnn.shape[0]} samples\")\n",
    "print(f\"Validation set: {X_val.shape[0]} samples\")\n",
    "print(f\"Test set: {X_test.shape[0]} samples\")\n",
    "print(f\"Input features: {X_train.shape[1]}\")\n",
    "print(f\"Output classes: {y_train_onehot.shape[1]}\")"
   ]
  },
  {
   "cell_type": "code",
   "execution_count": 6,
   "metadata": {},
   "outputs": [],
   "source": [
    "# Helper functions for evaluation and visualization\n",
    "def evaluate_model(model, X, y_onehot):\n",
    "    \"\"\"Evaluate model accuracy on given data.\"\"\"\n",
    "    predictions = model.predict(X)\n",
    "    predicted_classes = np.argmax(predictions, axis=1)\n",
    "    true_classes = np.argmax(y_onehot, axis=1)\n",
    "    accuracy = np.mean(predicted_classes == true_classes)\n",
    "    return accuracy\n",
    "\n",
    "def plot_train_history(history, title=\"Training History\"):\n",
    "    \"\"\"Plot training and validation loss history.\"\"\"\n",
    "    plt.figure(figsize=(10, 5))\n",
    "    plt.plot(history['train_loss'], label='Training Loss')\n",
    "    if 'val_loss' in history and history['val_loss']:\n",
    "        plt.plot(history['val_loss'], label='Validation Loss')\n",
    "    plt.title(title)\n",
    "    plt.xlabel('Epoch')\n",
    "    plt.ylabel('Loss')\n",
    "    plt.legend()\n",
    "    plt.grid(True, alpha=0.3)\n",
    "    plt.show()"
   ]
  },
  {
   "cell_type": "code",
   "execution_count": null,
   "metadata": {},
   "outputs": [
    {
     "name": "stdout",
     "output_type": "stream",
     "text": [
      "Testing width variations...\n",
      "\n",
      "Width Variation 1: [784, 32, 10]\n"
     ]
    },
    {
     "name": "stderr",
     "output_type": "stream",
     "text": [
      "Epoch 1/5: 100%|██████████| 125/125 [00:00<00:00, 204.92it/s, loss=10.9385]\n"
     ]
    },
    {
     "name": "stdout",
     "output_type": "stream",
     "text": [
      "Epoch 1/5 - 0.64s - loss: 10.9385 - val_loss: 10.4059\n"
     ]
    },
    {
     "name": "stderr",
     "output_type": "stream",
     "text": [
      "Epoch 2/5: 100%|██████████| 125/125 [00:00<00:00, 249.00it/s, loss=9.9646]\n"
     ]
    },
    {
     "name": "stdout",
     "output_type": "stream",
     "text": [
      "Epoch 2/5 - 0.52s - loss: 9.9646 - val_loss: 9.5034\n"
     ]
    },
    {
     "name": "stderr",
     "output_type": "stream",
     "text": [
      "Epoch 3/5: 100%|██████████| 125/125 [00:00<00:00, 301.95it/s, loss=9.1279]\n"
     ]
    },
    {
     "name": "stdout",
     "output_type": "stream",
     "text": [
      "Epoch 3/5 - 0.43s - loss: 9.1279 - val_loss: 8.7204\n"
     ]
    },
    {
     "name": "stderr",
     "output_type": "stream",
     "text": [
      "Epoch 4/5: 100%|██████████| 125/125 [00:00<00:00, 278.40it/s, loss=8.3956]\n"
     ]
    },
    {
     "name": "stdout",
     "output_type": "stream",
     "text": [
      "Epoch 4/5 - 0.47s - loss: 8.3956 - val_loss: 8.0375\n"
     ]
    },
    {
     "name": "stderr",
     "output_type": "stream",
     "text": [
      "Epoch 5/5: 100%|██████████| 125/125 [00:00<00:00, 240.59it/s, loss=7.7552]\n"
     ]
    },
    {
     "name": "stdout",
     "output_type": "stream",
     "text": [
      "Epoch 5/5 - 0.54s - loss: 7.7552 - val_loss: 7.4446\n",
      "Test accuracy: 0.1849\n",
      "\n",
      "Width Variation 2: [784, 128, 10]\n"
     ]
    },
    {
     "name": "stderr",
     "output_type": "stream",
     "text": [
      "Epoch 1/5: 100%|██████████| 125/125 [00:00<00:00, 198.08it/s, loss=21.8241]\n"
     ]
    },
    {
     "name": "stdout",
     "output_type": "stream",
     "text": [
      "Epoch 1/5 - 0.65s - loss: 21.8241 - val_loss: 20.8821\n"
     ]
    },
    {
     "name": "stderr",
     "output_type": "stream",
     "text": [
      "Epoch 2/5: 100%|██████████| 125/125 [00:00<00:00, 189.69it/s, loss=19.7172]\n"
     ]
    },
    {
     "name": "stdout",
     "output_type": "stream",
     "text": [
      "Epoch 2/5 - 0.68s - loss: 19.7172 - val_loss: 18.8830\n"
     ]
    },
    {
     "name": "stderr",
     "output_type": "stream",
     "text": [
      "Epoch 3/5: 100%|██████████| 125/125 [00:00<00:00, 205.25it/s, loss=17.8399]\n"
     ]
    },
    {
     "name": "stdout",
     "output_type": "stream",
     "text": [
      "Epoch 3/5 - 0.64s - loss: 17.8399 - val_loss: 17.1343\n"
     ]
    },
    {
     "name": "stderr",
     "output_type": "stream",
     "text": [
      "Epoch 4/5: 100%|██████████| 125/125 [00:00<00:00, 159.53it/s, loss=16.2355]\n"
     ]
    },
    {
     "name": "stdout",
     "output_type": "stream",
     "text": [
      "Epoch 4/5 - 0.81s - loss: 16.2355 - val_loss: 15.6544\n"
     ]
    },
    {
     "name": "stderr",
     "output_type": "stream",
     "text": [
      "Epoch 5/5: 100%|██████████| 125/125 [00:00<00:00, 201.98it/s, loss=14.8981]\n"
     ]
    },
    {
     "name": "stdout",
     "output_type": "stream",
     "text": [
      "Epoch 5/5 - 0.64s - loss: 14.8981 - val_loss: 14.3731\n",
      "Test accuracy: 0.2353\n",
      "\n",
      "Width Variation 3: [784, 512, 10]\n"
     ]
    },
    {
     "name": "stderr",
     "output_type": "stream",
     "text": [
      "Epoch 1/5: 100%|██████████| 125/125 [00:01<00:00, 63.71it/s, loss=25.2376]\n"
     ]
    },
    {
     "name": "stdout",
     "output_type": "stream",
     "text": [
      "Epoch 1/5 - 2.01s - loss: 25.2376 - val_loss: 23.2515\n"
     ]
    },
    {
     "name": "stderr",
     "output_type": "stream",
     "text": [
      "Epoch 2/5: 100%|██████████| 125/125 [00:01<00:00, 65.38it/s, loss=22.8864]\n"
     ]
    },
    {
     "name": "stdout",
     "output_type": "stream",
     "text": [
      "Epoch 2/5 - 1.96s - loss: 22.8864 - val_loss: 21.3532\n"
     ]
    },
    {
     "name": "stderr",
     "output_type": "stream",
     "text": [
      "Epoch 3/5: 100%|██████████| 125/125 [00:01<00:00, 65.17it/s, loss=21.1424]\n"
     ]
    },
    {
     "name": "stdout",
     "output_type": "stream",
     "text": [
      "Epoch 3/5 - 1.96s - loss: 21.1424 - val_loss: 19.7833\n"
     ]
    },
    {
     "name": "stderr",
     "output_type": "stream",
     "text": [
      "Epoch 4/5: 100%|██████████| 125/125 [00:01<00:00, 66.87it/s, loss=19.6724]\n"
     ]
    },
    {
     "name": "stdout",
     "output_type": "stream",
     "text": [
      "Epoch 4/5 - 1.92s - loss: 19.6724 - val_loss: 18.3769\n"
     ]
    },
    {
     "name": "stderr",
     "output_type": "stream",
     "text": [
      "Epoch 5/5: 100%|██████████| 125/125 [00:01<00:00, 67.64it/s, loss=18.4144]\n"
     ]
    },
    {
     "name": "stdout",
     "output_type": "stream",
     "text": [
      "Epoch 5/5 - 1.90s - loss: 18.4144 - val_loss: 17.1460\n"
     ]
    },
    {
     "name": "stderr",
     "output_type": "stream",
     "text": [
      "INFO:matplotlib.category:Using categorical units to plot a list of strings that are all parsable as floats or dates. If these strings should be plotted as numbers, cast to the appropriate data type before plotting.\n",
      "INFO:matplotlib.category:Using categorical units to plot a list of strings that are all parsable as floats or dates. If these strings should be plotted as numbers, cast to the appropriate data type before plotting.\n"
     ]
    },
    {
     "name": "stdout",
     "output_type": "stream",
     "text": [
      "Test accuracy: 0.3278\n"
     ]
    },
    {
     "data": {
      "image/png": "[encoded data removed]",
      "text/plain": [
       "<Figure size 1500x500 with 2 Axes>"
      ]
     },
     "metadata": {},
     "output_type": "display_data"
    },
    {
     "name": "stdout",
     "output_type": "stream",
     "text": [
      "\n",
      "Testing depth variations...\n",
      "\n",
      "Depth Variation 1: [784, 64, 10]\n"
     ]
    },
    {
     "name": "stderr",
     "output_type": "stream",
     "text": [
      "Epoch 1/5: 100%|██████████| 125/125 [00:00<00:00, 239.00it/s, loss=15.6996]\n"
     ]
    },
    {
     "name": "stdout",
     "output_type": "stream",
     "text": [
      "Epoch 1/5 - 0.54s - loss: 15.6996 - val_loss: 14.6294\n"
     ]
    },
    {
     "name": "stderr",
     "output_type": "stream",
     "text": [
      "Epoch 2/5: 100%|██████████| 125/125 [00:00<00:00, 266.52it/s, loss=14.0655]\n"
     ]
    },
    {
     "name": "stdout",
     "output_type": "stream",
     "text": [
      "Epoch 2/5 - 0.49s - loss: 14.0655 - val_loss: 13.1240\n"
     ]
    },
    {
     "name": "stderr",
     "output_type": "stream",
     "text": [
      "Epoch 3/5: 100%|██████████| 125/125 [00:00<00:00, 226.04it/s, loss=12.5840]\n"
     ]
    },
    {
     "name": "stdout",
     "output_type": "stream",
     "text": [
      "Epoch 3/5 - 0.58s - loss: 12.5840 - val_loss: 11.7210\n"
     ]
    },
    {
     "name": "stderr",
     "output_type": "stream",
     "text": [
      "Epoch 4/5: 100%|██████████| 125/125 [00:00<00:00, 240.38it/s, loss=11.2557]\n"
     ]
    },
    {
     "name": "stdout",
     "output_type": "stream",
     "text": [
      "Epoch 4/5 - 0.55s - loss: 11.2557 - val_loss: 10.4900\n"
     ]
    },
    {
     "name": "stderr",
     "output_type": "stream",
     "text": [
      "Epoch 5/5: 100%|██████████| 125/125 [00:00<00:00, 251.51it/s, loss=10.1033]\n"
     ]
    },
    {
     "name": "stdout",
     "output_type": "stream",
     "text": [
      "Epoch 5/5 - 0.52s - loss: 10.1033 - val_loss: 9.4324\n",
      "Test accuracy: 0.2308\n",
      "\n",
      "Depth Variation 2: [784, 64, 64, 10]\n"
     ]
    },
    {
     "name": "stderr",
     "output_type": "stream",
     "text": [
      "Epoch 1/5: 100%|██████████| 125/125 [00:00<00:00, 217.77it/s, loss=22.3958]\n"
     ]
    },
    {
     "name": "stdout",
     "output_type": "stream",
     "text": [
      "Epoch 1/5 - 0.60s - loss: 22.3958 - val_loss: 21.6109\n"
     ]
    },
    {
     "name": "stderr",
     "output_type": "stream",
     "text": [
      "Epoch 2/5: 100%|██████████| 125/125 [00:00<00:00, 262.05it/s, loss=20.2180]\n"
     ]
    },
    {
     "name": "stdout",
     "output_type": "stream",
     "text": [
      "Epoch 2/5 - 0.50s - loss: 20.2180 - val_loss: 19.7812\n"
     ]
    },
    {
     "name": "stderr",
     "output_type": "stream",
     "text": [
      "Epoch 3/5: 100%|██████████| 125/125 [00:00<00:00, 210.08it/s, loss=18.4657]\n"
     ]
    },
    {
     "name": "stdout",
     "output_type": "stream",
     "text": [
      "Epoch 3/5 - 0.63s - loss: 18.4657 - val_loss: 18.0847\n"
     ]
    },
    {
     "name": "stderr",
     "output_type": "stream",
     "text": [
      "Epoch 4/5: 100%|██████████| 125/125 [00:00<00:00, 225.64it/s, loss=16.6911]\n"
     ]
    },
    {
     "name": "stdout",
     "output_type": "stream",
     "text": [
      "Epoch 4/5 - 0.58s - loss: 16.6911 - val_loss: 16.2903\n"
     ]
    },
    {
     "name": "stderr",
     "output_type": "stream",
     "text": [
      "Epoch 5/5: 100%|██████████| 125/125 [00:00<00:00, 190.84it/s, loss=14.8714]\n"
     ]
    },
    {
     "name": "stdout",
     "output_type": "stream",
     "text": [
      "Epoch 5/5 - 0.67s - loss: 14.8714 - val_loss: 14.4450\n",
      "Test accuracy: 0.2720\n",
      "\n",
      "Depth Variation 3: [784, 64, 64, 64, 10]\n"
     ]
    },
    {
     "name": "stderr",
     "output_type": "stream",
     "text": [
      "Epoch 1/5: 100%|██████████| 125/125 [00:00<00:00, 247.03it/s, loss=23.9377]\n"
     ]
    },
    {
     "name": "stdout",
     "output_type": "stream",
     "text": [
      "Epoch 1/5 - 0.52s - loss: 23.9377 - val_loss: 22.6992\n"
     ]
    },
    {
     "name": "stderr",
     "output_type": "stream",
     "text": [
      "Epoch 2/5: 100%|██████████| 125/125 [00:00<00:00, 198.15it/s, loss=21.7913]\n"
     ]
    },
    {
     "name": "stdout",
     "output_type": "stream",
     "text": [
      "Epoch 2/5 - 0.66s - loss: 21.7913 - val_loss: 21.1875\n"
     ]
    },
    {
     "name": "stderr",
     "output_type": "stream",
     "text": [
      "Epoch 3/5: 100%|██████████| 125/125 [00:00<00:00, 213.38it/s, loss=20.3651]\n"
     ]
    },
    {
     "name": "stdout",
     "output_type": "stream",
     "text": [
      "Epoch 3/5 - 0.61s - loss: 20.3651 - val_loss: 19.9610\n"
     ]
    },
    {
     "name": "stderr",
     "output_type": "stream",
     "text": [
      "Epoch 4/5: 100%|██████████| 125/125 [00:00<00:00, 193.80it/s, loss=19.1708]\n"
     ]
    },
    {
     "name": "stdout",
     "output_type": "stream",
     "text": [
      "Epoch 4/5 - 0.67s - loss: 19.1708 - val_loss: 18.7991\n"
     ]
    },
    {
     "name": "stderr",
     "output_type": "stream",
     "text": [
      "Epoch 5/5: 100%|██████████| 125/125 [00:00<00:00, 227.69it/s, loss=17.7923]\n",
      "INFO:matplotlib.category:Using categorical units to plot a list of strings that are all parsable as floats or dates. If these strings should be plotted as numbers, cast to the appropriate data type before plotting.\n",
      "INFO:matplotlib.category:Using categorical units to plot a list of strings that are all parsable as floats or dates. If these strings should be plotted as numbers, cast to the appropriate data type before plotting.\n"
     ]
    },
    {
     "name": "stdout",
     "output_type": "stream",
     "text": [
      "Epoch 5/5 - 0.58s - loss: 17.7923 - val_loss: 16.8018\n",
      "Test accuracy: 0.3326\n"
     ]
    },
    {
     "data": {
      "image/png": "[encoded data removed]",
      "text/plain": [
       "<Figure size 1500x500 with 2 Axes>"
      ]
     },
     "metadata": {},
     "output_type": "display_data"
    }
   ],
   "source": [
    "# Define base configuration\n",
    "base_config = {\n",
    "    'learning_rate': 0.1,\n",
    "    'batch_size': 32,\n",
    "    'epochs': 5,  # Using fewer epochs for faster testing\n",
    "    'loss_function': CCE(),\n",
    "    'activation': Sigmoid(),\n",
    "    'initializer': NormalInitializer(seed=42)\n",
    "}\n",
    "\n",
    "# Define different architectures for width variation (fixed depth)\n",
    "width_variations = [\n",
    "    [784, 32, 10],         # Narrow\n",
    "    [784, 128, 10],        # Medium\n",
    "    [784, 512, 10]         # Wide\n",
    "]\n",
    "\n",
    "# Define different architectures for depth variation (fixed width)\n",
    "depth_variations = [\n",
    "    [784, 64, 10],               # Shallow (1 hidden layer)\n",
    "    [784, 64, 64, 10],           # Medium (2 hidden layers)\n",
    "    [784, 64, 64, 64, 10]        # Deep (3 hidden layers)\n",
    "]\n",
    "\n",
    "# Test width variations\n",
    "width_histories = []\n",
    "width_accuracies = []\n",
    "\n",
    "print(\"Testing width variations...\")\n",
    "for i, architecture in enumerate(width_variations):\n",
    "    print(f\"\\nWidth Variation {i+1}: {architecture}\")\n",
    "    \n",
    "    # Create activations list (output layer uses Softmax)\n",
    "    activations = [base_config['activation']] * (len(architecture) - 2) + [Softmax()]\n",
    "    \n",
    "    # Create neural network\n",
    "    network = NeuralNetwork(\n",
    "        node_counts=architecture,\n",
    "        activations=activations,\n",
    "        loss_function=base_config['loss_function'],\n",
    "        initialize_method=base_config['initializer']\n",
    "    )\n",
    "    \n",
    "    # Create FFNN model\n",
    "    model = FFNN(network)\n",
    "    \n",
    "    # Train the model\n",
    "    history = model.fit(\n",
    "        X_train_ffnn, y_train_ffnn,\n",
    "        batch_size=base_config['batch_size'],\n",
    "        epochs=base_config['epochs'],\n",
    "        validation_data=(X_val, y_val),\n",
    "        learning_rate=base_config['learning_rate'],\n",
    "        verbose=1\n",
    "    )\n",
    "    \n",
    "    # Store results\n",
    "    width_histories.append(history)\n",
    "    \n",
    "    # Evaluate on test set\n",
    "    accuracy = evaluate_model(model, X_test, y_test_onehot)\n",
    "    width_accuracies.append(accuracy)\n",
    "    print(f\"Test accuracy: {accuracy:.4f}\")\n",
    "\n",
    "# Plot results for width variations\n",
    "plt.figure(figsize=(15, 5))\n",
    "\n",
    "# Plot width variation loss\n",
    "plt.subplot(1, 2, 1)\n",
    "for i, history in enumerate(width_histories):\n",
    "    plt.plot(history['train_loss'], label=f\"Width {width_variations[i][1]}\")\n",
    "plt.title('Training Loss vs Width')\n",
    "plt.xlabel('Epoch')\n",
    "plt.ylabel('Loss')\n",
    "plt.legend()\n",
    "plt.grid(True, alpha=0.3)\n",
    "\n",
    "# Compare test accuracies for width\n",
    "plt.subplot(1, 2, 2)\n",
    "plt.bar([str(arch[1]) for arch in width_variations], width_accuracies)\n",
    "plt.title('Test Accuracy vs Width')\n",
    "plt.xlabel('Hidden Layer Width')\n",
    "plt.ylabel('Accuracy')\n",
    "plt.ylim(0, 1)\n",
    "\n",
    "plt.tight_layout()\n",
    "plt.show()\n",
    "\n",
    "# Test depth variations\n",
    "depth_histories = []\n",
    "depth_accuracies = []\n",
    "\n",
    "print(\"\\nTesting depth variations...\")\n",
    "for i, architecture in enumerate(depth_variations):\n",
    "    print(f\"\\nDepth Variation {i+1}: {architecture}\")\n",
    "    \n",
    "    # Create activations list (output layer uses Softmax)\n",
    "    activations = [base_config['activation']] * (len(architecture) - 2) + [Softmax()]\n",
    "    \n",
    "    # Create neural network\n",
    "    network = NeuralNetwork(\n",
    "        node_counts=architecture,\n",
    "        activations=activations,\n",
    "        loss_function=base_config['loss_function'],\n",
    "        initialize_method=base_config['initializer']\n",
    "    )\n",
    "    \n",
    "    # Create FFNN model\n",
    "    model = FFNN(network)\n",
    "    \n",
    "    # Train the model\n",
    "    history = model.fit(\n",
    "        X_train_ffnn, y_train_ffnn,\n",
    "        batch_size=base_config['batch_size'],\n",
    "        epochs=base_config['epochs'],\n",
    "        validation_data=(X_val, y_val),\n",
    "        learning_rate=base_config['learning_rate'],\n",
    "        verbose=1\n",
    "    )\n",
    "    \n",
    "    # Store results\n",
    "    depth_histories.append(history)\n",
    "    \n",
    "    # Evaluate on test set\n",
    "    accuracy = evaluate_model(model, X_test, y_test_onehot)\n",
    "    depth_accuracies.append(accuracy)\n",
    "    print(f\"Test accuracy: {accuracy:.4f}\")\n",
    "\n",
    "# Plot results for depth variations\n",
    "plt.figure(figsize=(15, 5))\n",
    "\n",
    "# Plot depth variation loss\n",
    "plt.subplot(1, 2, 1)\n",
    "for i, history in enumerate(depth_histories):\n",
    "    plt.plot(history['train_loss'], label=f\"Depth {len(depth_variations[i]) - 2}\")\n",
    "plt.title('Training Loss vs Depth')\n",
    "plt.xlabel('Epoch')\n",
    "plt.ylabel('Loss')\n",
    "plt.legend()\n",
    "plt.grid(True, alpha=0.3)\n",
    "\n",
    "# Compare test accuracies for depth\n",
    "plt.subplot(1, 2, 2)\n",
    "plt.bar([str(len(arch) - 2) for arch in depth_variations], depth_accuracies)\n",
    "plt.title('Test Accuracy vs Depth')\n",
    "plt.xlabel('Number of Hidden Layers')\n",
    "plt.ylabel('Accuracy')\n",
    "plt.ylim(0, 1)\n",
    "\n",
    "plt.tight_layout()\n",
    "plt.show()"
   ]
  },
  {
   "cell_type": "code",
   "execution_count": 15,
   "metadata": {},
   "outputs": [
    {
     "name": "stdout",
     "output_type": "stream",
     "text": [
      "Testing activation functions...\n",
      "\n",
      "Activation: <lib.activation.Linear object at 0x00000189D94232C0>\n"
     ]
    },
    {
     "name": "stderr",
     "output_type": "stream",
     "text": [
      "Epoch 1/25:   0%|          | 0/125 [00:00<?, ?it/s, loss=0.4666]"
     ]
    },
    {
     "name": "stderr",
     "output_type": "stream",
     "text": [
      "Epoch 1/25: 100%|██████████| 125/125 [00:00<00:00, 156.25it/s, loss=24.7551]\n"
     ]
    },
    {
     "name": "stdout",
     "output_type": "stream",
     "text": [
      "Epoch 1/25 - 0.83s - loss: 24.7551 - val_loss: 23.6680\n"
     ]
    },
    {
     "name": "stderr",
     "output_type": "stream",
     "text": [
      "Epoch 2/25: 100%|██████████| 125/125 [00:00<00:00, 152.44it/s, loss=22.3344]\n"
     ]
    },
    {
     "name": "stdout",
     "output_type": "stream",
     "text": [
      "Epoch 2/25 - 0.86s - loss: 22.3344 - val_loss: 21.4966\n"
     ]
    },
    {
     "name": "stderr",
     "output_type": "stream",
     "text": [
      "Epoch 3/25: 100%|██████████| 125/125 [00:00<00:00, 186.21it/s, loss=20.2666]\n"
     ]
    },
    {
     "name": "stdout",
     "output_type": "stream",
     "text": [
      "Epoch 3/25 - 0.70s - loss: 20.2666 - val_loss: 19.5826\n"
     ]
    },
    {
     "name": "stderr",
     "output_type": "stream",
     "text": [
      "Epoch 4/25: 100%|██████████| 125/125 [00:00<00:00, 199.35it/s, loss=18.5039]\n"
     ]
    },
    {
     "name": "stdout",
     "output_type": "stream",
     "text": [
      "Epoch 4/25 - 0.67s - loss: 18.5039 - val_loss: 17.9857\n"
     ]
    },
    {
     "name": "stderr",
     "output_type": "stream",
     "text": [
      "Epoch 5/25: 100%|██████████| 125/125 [00:00<00:00, 222.02it/s, loss=17.0403]\n"
     ]
    },
    {
     "name": "stdout",
     "output_type": "stream",
     "text": [
      "Epoch 5/25 - 0.58s - loss: 17.0403 - val_loss: 16.6714\n"
     ]
    },
    {
     "name": "stderr",
     "output_type": "stream",
     "text": [
      "Epoch 6/25: 100%|██████████| 125/125 [00:00<00:00, 229.78it/s, loss=15.8062]\n"
     ]
    },
    {
     "name": "stdout",
     "output_type": "stream",
     "text": [
      "Epoch 6/25 - 0.57s - loss: 15.8062 - val_loss: 15.5041\n"
     ]
    },
    {
     "name": "stderr",
     "output_type": "stream",
     "text": [
      "Epoch 7/25: 100%|██████████| 125/125 [00:00<00:00, 200.96it/s, loss=14.6927]\n"
     ]
    },
    {
     "name": "stdout",
     "output_type": "stream",
     "text": [
      "Epoch 7/25 - 0.65s - loss: 14.6927 - val_loss: 14.4030\n"
     ]
    },
    {
     "name": "stderr",
     "output_type": "stream",
     "text": [
      "Epoch 8/25: 100%|██████████| 125/125 [00:00<00:00, 200.79it/s, loss=13.6455]\n"
     ]
    },
    {
     "name": "stdout",
     "output_type": "stream",
     "text": [
      "Epoch 8/25 - 0.65s - loss: 13.6455 - val_loss: 13.3827\n"
     ]
    },
    {
     "name": "stderr",
     "output_type": "stream",
     "text": [
      "Epoch 9/25: 100%|██████████| 125/125 [00:00<00:00, 233.24it/s, loss=12.6605]\n"
     ]
    },
    {
     "name": "stdout",
     "output_type": "stream",
     "text": [
      "Epoch 9/25 - 0.55s - loss: 12.6605 - val_loss: 12.4447\n"
     ]
    },
    {
     "name": "stderr",
     "output_type": "stream",
     "text": [
      "Epoch 10/25: 100%|██████████| 125/125 [00:00<00:00, 210.89it/s, loss=11.7798]\n"
     ]
    },
    {
     "name": "stdout",
     "output_type": "stream",
     "text": [
      "Epoch 10/25 - 0.62s - loss: 11.7798 - val_loss: 11.5833\n"
     ]
    },
    {
     "name": "stderr",
     "output_type": "stream",
     "text": [
      "Epoch 11/25: 100%|██████████| 125/125 [00:00<00:00, 221.24it/s, loss=10.9903]\n"
     ]
    },
    {
     "name": "stdout",
     "output_type": "stream",
     "text": [
      "Epoch 11/25 - 0.58s - loss: 10.9903 - val_loss: 10.7722\n"
     ]
    },
    {
     "name": "stderr",
     "output_type": "stream",
     "text": [
      "Epoch 12/25: 100%|██████████| 125/125 [00:00<00:00, 180.11it/s, loss=10.2810]\n"
     ]
    },
    {
     "name": "stdout",
     "output_type": "stream",
     "text": [
      "Epoch 12/25 - 0.71s - loss: 10.2810 - val_loss: 10.0673\n"
     ]
    },
    {
     "name": "stderr",
     "output_type": "stream",
     "text": [
      "Epoch 13/25: 100%|██████████| 125/125 [00:00<00:00, 221.61it/s, loss=9.6514]\n"
     ]
    },
    {
     "name": "stdout",
     "output_type": "stream",
     "text": [
      "Epoch 13/25 - 0.59s - loss: 9.6514 - val_loss: 9.4557\n"
     ]
    },
    {
     "name": "stderr",
     "output_type": "stream",
     "text": [
      "Epoch 14/25: 100%|██████████| 125/125 [00:00<00:00, 235.25it/s, loss=9.0883]\n"
     ]
    },
    {
     "name": "stdout",
     "output_type": "stream",
     "text": [
      "Epoch 14/25 - 0.55s - loss: 9.0883 - val_loss: 8.9185\n"
     ]
    },
    {
     "name": "stderr",
     "output_type": "stream",
     "text": [
      "Epoch 15/25: 100%|██████████| 125/125 [00:00<00:00, 231.19it/s, loss=8.6015]\n"
     ]
    },
    {
     "name": "stdout",
     "output_type": "stream",
     "text": [
      "Epoch 15/25 - 0.57s - loss: 8.6015 - val_loss: 8.4543\n"
     ]
    },
    {
     "name": "stderr",
     "output_type": "stream",
     "text": [
      "Epoch 16/25: 100%|██████████| 125/125 [00:00<00:00, 197.47it/s, loss=8.1647]\n"
     ]
    },
    {
     "name": "stdout",
     "output_type": "stream",
     "text": [
      "Epoch 16/25 - 0.73s - loss: 8.1647 - val_loss: 8.0381\n"
     ]
    },
    {
     "name": "stderr",
     "output_type": "stream",
     "text": [
      "Epoch 17/25: 100%|██████████| 125/125 [00:00<00:00, 179.08it/s, loss=7.7663]\n"
     ]
    },
    {
     "name": "stdout",
     "output_type": "stream",
     "text": [
      "Epoch 17/25 - 0.74s - loss: 7.7663 - val_loss: 7.6715\n"
     ]
    },
    {
     "name": "stderr",
     "output_type": "stream",
     "text": [
      "Epoch 18/25: 100%|██████████| 125/125 [00:00<00:00, 230.63it/s, loss=7.4072]\n"
     ]
    },
    {
     "name": "stdout",
     "output_type": "stream",
     "text": [
      "Epoch 18/25 - 0.56s - loss: 7.4072 - val_loss: 7.3472\n"
     ]
    },
    {
     "name": "stderr",
     "output_type": "stream",
     "text": [
      "Epoch 19/25: 100%|██████████| 125/125 [00:00<00:00, 211.51it/s, loss=7.0856]\n"
     ]
    },
    {
     "name": "stdout",
     "output_type": "stream",
     "text": [
      "Epoch 19/25 - 0.61s - loss: 7.0856 - val_loss: 7.0636\n"
     ]
    },
    {
     "name": "stderr",
     "output_type": "stream",
     "text": [
      "Epoch 20/25: 100%|██████████| 125/125 [00:00<00:00, 220.07it/s, loss=6.7995]\n"
     ]
    },
    {
     "name": "stdout",
     "output_type": "stream",
     "text": [
      "Epoch 20/25 - 0.59s - loss: 6.7995 - val_loss: 6.8115\n"
     ]
    },
    {
     "name": "stderr",
     "output_type": "stream",
     "text": [
      "Epoch 21/25: 100%|██████████| 125/125 [00:00<00:00, 195.61it/s, loss=6.5389]\n"
     ]
    },
    {
     "name": "stdout",
     "output_type": "stream",
     "text": [
      "Epoch 21/25 - 0.66s - loss: 6.5389 - val_loss: 6.5794\n"
     ]
    },
    {
     "name": "stderr",
     "output_type": "stream",
     "text": [
      "Epoch 22/25: 100%|██████████| 125/125 [00:00<00:00, 226.03it/s, loss=6.3013]\n"
     ]
    },
    {
     "name": "stdout",
     "output_type": "stream",
     "text": [
      "Epoch 22/25 - 0.57s - loss: 6.3013 - val_loss: 6.3668\n"
     ]
    },
    {
     "name": "stderr",
     "output_type": "stream",
     "text": [
      "Epoch 23/25: 100%|██████████| 125/125 [00:00<00:00, 210.79it/s, loss=6.0863]\n"
     ]
    },
    {
     "name": "stdout",
     "output_type": "stream",
     "text": [
      "Epoch 23/25 - 0.62s - loss: 6.0863 - val_loss: 6.1642\n"
     ]
    },
    {
     "name": "stderr",
     "output_type": "stream",
     "text": [
      "Epoch 24/25: 100%|██████████| 125/125 [00:00<00:00, 177.05it/s, loss=5.8899]\n"
     ]
    },
    {
     "name": "stdout",
     "output_type": "stream",
     "text": [
      "Epoch 24/25 - 0.73s - loss: 5.8899 - val_loss: 5.9686\n"
     ]
    },
    {
     "name": "stderr",
     "output_type": "stream",
     "text": [
      "Epoch 25/25: 100%|██████████| 125/125 [00:00<00:00, 188.25it/s, loss=5.7069]\n"
     ]
    },
    {
     "name": "stdout",
     "output_type": "stream",
     "text": [
      "Epoch 25/25 - 0.69s - loss: 5.7069 - val_loss: 5.7865\n",
      "Test accuracy: 0.6681\n",
      "\n",
      "Activation: <lib.activation.ReLU object at 0x00000189D9423E90>\n"
     ]
    },
    {
     "name": "stderr",
     "output_type": "stream",
     "text": [
      "Epoch 1/25: 100%|██████████| 125/125 [00:00<00:00, 217.77it/s, loss=21.8214]\n"
     ]
    },
    {
     "name": "stdout",
     "output_type": "stream",
     "text": [
      "Epoch 1/25 - 0.59s - loss: 21.8214 - val_loss: 20.8725\n"
     ]
    },
    {
     "name": "stderr",
     "output_type": "stream",
     "text": [
      "Epoch 2/25: 100%|██████████| 125/125 [00:00<00:00, 187.41it/s, loss=19.7279]\n"
     ]
    },
    {
     "name": "stdout",
     "output_type": "stream",
     "text": [
      "Epoch 2/25 - 0.69s - loss: 19.7279 - val_loss: 18.9142\n"
     ]
    },
    {
     "name": "stderr",
     "output_type": "stream",
     "text": [
      "Epoch 3/25: 100%|██████████| 125/125 [00:00<00:00, 195.62it/s, loss=17.8669]\n"
     ]
    },
    {
     "name": "stdout",
     "output_type": "stream",
     "text": [
      "Epoch 3/25 - 0.67s - loss: 17.8669 - val_loss: 17.1693\n"
     ]
    },
    {
     "name": "stderr",
     "output_type": "stream",
     "text": [
      "Epoch 4/25: 100%|██████████| 125/125 [00:00<00:00, 177.31it/s, loss=16.2642]\n"
     ]
    },
    {
     "name": "stdout",
     "output_type": "stream",
     "text": [
      "Epoch 4/25 - 0.73s - loss: 16.2642 - val_loss: 15.6886\n"
     ]
    },
    {
     "name": "stderr",
     "output_type": "stream",
     "text": [
      "Epoch 5/25: 100%|██████████| 125/125 [00:00<00:00, 155.09it/s, loss=14.9239]\n"
     ]
    },
    {
     "name": "stdout",
     "output_type": "stream",
     "text": [
      "Epoch 5/25 - 0.83s - loss: 14.9239 - val_loss: 14.3981\n"
     ]
    },
    {
     "name": "stderr",
     "output_type": "stream",
     "text": [
      "Epoch 6/25: 100%|██████████| 125/125 [00:00<00:00, 205.25it/s, loss=13.7433]\n"
     ]
    },
    {
     "name": "stdout",
     "output_type": "stream",
     "text": [
      "Epoch 6/25 - 0.63s - loss: 13.7433 - val_loss: 13.2593\n"
     ]
    },
    {
     "name": "stderr",
     "output_type": "stream",
     "text": [
      "Epoch 7/25: 100%|██████████| 125/125 [00:00<00:00, 172.41it/s, loss=12.7063]\n"
     ]
    },
    {
     "name": "stdout",
     "output_type": "stream",
     "text": [
      "Epoch 7/25 - 0.75s - loss: 12.7063 - val_loss: 12.2532\n"
     ]
    },
    {
     "name": "stderr",
     "output_type": "stream",
     "text": [
      "Epoch 8/25: 100%|██████████| 125/125 [00:00<00:00, 192.02it/s, loss=11.7895]\n"
     ]
    },
    {
     "name": "stdout",
     "output_type": "stream",
     "text": [
      "Epoch 8/25 - 0.68s - loss: 11.7895 - val_loss: 11.3584\n"
     ]
    },
    {
     "name": "stderr",
     "output_type": "stream",
     "text": [
      "Epoch 9/25: 100%|██████████| 125/125 [00:00<00:00, 200.00it/s, loss=10.9694]\n"
     ]
    },
    {
     "name": "stdout",
     "output_type": "stream",
     "text": [
      "Epoch 9/25 - 0.65s - loss: 10.9694 - val_loss: 10.5707\n"
     ]
    },
    {
     "name": "stderr",
     "output_type": "stream",
     "text": [
      "Epoch 10/25: 100%|██████████| 125/125 [00:00<00:00, 165.35it/s, loss=10.2309]\n"
     ]
    },
    {
     "name": "stdout",
     "output_type": "stream",
     "text": [
      "Epoch 10/25 - 0.77s - loss: 10.2309 - val_loss: 9.8713\n"
     ]
    },
    {
     "name": "stderr",
     "output_type": "stream",
     "text": [
      "Epoch 11/25: 100%|██████████| 125/125 [00:00<00:00, 177.31it/s, loss=9.5667]\n"
     ]
    },
    {
     "name": "stdout",
     "output_type": "stream",
     "text": [
      "Epoch 11/25 - 0.73s - loss: 9.5667 - val_loss: 9.2466\n"
     ]
    },
    {
     "name": "stderr",
     "output_type": "stream",
     "text": [
      "Epoch 12/25: 100%|██████████| 125/125 [00:00<00:00, 192.60it/s, loss=8.9741]\n"
     ]
    },
    {
     "name": "stdout",
     "output_type": "stream",
     "text": [
      "Epoch 12/25 - 0.67s - loss: 8.9741 - val_loss: 8.7006\n"
     ]
    },
    {
     "name": "stderr",
     "output_type": "stream",
     "text": [
      "Epoch 13/25: 100%|██████████| 125/125 [00:00<00:00, 215.89it/s, loss=8.4451]\n"
     ]
    },
    {
     "name": "stdout",
     "output_type": "stream",
     "text": [
      "Epoch 13/25 - 0.61s - loss: 8.4451 - val_loss: 8.2120\n"
     ]
    },
    {
     "name": "stderr",
     "output_type": "stream",
     "text": [
      "Epoch 14/25: 100%|██████████| 125/125 [00:00<00:00, 205.25it/s, loss=7.9761]\n"
     ]
    },
    {
     "name": "stdout",
     "output_type": "stream",
     "text": [
      "Epoch 14/25 - 0.63s - loss: 7.9761 - val_loss: 7.7817\n"
     ]
    },
    {
     "name": "stderr",
     "output_type": "stream",
     "text": [
      "Epoch 15/25: 100%|██████████| 125/125 [00:00<00:00, 217.39it/s, loss=7.5554]\n"
     ]
    },
    {
     "name": "stdout",
     "output_type": "stream",
     "text": [
      "Epoch 15/25 - 0.60s - loss: 7.5554 - val_loss: 7.3911\n"
     ]
    },
    {
     "name": "stderr",
     "output_type": "stream",
     "text": [
      "Epoch 16/25: 100%|██████████| 125/125 [00:00<00:00, 172.88it/s, loss=7.1783]\n"
     ]
    },
    {
     "name": "stdout",
     "output_type": "stream",
     "text": [
      "Epoch 16/25 - 0.75s - loss: 7.1783 - val_loss: 7.0374\n"
     ]
    },
    {
     "name": "stderr",
     "output_type": "stream",
     "text": [
      "Epoch 17/25: 100%|██████████| 125/125 [00:00<00:00, 213.70it/s, loss=6.8388]\n"
     ]
    },
    {
     "name": "stdout",
     "output_type": "stream",
     "text": [
      "Epoch 17/25 - 0.62s - loss: 6.8388 - val_loss: 6.7143\n"
     ]
    },
    {
     "name": "stderr",
     "output_type": "stream",
     "text": [
      "Epoch 18/25: 100%|██████████| 125/125 [00:00<00:00, 210.75it/s, loss=6.5344]\n"
     ]
    },
    {
     "name": "stdout",
     "output_type": "stream",
     "text": [
      "Epoch 18/25 - 0.61s - loss: 6.5344 - val_loss: 6.4310\n"
     ]
    },
    {
     "name": "stderr",
     "output_type": "stream",
     "text": [
      "Epoch 19/25: 100%|██████████| 125/125 [00:00<00:00, 213.41it/s, loss=6.2585]\n"
     ]
    },
    {
     "name": "stdout",
     "output_type": "stream",
     "text": [
      "Epoch 19/25 - 0.60s - loss: 6.2585 - val_loss: 6.1757\n"
     ]
    },
    {
     "name": "stderr",
     "output_type": "stream",
     "text": [
      "Epoch 20/25: 100%|██████████| 125/125 [00:00<00:00, 188.60it/s, loss=6.0087]\n"
     ]
    },
    {
     "name": "stdout",
     "output_type": "stream",
     "text": [
      "Epoch 20/25 - 0.69s - loss: 6.0087 - val_loss: 5.9441\n"
     ]
    },
    {
     "name": "stderr",
     "output_type": "stream",
     "text": [
      "Epoch 21/25: 100%|██████████| 125/125 [00:00<00:00, 206.25it/s, loss=5.7810]\n"
     ]
    },
    {
     "name": "stdout",
     "output_type": "stream",
     "text": [
      "Epoch 21/25 - 0.63s - loss: 5.7810 - val_loss: 5.7326\n"
     ]
    },
    {
     "name": "stderr",
     "output_type": "stream",
     "text": [
      "Epoch 22/25: 100%|██████████| 125/125 [00:00<00:00, 207.99it/s, loss=5.5712]\n"
     ]
    },
    {
     "name": "stdout",
     "output_type": "stream",
     "text": [
      "Epoch 22/25 - 0.62s - loss: 5.5712 - val_loss: 5.5426\n"
     ]
    },
    {
     "name": "stderr",
     "output_type": "stream",
     "text": [
      "Epoch 23/25: 100%|██████████| 125/125 [00:00<00:00, 205.99it/s, loss=5.3768]\n"
     ]
    },
    {
     "name": "stdout",
     "output_type": "stream",
     "text": [
      "Epoch 23/25 - 0.63s - loss: 5.3768 - val_loss: 5.3709\n"
     ]
    },
    {
     "name": "stderr",
     "output_type": "stream",
     "text": [
      "Epoch 24/25: 100%|██████████| 125/125 [00:00<00:00, 195.94it/s, loss=5.1972]\n"
     ]
    },
    {
     "name": "stdout",
     "output_type": "stream",
     "text": [
      "Epoch 24/25 - 0.66s - loss: 5.1972 - val_loss: 5.2088\n"
     ]
    },
    {
     "name": "stderr",
     "output_type": "stream",
     "text": [
      "Epoch 25/25: 100%|██████████| 125/125 [00:00<00:00, 185.36it/s, loss=5.0325]\n"
     ]
    },
    {
     "name": "stdout",
     "output_type": "stream",
     "text": [
      "Epoch 25/25 - 0.70s - loss: 5.0325 - val_loss: 5.0618\n",
      "Test accuracy: 0.5835\n",
      "\n",
      "Activation: <lib.activation.Sigmoid object at 0x00000189D94200E0>\n"
     ]
    },
    {
     "name": "stderr",
     "output_type": "stream",
     "text": [
      "Epoch 1/25: 100%|██████████| 125/125 [00:00<00:00, 202.81it/s, loss=4.3368]\n"
     ]
    },
    {
     "name": "stdout",
     "output_type": "stream",
     "text": [
      "Epoch 1/25 - 0.65s - loss: 4.3368 - val_loss: 4.2267\n"
     ]
    },
    {
     "name": "stderr",
     "output_type": "stream",
     "text": [
      "Epoch 2/25: 100%|██████████| 125/125 [00:00<00:00, 220.62it/s, loss=4.1052]\n"
     ]
    },
    {
     "name": "stdout",
     "output_type": "stream",
     "text": [
      "Epoch 2/25 - 0.59s - loss: 4.1052 - val_loss: 4.0234\n"
     ]
    },
    {
     "name": "stderr",
     "output_type": "stream",
     "text": [
      "Epoch 3/25: 100%|██████████| 125/125 [00:00<00:00, 217.75it/s, loss=3.9256]\n"
     ]
    },
    {
     "name": "stdout",
     "output_type": "stream",
     "text": [
      "Epoch 3/25 - 0.60s - loss: 3.9256 - val_loss: 3.8624\n"
     ]
    },
    {
     "name": "stderr",
     "output_type": "stream",
     "text": [
      "Epoch 4/25: 100%|██████████| 125/125 [00:00<00:00, 176.82it/s, loss=3.7806]\n"
     ]
    },
    {
     "name": "stdout",
     "output_type": "stream",
     "text": [
      "Epoch 4/25 - 0.73s - loss: 3.7806 - val_loss: 3.7300\n"
     ]
    },
    {
     "name": "stderr",
     "output_type": "stream",
     "text": [
      "Epoch 5/25: 100%|██████████| 125/125 [00:00<00:00, 157.23it/s, loss=3.6598]\n"
     ]
    },
    {
     "name": "stdout",
     "output_type": "stream",
     "text": [
      "Epoch 5/25 - 0.83s - loss: 3.6598 - val_loss: 3.6186\n"
     ]
    },
    {
     "name": "stderr",
     "output_type": "stream",
     "text": [
      "Epoch 6/25: 100%|██████████| 125/125 [00:00<00:00, 199.31it/s, loss=3.5567]\n"
     ]
    },
    {
     "name": "stdout",
     "output_type": "stream",
     "text": [
      "Epoch 6/25 - 0.66s - loss: 3.5567 - val_loss: 3.5226\n"
     ]
    },
    {
     "name": "stderr",
     "output_type": "stream",
     "text": [
      "Epoch 7/25: 100%|██████████| 125/125 [00:00<00:00, 181.50it/s, loss=3.4671]\n"
     ]
    },
    {
     "name": "stdout",
     "output_type": "stream",
     "text": [
      "Epoch 7/25 - 0.71s - loss: 3.4671 - val_loss: 3.4387\n"
     ]
    },
    {
     "name": "stderr",
     "output_type": "stream",
     "text": [
      "Epoch 8/25: 100%|██████████| 125/125 [00:00<00:00, 162.31it/s, loss=3.3882]\n"
     ]
    },
    {
     "name": "stdout",
     "output_type": "stream",
     "text": [
      "Epoch 8/25 - 0.80s - loss: 3.3882 - val_loss: 3.3644\n"
     ]
    },
    {
     "name": "stderr",
     "output_type": "stream",
     "text": [
      "Epoch 9/25: 100%|██████████| 125/125 [00:00<00:00, 190.52it/s, loss=3.3179]\n"
     ]
    },
    {
     "name": "stdout",
     "output_type": "stream",
     "text": [
      "Epoch 9/25 - 0.69s - loss: 3.3179 - val_loss: 3.2980\n"
     ]
    },
    {
     "name": "stderr",
     "output_type": "stream",
     "text": [
      "Epoch 10/25: 100%|██████████| 125/125 [00:00<00:00, 206.95it/s, loss=3.2546]\n"
     ]
    },
    {
     "name": "stdout",
     "output_type": "stream",
     "text": [
      "Epoch 10/25 - 0.63s - loss: 3.2546 - val_loss: 3.2381\n"
     ]
    },
    {
     "name": "stderr",
     "output_type": "stream",
     "text": [
      "Epoch 11/25: 100%|██████████| 125/125 [00:00<00:00, 210.57it/s, loss=3.1972]\n"
     ]
    },
    {
     "name": "stdout",
     "output_type": "stream",
     "text": [
      "Epoch 11/25 - 0.61s - loss: 3.1972 - val_loss: 3.1836\n"
     ]
    },
    {
     "name": "stderr",
     "output_type": "stream",
     "text": [
      "Epoch 12/25: 100%|██████████| 125/125 [00:00<00:00, 169.46it/s, loss=3.1448]\n"
     ]
    },
    {
     "name": "stdout",
     "output_type": "stream",
     "text": [
      "Epoch 12/25 - 0.76s - loss: 3.1448 - val_loss: 3.1337\n"
     ]
    },
    {
     "name": "stderr",
     "output_type": "stream",
     "text": [
      "Epoch 13/25: 100%|██████████| 125/125 [00:00<00:00, 204.56it/s, loss=3.0966]\n"
     ]
    },
    {
     "name": "stdout",
     "output_type": "stream",
     "text": [
      "Epoch 13/25 - 0.64s - loss: 3.0966 - val_loss: 3.0878\n"
     ]
    },
    {
     "name": "stderr",
     "output_type": "stream",
     "text": [
      "Epoch 14/25: 100%|██████████| 125/125 [00:00<00:00, 188.88it/s, loss=3.0521]\n"
     ]
    },
    {
     "name": "stdout",
     "output_type": "stream",
     "text": [
      "Epoch 14/25 - 0.70s - loss: 3.0521 - val_loss: 3.0453\n"
     ]
    },
    {
     "name": "stderr",
     "output_type": "stream",
     "text": [
      "Epoch 15/25: 100%|██████████| 125/125 [00:00<00:00, 164.14it/s, loss=3.0106]\n"
     ]
    },
    {
     "name": "stdout",
     "output_type": "stream",
     "text": [
      "Epoch 15/25 - 0.80s - loss: 3.0106 - val_loss: 3.0056\n"
     ]
    },
    {
     "name": "stderr",
     "output_type": "stream",
     "text": [
      "Epoch 16/25: 100%|██████████| 125/125 [00:00<00:00, 166.00it/s, loss=2.9718]\n"
     ]
    },
    {
     "name": "stdout",
     "output_type": "stream",
     "text": [
      "Epoch 16/25 - 0.78s - loss: 2.9718 - val_loss: 2.9685\n"
     ]
    },
    {
     "name": "stderr",
     "output_type": "stream",
     "text": [
      "Epoch 17/25: 100%|██████████| 125/125 [00:00<00:00, 211.86it/s, loss=2.9353]\n"
     ]
    },
    {
     "name": "stdout",
     "output_type": "stream",
     "text": [
      "Epoch 17/25 - 0.62s - loss: 2.9353 - val_loss: 2.9335\n"
     ]
    },
    {
     "name": "stderr",
     "output_type": "stream",
     "text": [
      "Epoch 18/25: 100%|██████████| 125/125 [00:00<00:00, 206.96it/s, loss=2.9008]\n"
     ]
    },
    {
     "name": "stdout",
     "output_type": "stream",
     "text": [
      "Epoch 18/25 - 0.62s - loss: 2.9008 - val_loss: 2.9005\n"
     ]
    },
    {
     "name": "stderr",
     "output_type": "stream",
     "text": [
      "Epoch 19/25: 100%|██████████| 125/125 [00:00<00:00, 206.95it/s, loss=2.8681]\n"
     ]
    },
    {
     "name": "stdout",
     "output_type": "stream",
     "text": [
      "Epoch 19/25 - 0.63s - loss: 2.8681 - val_loss: 2.8691\n"
     ]
    },
    {
     "name": "stderr",
     "output_type": "stream",
     "text": [
      "Epoch 20/25: 100%|██████████| 125/125 [00:00<00:00, 180.12it/s, loss=2.8368]\n"
     ]
    },
    {
     "name": "stdout",
     "output_type": "stream",
     "text": [
      "Epoch 20/25 - 0.73s - loss: 2.8368 - val_loss: 2.8391\n"
     ]
    },
    {
     "name": "stderr",
     "output_type": "stream",
     "text": [
      "Epoch 21/25: 100%|██████████| 125/125 [00:00<00:00, 194.70it/s, loss=2.8069]\n"
     ]
    },
    {
     "name": "stdout",
     "output_type": "stream",
     "text": [
      "Epoch 21/25 - 0.67s - loss: 2.8069 - val_loss: 2.8103\n"
     ]
    },
    {
     "name": "stderr",
     "output_type": "stream",
     "text": [
      "Epoch 22/25: 100%|██████████| 125/125 [00:00<00:00, 203.25it/s, loss=2.7782]\n"
     ]
    },
    {
     "name": "stdout",
     "output_type": "stream",
     "text": [
      "Epoch 22/25 - 0.65s - loss: 2.7782 - val_loss: 2.7827\n"
     ]
    },
    {
     "name": "stderr",
     "output_type": "stream",
     "text": [
      "Epoch 23/25: 100%|██████████| 125/125 [00:00<00:00, 199.04it/s, loss=2.7505]\n"
     ]
    },
    {
     "name": "stdout",
     "output_type": "stream",
     "text": [
      "Epoch 23/25 - 0.65s - loss: 2.7505 - val_loss: 2.7560\n"
     ]
    },
    {
     "name": "stderr",
     "output_type": "stream",
     "text": [
      "Epoch 24/25: 100%|██████████| 125/125 [00:00<00:00, 217.01it/s, loss=2.7237]\n"
     ]
    },
    {
     "name": "stdout",
     "output_type": "stream",
     "text": [
      "Epoch 24/25 - 0.60s - loss: 2.7237 - val_loss: 2.7302\n"
     ]
    },
    {
     "name": "stderr",
     "output_type": "stream",
     "text": [
      "Epoch 25/25: 100%|██████████| 125/125 [00:00<00:00, 185.45it/s, loss=2.6978]\n"
     ]
    },
    {
     "name": "stdout",
     "output_type": "stream",
     "text": [
      "Epoch 25/25 - 0.71s - loss: 2.6978 - val_loss: 2.7052\n",
      "Test accuracy: 0.1893\n",
      "\n",
      "Activation: <lib.activation.Tanh object at 0x00000189D9421E80>\n"
     ]
    },
    {
     "name": "stderr",
     "output_type": "stream",
     "text": [
      "Epoch 1/25: 100%|██████████| 125/125 [00:00<00:00, 190.45it/s, loss=5.7308]\n"
     ]
    },
    {
     "name": "stdout",
     "output_type": "stream",
     "text": [
      "Epoch 1/25 - 0.68s - loss: 5.7308 - val_loss: 5.6241\n"
     ]
    },
    {
     "name": "stderr",
     "output_type": "stream",
     "text": [
      "Epoch 2/25: 100%|██████████| 125/125 [00:00<00:00, 207.64it/s, loss=5.5667]\n"
     ]
    },
    {
     "name": "stdout",
     "output_type": "stream",
     "text": [
      "Epoch 2/25 - 0.63s - loss: 5.5667 - val_loss: 5.4725\n"
     ]
    },
    {
     "name": "stderr",
     "output_type": "stream",
     "text": [
      "Epoch 3/25: 100%|██████████| 125/125 [00:00<00:00, 200.32it/s, loss=5.4087]\n"
     ]
    },
    {
     "name": "stdout",
     "output_type": "stream",
     "text": [
      "Epoch 3/25 - 0.65s - loss: 5.4087 - val_loss: 5.3273\n"
     ]
    },
    {
     "name": "stderr",
     "output_type": "stream",
     "text": [
      "Epoch 4/25: 100%|██████████| 125/125 [00:00<00:00, 162.55it/s, loss=5.2571]\n"
     ]
    },
    {
     "name": "stdout",
     "output_type": "stream",
     "text": [
      "Epoch 4/25 - 0.80s - loss: 5.2571 - val_loss: 5.1887\n"
     ]
    },
    {
     "name": "stderr",
     "output_type": "stream",
     "text": [
      "Epoch 5/25: 100%|██████████| 125/125 [00:00<00:00, 200.64it/s, loss=5.1118]\n"
     ]
    },
    {
     "name": "stdout",
     "output_type": "stream",
     "text": [
      "Epoch 5/25 - 0.65s - loss: 5.1118 - val_loss: 5.0562\n"
     ]
    },
    {
     "name": "stderr",
     "output_type": "stream",
     "text": [
      "Epoch 6/25: 100%|██████████| 125/125 [00:00<00:00, 192.60it/s, loss=4.9727]\n"
     ]
    },
    {
     "name": "stdout",
     "output_type": "stream",
     "text": [
      "Epoch 6/25 - 0.67s - loss: 4.9727 - val_loss: 4.9299\n"
     ]
    },
    {
     "name": "stderr",
     "output_type": "stream",
     "text": [
      "Epoch 7/25: 100%|██████████| 125/125 [00:00<00:00, 218.53it/s, loss=4.8397]\n"
     ]
    },
    {
     "name": "stdout",
     "output_type": "stream",
     "text": [
      "Epoch 7/25 - 0.60s - loss: 4.8397 - val_loss: 4.8094\n"
     ]
    },
    {
     "name": "stderr",
     "output_type": "stream",
     "text": [
      "Epoch 8/25: 100%|██████████| 125/125 [00:00<00:00, 160.35it/s, loss=4.7127]\n"
     ]
    },
    {
     "name": "stdout",
     "output_type": "stream",
     "text": [
      "Epoch 8/25 - 0.80s - loss: 4.7127 - val_loss: 4.6944\n"
     ]
    },
    {
     "name": "stderr",
     "output_type": "stream",
     "text": [
      "Epoch 9/25: 100%|██████████| 125/125 [00:00<00:00, 208.28it/s, loss=4.5914]\n"
     ]
    },
    {
     "name": "stdout",
     "output_type": "stream",
     "text": [
      "Epoch 9/25 - 0.63s - loss: 4.5914 - val_loss: 4.5847\n"
     ]
    },
    {
     "name": "stderr",
     "output_type": "stream",
     "text": [
      "Epoch 10/25: 100%|██████████| 125/125 [00:00<00:00, 190.85it/s, loss=4.4756]\n"
     ]
    },
    {
     "name": "stdout",
     "output_type": "stream",
     "text": [
      "Epoch 10/25 - 0.68s - loss: 4.4756 - val_loss: 4.4799\n"
     ]
    },
    {
     "name": "stderr",
     "output_type": "stream",
     "text": [
      "Epoch 11/25: 100%|██████████| 125/125 [00:00<00:00, 164.45it/s, loss=4.3651]\n"
     ]
    },
    {
     "name": "stdout",
     "output_type": "stream",
     "text": [
      "Epoch 11/25 - 0.79s - loss: 4.3651 - val_loss: 4.3799\n"
     ]
    },
    {
     "name": "stderr",
     "output_type": "stream",
     "text": [
      "Epoch 12/25: 100%|██████████| 125/125 [00:00<00:00, 183.02it/s, loss=4.2597]\n"
     ]
    },
    {
     "name": "stdout",
     "output_type": "stream",
     "text": [
      "Epoch 12/25 - 0.71s - loss: 4.2597 - val_loss: 4.2842\n"
     ]
    },
    {
     "name": "stderr",
     "output_type": "stream",
     "text": [
      "Epoch 13/25: 100%|██████████| 125/125 [00:00<00:00, 175.56it/s, loss=4.1590]\n"
     ]
    },
    {
     "name": "stdout",
     "output_type": "stream",
     "text": [
      "Epoch 13/25 - 0.74s - loss: 4.1590 - val_loss: 4.1927\n"
     ]
    },
    {
     "name": "stderr",
     "output_type": "stream",
     "text": [
      "Epoch 14/25: 100%|██████████| 125/125 [00:00<00:00, 178.57it/s, loss=4.0629]\n"
     ]
    },
    {
     "name": "stdout",
     "output_type": "stream",
     "text": [
      "Epoch 14/25 - 0.73s - loss: 4.0629 - val_loss: 4.1051\n"
     ]
    },
    {
     "name": "stderr",
     "output_type": "stream",
     "text": [
      "Epoch 15/25: 100%|██████████| 125/125 [00:00<00:00, 161.29it/s, loss=3.9711]\n"
     ]
    },
    {
     "name": "stdout",
     "output_type": "stream",
     "text": [
      "Epoch 15/25 - 0.80s - loss: 3.9711 - val_loss: 4.0212\n"
     ]
    },
    {
     "name": "stderr",
     "output_type": "stream",
     "text": [
      "Epoch 16/25: 100%|██████████| 125/125 [00:00<00:00, 212.58it/s, loss=3.8833]\n"
     ]
    },
    {
     "name": "stdout",
     "output_type": "stream",
     "text": [
      "Epoch 16/25 - 0.61s - loss: 3.8833 - val_loss: 3.9407\n"
     ]
    },
    {
     "name": "stderr",
     "output_type": "stream",
     "text": [
      "Epoch 17/25: 100%|██████████| 125/125 [00:00<00:00, 168.24it/s, loss=3.7993]\n"
     ]
    },
    {
     "name": "stdout",
     "output_type": "stream",
     "text": [
      "Epoch 17/25 - 0.77s - loss: 3.7993 - val_loss: 3.8634\n"
     ]
    },
    {
     "name": "stderr",
     "output_type": "stream",
     "text": [
      "Epoch 18/25: 100%|██████████| 125/125 [00:00<00:00, 210.26it/s, loss=3.7188]\n"
     ]
    },
    {
     "name": "stdout",
     "output_type": "stream",
     "text": [
      "Epoch 18/25 - 0.62s - loss: 3.7188 - val_loss: 3.7892\n"
     ]
    },
    {
     "name": "stderr",
     "output_type": "stream",
     "text": [
      "Epoch 19/25: 100%|██████████| 125/125 [00:00<00:00, 191.92it/s, loss=3.6416]\n"
     ]
    },
    {
     "name": "stdout",
     "output_type": "stream",
     "text": [
      "Epoch 19/25 - 0.67s - loss: 3.6416 - val_loss: 3.7177\n"
     ]
    },
    {
     "name": "stderr",
     "output_type": "stream",
     "text": [
      "Epoch 20/25: 100%|██████████| 125/125 [00:00<00:00, 165.59it/s, loss=3.5675]\n"
     ]
    },
    {
     "name": "stdout",
     "output_type": "stream",
     "text": [
      "Epoch 20/25 - 0.78s - loss: 3.5675 - val_loss: 3.6490\n"
     ]
    },
    {
     "name": "stderr",
     "output_type": "stream",
     "text": [
      "Epoch 21/25: 100%|██████████| 125/125 [00:00<00:00, 193.56it/s, loss=3.4962]\n"
     ]
    },
    {
     "name": "stdout",
     "output_type": "stream",
     "text": [
      "Epoch 21/25 - 0.68s - loss: 3.4962 - val_loss: 3.5828\n"
     ]
    },
    {
     "name": "stderr",
     "output_type": "stream",
     "text": [
      "Epoch 22/25: 100%|██████████| 125/125 [00:00<00:00, 184.37it/s, loss=3.4277]\n"
     ]
    },
    {
     "name": "stdout",
     "output_type": "stream",
     "text": [
      "Epoch 22/25 - 0.71s - loss: 3.4277 - val_loss: 3.5190\n"
     ]
    },
    {
     "name": "stderr",
     "output_type": "stream",
     "text": [
      "Epoch 23/25: 100%|██████████| 125/125 [00:00<00:00, 173.11it/s, loss=3.3616]\n"
     ]
    },
    {
     "name": "stdout",
     "output_type": "stream",
     "text": [
      "Epoch 23/25 - 0.75s - loss: 3.3616 - val_loss: 3.4574\n"
     ]
    },
    {
     "name": "stderr",
     "output_type": "stream",
     "text": [
      "Epoch 24/25: 100%|██████████| 125/125 [00:00<00:00, 194.43it/s, loss=3.2980]\n"
     ]
    },
    {
     "name": "stdout",
     "output_type": "stream",
     "text": [
      "Epoch 24/25 - 0.68s - loss: 3.2980 - val_loss: 3.3980\n"
     ]
    },
    {
     "name": "stderr",
     "output_type": "stream",
     "text": [
      "Epoch 25/25: 100%|██████████| 125/125 [00:00<00:00, 133.78it/s, loss=3.2366]\n"
     ]
    },
    {
     "name": "stdout",
     "output_type": "stream",
     "text": [
      "Epoch 25/25 - 0.96s - loss: 3.2366 - val_loss: 3.3407\n",
      "Test accuracy: 0.2890\n"
     ]
    },
    {
     "data": {
      "image/png": "[encoded data removed]",
      "text/plain": [
       "<Figure size 1000x500 with 1 Axes>"
      ]
     },
     "metadata": {},
     "output_type": "display_data"
    },
    {
     "ename": "TypeError",
     "evalue": "the dtypes of parameters x (object) and width (float64) are incompatible",
     "output_type": "error",
     "traceback": [
      "\u001b[1;31m---------------------------------------------------------------------------\u001b[0m",
      "\u001b[1;31mTypeError\u001b[0m                                 Traceback (most recent call last)",
      "File \u001b[1;32md:\\GitHub\\Tugas-Besar-I-ML\\.env\\Lib\\site-packages\\matplotlib\\axes\\_axes.py:2624\u001b[0m, in \u001b[0;36mAxes.bar\u001b[1;34m(self, x, height, width, bottom, align, **kwargs)\u001b[0m\n\u001b[0;32m   2623\u001b[0m \u001b[38;5;28;01mtry\u001b[39;00m:\n\u001b[1;32m-> 2624\u001b[0m     left \u001b[38;5;241m=\u001b[39m \u001b[43mx\u001b[49m\u001b[43m \u001b[49m\u001b[38;5;241;43m-\u001b[39;49m\u001b[43m \u001b[49m\u001b[43mwidth\u001b[49m\u001b[43m \u001b[49m\u001b[38;5;241;43m/\u001b[39;49m\u001b[43m \u001b[49m\u001b[38;5;241;43m2\u001b[39;49m\n\u001b[0;32m   2625\u001b[0m \u001b[38;5;28;01mexcept\u001b[39;00m \u001b[38;5;167;01mTypeError\u001b[39;00m \u001b[38;5;28;01mas\u001b[39;00m e:\n",
      "\u001b[1;31mTypeError\u001b[0m: unsupported operand type(s) for -: 'Linear' and 'float'",
      "\nThe above exception was the direct cause of the following exception:\n",
      "\u001b[1;31mTypeError\u001b[0m                                 Traceback (most recent call last)",
      "Cell \u001b[1;32mIn[15], line 63\u001b[0m\n\u001b[0;32m     61\u001b[0m \u001b[38;5;66;03m# Compare test accuracies\u001b[39;00m\n\u001b[0;32m     62\u001b[0m plt\u001b[38;5;241m.\u001b[39mfigure(figsize\u001b[38;5;241m=\u001b[39m(\u001b[38;5;241m10\u001b[39m, \u001b[38;5;241m5\u001b[39m))\n\u001b[1;32m---> 63\u001b[0m \u001b[43mplt\u001b[49m\u001b[38;5;241;43m.\u001b[39;49m\u001b[43mbar\u001b[49m\u001b[43m(\u001b[49m\u001b[43m[\u001b[49m\u001b[43mact\u001b[49m\u001b[43m \u001b[49m\u001b[38;5;28;43;01mfor\u001b[39;49;00m\u001b[43m \u001b[49m\u001b[43mact\u001b[49m\u001b[43m \u001b[49m\u001b[38;5;129;43;01min\u001b[39;49;00m\u001b[43m \u001b[49m\u001b[43mactivation_functions\u001b[49m\u001b[43m]\u001b[49m\u001b[43m,\u001b[49m\u001b[43m \u001b[49m\u001b[43mactivation_accuracies\u001b[49m\u001b[43m)\u001b[49m\n\u001b[0;32m     64\u001b[0m plt\u001b[38;5;241m.\u001b[39mtitle(\u001b[38;5;124m'\u001b[39m\u001b[38;5;124mTest Accuracy vs Activation Function\u001b[39m\u001b[38;5;124m'\u001b[39m)\n\u001b[0;32m     65\u001b[0m plt\u001b[38;5;241m.\u001b[39mxlabel(\u001b[38;5;124m'\u001b[39m\u001b[38;5;124mActivation Function\u001b[39m\u001b[38;5;124m'\u001b[39m)\n",
      "File \u001b[1;32md:\\GitHub\\Tugas-Besar-I-ML\\.env\\Lib\\site-packages\\matplotlib\\pyplot.py:2979\u001b[0m, in \u001b[0;36mbar\u001b[1;34m(x, height, width, bottom, align, data, **kwargs)\u001b[0m\n\u001b[0;32m   2968\u001b[0m \u001b[38;5;129m@_copy_docstring_and_deprecators\u001b[39m(Axes\u001b[38;5;241m.\u001b[39mbar)\n\u001b[0;32m   2969\u001b[0m \u001b[38;5;28;01mdef\u001b[39;00m\u001b[38;5;250m \u001b[39m\u001b[38;5;21mbar\u001b[39m(\n\u001b[0;32m   2970\u001b[0m     x: \u001b[38;5;28mfloat\u001b[39m \u001b[38;5;241m|\u001b[39m ArrayLike,\n\u001b[1;32m   (...)\u001b[0m\n\u001b[0;32m   2977\u001b[0m     \u001b[38;5;241m*\u001b[39m\u001b[38;5;241m*\u001b[39mkwargs,\n\u001b[0;32m   2978\u001b[0m ) \u001b[38;5;241m-\u001b[39m\u001b[38;5;241m>\u001b[39m BarContainer:\n\u001b[1;32m-> 2979\u001b[0m     \u001b[38;5;28;01mreturn\u001b[39;00m \u001b[43mgca\u001b[49m\u001b[43m(\u001b[49m\u001b[43m)\u001b[49m\u001b[38;5;241;43m.\u001b[39;49m\u001b[43mbar\u001b[49m\u001b[43m(\u001b[49m\n\u001b[0;32m   2980\u001b[0m \u001b[43m        \u001b[49m\u001b[43mx\u001b[49m\u001b[43m,\u001b[49m\n\u001b[0;32m   2981\u001b[0m \u001b[43m        \u001b[49m\u001b[43mheight\u001b[49m\u001b[43m,\u001b[49m\n\u001b[0;32m   2982\u001b[0m \u001b[43m        \u001b[49m\u001b[43mwidth\u001b[49m\u001b[38;5;241;43m=\u001b[39;49m\u001b[43mwidth\u001b[49m\u001b[43m,\u001b[49m\n\u001b[0;32m   2983\u001b[0m \u001b[43m        \u001b[49m\u001b[43mbottom\u001b[49m\u001b[38;5;241;43m=\u001b[39;49m\u001b[43mbottom\u001b[49m\u001b[43m,\u001b[49m\n\u001b[0;32m   2984\u001b[0m \u001b[43m        \u001b[49m\u001b[43malign\u001b[49m\u001b[38;5;241;43m=\u001b[39;49m\u001b[43malign\u001b[49m\u001b[43m,\u001b[49m\n\u001b[0;32m   2985\u001b[0m \u001b[43m        \u001b[49m\u001b[38;5;241;43m*\u001b[39;49m\u001b[38;5;241;43m*\u001b[39;49m\u001b[43m(\u001b[49m\u001b[43m{\u001b[49m\u001b[38;5;124;43m\"\u001b[39;49m\u001b[38;5;124;43mdata\u001b[39;49m\u001b[38;5;124;43m\"\u001b[39;49m\u001b[43m:\u001b[49m\u001b[43m \u001b[49m\u001b[43mdata\u001b[49m\u001b[43m}\u001b[49m\u001b[43m \u001b[49m\u001b[38;5;28;43;01mif\u001b[39;49;00m\u001b[43m \u001b[49m\u001b[43mdata\u001b[49m\u001b[43m \u001b[49m\u001b[38;5;129;43;01mis\u001b[39;49;00m\u001b[43m \u001b[49m\u001b[38;5;129;43;01mnot\u001b[39;49;00m\u001b[43m \u001b[49m\u001b[38;5;28;43;01mNone\u001b[39;49;00m\u001b[43m \u001b[49m\u001b[38;5;28;43;01melse\u001b[39;49;00m\u001b[43m \u001b[49m\u001b[43m{\u001b[49m\u001b[43m}\u001b[49m\u001b[43m)\u001b[49m\u001b[43m,\u001b[49m\n\u001b[0;32m   2986\u001b[0m \u001b[43m        \u001b[49m\u001b[38;5;241;43m*\u001b[39;49m\u001b[38;5;241;43m*\u001b[39;49m\u001b[43mkwargs\u001b[49m\u001b[43m,\u001b[49m\n\u001b[0;32m   2987\u001b[0m \u001b[43m    \u001b[49m\u001b[43m)\u001b[49m\n",
      "File \u001b[1;32md:\\GitHub\\Tugas-Besar-I-ML\\.env\\Lib\\site-packages\\matplotlib\\__init__.py:1521\u001b[0m, in \u001b[0;36m_preprocess_data.<locals>.inner\u001b[1;34m(ax, data, *args, **kwargs)\u001b[0m\n\u001b[0;32m   1518\u001b[0m \u001b[38;5;129m@functools\u001b[39m\u001b[38;5;241m.\u001b[39mwraps(func)\n\u001b[0;32m   1519\u001b[0m \u001b[38;5;28;01mdef\u001b[39;00m\u001b[38;5;250m \u001b[39m\u001b[38;5;21minner\u001b[39m(ax, \u001b[38;5;241m*\u001b[39margs, data\u001b[38;5;241m=\u001b[39m\u001b[38;5;28;01mNone\u001b[39;00m, \u001b[38;5;241m*\u001b[39m\u001b[38;5;241m*\u001b[39mkwargs):\n\u001b[0;32m   1520\u001b[0m     \u001b[38;5;28;01mif\u001b[39;00m data \u001b[38;5;129;01mis\u001b[39;00m \u001b[38;5;28;01mNone\u001b[39;00m:\n\u001b[1;32m-> 1521\u001b[0m         \u001b[38;5;28;01mreturn\u001b[39;00m \u001b[43mfunc\u001b[49m\u001b[43m(\u001b[49m\n\u001b[0;32m   1522\u001b[0m \u001b[43m            \u001b[49m\u001b[43max\u001b[49m\u001b[43m,\u001b[49m\n\u001b[0;32m   1523\u001b[0m \u001b[43m            \u001b[49m\u001b[38;5;241;43m*\u001b[39;49m\u001b[38;5;28;43mmap\u001b[39;49m\u001b[43m(\u001b[49m\u001b[43mcbook\u001b[49m\u001b[38;5;241;43m.\u001b[39;49m\u001b[43msanitize_sequence\u001b[49m\u001b[43m,\u001b[49m\u001b[43m \u001b[49m\u001b[43margs\u001b[49m\u001b[43m)\u001b[49m\u001b[43m,\u001b[49m\n\u001b[0;32m   1524\u001b[0m \u001b[43m            \u001b[49m\u001b[38;5;241;43m*\u001b[39;49m\u001b[38;5;241;43m*\u001b[39;49m\u001b[43m{\u001b[49m\u001b[43mk\u001b[49m\u001b[43m:\u001b[49m\u001b[43m \u001b[49m\u001b[43mcbook\u001b[49m\u001b[38;5;241;43m.\u001b[39;49m\u001b[43msanitize_sequence\u001b[49m\u001b[43m(\u001b[49m\u001b[43mv\u001b[49m\u001b[43m)\u001b[49m\u001b[43m \u001b[49m\u001b[38;5;28;43;01mfor\u001b[39;49;00m\u001b[43m \u001b[49m\u001b[43mk\u001b[49m\u001b[43m,\u001b[49m\u001b[43m \u001b[49m\u001b[43mv\u001b[49m\u001b[43m \u001b[49m\u001b[38;5;129;43;01min\u001b[39;49;00m\u001b[43m \u001b[49m\u001b[43mkwargs\u001b[49m\u001b[38;5;241;43m.\u001b[39;49m\u001b[43mitems\u001b[49m\u001b[43m(\u001b[49m\u001b[43m)\u001b[49m\u001b[43m}\u001b[49m\u001b[43m)\u001b[49m\n\u001b[0;32m   1526\u001b[0m     bound \u001b[38;5;241m=\u001b[39m new_sig\u001b[38;5;241m.\u001b[39mbind(ax, \u001b[38;5;241m*\u001b[39margs, \u001b[38;5;241m*\u001b[39m\u001b[38;5;241m*\u001b[39mkwargs)\n\u001b[0;32m   1527\u001b[0m     auto_label \u001b[38;5;241m=\u001b[39m (bound\u001b[38;5;241m.\u001b[39marguments\u001b[38;5;241m.\u001b[39mget(label_namer)\n\u001b[0;32m   1528\u001b[0m                   \u001b[38;5;129;01mor\u001b[39;00m bound\u001b[38;5;241m.\u001b[39mkwargs\u001b[38;5;241m.\u001b[39mget(label_namer))\n",
      "File \u001b[1;32md:\\GitHub\\Tugas-Besar-I-ML\\.env\\Lib\\site-packages\\matplotlib\\axes\\_axes.py:2626\u001b[0m, in \u001b[0;36mAxes.bar\u001b[1;34m(self, x, height, width, bottom, align, **kwargs)\u001b[0m\n\u001b[0;32m   2624\u001b[0m         left \u001b[38;5;241m=\u001b[39m x \u001b[38;5;241m-\u001b[39m width \u001b[38;5;241m/\u001b[39m \u001b[38;5;241m2\u001b[39m\n\u001b[0;32m   2625\u001b[0m     \u001b[38;5;28;01mexcept\u001b[39;00m \u001b[38;5;167;01mTypeError\u001b[39;00m \u001b[38;5;28;01mas\u001b[39;00m e:\n\u001b[1;32m-> 2626\u001b[0m         \u001b[38;5;28;01mraise\u001b[39;00m \u001b[38;5;167;01mTypeError\u001b[39;00m(\u001b[38;5;124mf\u001b[39m\u001b[38;5;124m'\u001b[39m\u001b[38;5;124mthe dtypes of parameters x (\u001b[39m\u001b[38;5;132;01m{\u001b[39;00mx\u001b[38;5;241m.\u001b[39mdtype\u001b[38;5;132;01m}\u001b[39;00m\u001b[38;5;124m) \u001b[39m\u001b[38;5;124m'\u001b[39m\n\u001b[0;32m   2627\u001b[0m                         \u001b[38;5;124mf\u001b[39m\u001b[38;5;124m'\u001b[39m\u001b[38;5;124mand width (\u001b[39m\u001b[38;5;132;01m{\u001b[39;00mwidth\u001b[38;5;241m.\u001b[39mdtype\u001b[38;5;132;01m}\u001b[39;00m\u001b[38;5;124m) \u001b[39m\u001b[38;5;124m'\u001b[39m\n\u001b[0;32m   2628\u001b[0m                         \u001b[38;5;124mf\u001b[39m\u001b[38;5;124m'\u001b[39m\u001b[38;5;124mare incompatible\u001b[39m\u001b[38;5;124m'\u001b[39m) \u001b[38;5;28;01mfrom\u001b[39;00m\u001b[38;5;250m \u001b[39m\u001b[38;5;21;01me\u001b[39;00m\n\u001b[0;32m   2629\u001b[0m     bottom \u001b[38;5;241m=\u001b[39m y\n\u001b[0;32m   2630\u001b[0m \u001b[38;5;28;01melse\u001b[39;00m:  \u001b[38;5;66;03m# horizontal\u001b[39;00m\n",
      "\u001b[1;31mTypeError\u001b[0m: the dtypes of parameters x (object) and width (float64) are incompatible"
     ]
    },
    {
     "data": {
      "image/png": "[encoded data removed]",
      "text/plain": [
       "<Figure size 1000x500 with 1 Axes>"
      ]
     },
     "metadata": {},
     "output_type": "display_data"
    }
   ],
   "source": [
    "# Define base architecture\n",
    "architecture = [784, 128, 10]\n",
    "\n",
    "# Define activation functions to test (for hidden layers)\n",
    "activation_functions = [Linear, ReLU, Sigmoid, Tanh]\n",
    "activation_functions = [f() for f in activation_functions]\n",
    "\n",
    "# Test different activation functions\n",
    "activation_histories = []\n",
    "activation_accuracies = []\n",
    "activation_models = []\n",
    "\n",
    "print(\"Testing activation functions...\")\n",
    "for activation in activation_functions:\n",
    "    print(f\"\\nActivation: {activation}\")\n",
    "    \n",
    "    # Create activations list (output layer uses Softmax)\n",
    "    activations = [activation] + [Softmax()]\n",
    "    \n",
    "    # Create neural network\n",
    "    network = NeuralNetwork(\n",
    "        node_counts=architecture,\n",
    "        activations=activations,\n",
    "        loss_function=base_config['loss_function'],\n",
    "        initialize_method=base_config['initializer']\n",
    "    )\n",
    "    \n",
    "    # Create FFNN model\n",
    "    model = FFNN(network)\n",
    "    \n",
    "    # Train the model\n",
    "    history = model.fit(\n",
    "        X_train_ffnn, y_train_ffnn,\n",
    "        batch_size=base_config['batch_size'],\n",
    "        epochs=base_config['epochs'] ** 2,\n",
    "        validation_data=(X_val, y_val),\n",
    "        learning_rate=base_config['learning_rate'],\n",
    "        verbose=1\n",
    "    )\n",
    "    \n",
    "    # Store results\n",
    "    activation_histories.append(history)\n",
    "    activation_models.append(model)\n",
    "    \n",
    "    # Evaluate on test set\n",
    "    accuracy = evaluate_model(model, X_test, y_test_onehot)\n",
    "    activation_accuracies.append(accuracy)\n",
    "    print(f\"Test accuracy: {accuracy:.4f}\")\n",
    "\n",
    "# Plot training loss\n",
    "plt.figure(figsize=(10, 5))\n",
    "for i, history in enumerate(activation_histories):\n",
    "    plt.plot(history['train_loss'], label=f\"{activation_functions[i]}\")\n",
    "plt.title('Training Loss vs Activation Function')\n",
    "plt.xlabel('Epoch')\n",
    "plt.ylabel('Loss')\n",
    "plt.legend()\n",
    "plt.grid(True, alpha=0.3)\n",
    "plt.show()\n",
    "\n",
    "# Compare test accuracies\n",
    "plt.figure(figsize=(10, 5))\n",
    "plt.bar([act for act in activation_functions], activation_accuracies)\n",
    "plt.title('Test Accuracy vs Activation Function')\n",
    "plt.xlabel('Activation Function')\n",
    "plt.ylabel('Accuracy')\n",
    "plt.ylim(0, 1)\n",
    "plt.show()\n",
    "\n",
    "# Plot weight distributions\n",
    "plt.figure(figsize=(15, 5))\n",
    "for i, model in enumerate(activation_models):\n",
    "    plt.subplot(1, len(activation_models), i+1)\n",
    "    weights = model.network.weights[0].flatten()\n",
    "    plt.hist(weights, bins=30, alpha=0.7)\n",
    "    plt.title(f\"{activation_functions[i]} Weights\")\n",
    "    plt.xlabel(\"Weight Value\")\n",
    "    plt.ylabel(\"Frequency\")\n",
    "plt.tight_layout()\n",
    "plt.show()\n",
    "\n",
    "# Plot gradient distributions\n",
    "plt.figure(figsize=(15, 5))\n",
    "for i, model in enumerate(activation_models):\n",
    "    plt.subplot(1, len(activation_models), i+1)\n",
    "    gradients = model.network.gradients[0].flatten()\n",
    "    plt.hist(gradients, bins=30, alpha=0.7)\n",
    "    plt.title(f\"{activation_functions[i]} Gradients\")\n",
    "    plt.xlabel(\"Gradient Value\")\n",
    "    plt.ylabel(\"Frequency\")\n",
    "plt.tight_layout()\n",
    "plt.show()"
   ]
  },
  {
   "cell_type": "code",
   "execution_count": 17,
   "metadata": {},
   "outputs": [
    {
     "name": "stdout",
     "output_type": "stream",
     "text": [
      "Testing learning rates...\n",
      "\n",
      "Learning Rate: 0.001\n"
     ]
    },
    {
     "name": "stderr",
     "output_type": "stream",
     "text": [
      "Epoch 1/15: 100%|██████████| 125/125 [00:00<00:00, 186.23it/s, loss=22.8123]\n"
     ]
    },
    {
     "name": "stdout",
     "output_type": "stream",
     "text": [
      "Epoch 1/15 - 0.70s - loss: 22.8123 - val_loss: 22.8407\n"
     ]
    },
    {
     "name": "stderr",
     "output_type": "stream",
     "text": [
      "Epoch 2/15: 100%|██████████| 125/125 [00:00<00:00, 171.71it/s, loss=22.5764]\n"
     ]
    },
    {
     "name": "stdout",
     "output_type": "stream",
     "text": [
      "Epoch 2/15 - 0.76s - loss: 22.5764 - val_loss: 22.6183\n"
     ]
    },
    {
     "name": "stderr",
     "output_type": "stream",
     "text": [
      "Epoch 3/15: 100%|██████████| 125/125 [00:00<00:00, 219.69it/s, loss=22.3447]\n"
     ]
    },
    {
     "name": "stdout",
     "output_type": "stream",
     "text": [
      "Epoch 3/15 - 0.59s - loss: 22.3447 - val_loss: 22.3968\n"
     ]
    },
    {
     "name": "stderr",
     "output_type": "stream",
     "text": [
      "Epoch 4/15: 100%|██████████| 125/125 [00:00<00:00, 223.61it/s, loss=22.1154]\n"
     ]
    },
    {
     "name": "stdout",
     "output_type": "stream",
     "text": [
      "Epoch 4/15 - 0.58s - loss: 22.1154 - val_loss: 22.1771\n"
     ]
    },
    {
     "name": "stderr",
     "output_type": "stream",
     "text": [
      "Epoch 5/15: 100%|██████████| 125/125 [00:00<00:00, 216.64it/s, loss=21.8906]\n"
     ]
    },
    {
     "name": "stdout",
     "output_type": "stream",
     "text": [
      "Epoch 5/15 - 0.60s - loss: 21.8906 - val_loss: 21.9554\n"
     ]
    },
    {
     "name": "stderr",
     "output_type": "stream",
     "text": [
      "Epoch 6/15: 100%|██████████| 125/125 [00:00<00:00, 180.90it/s, loss=21.6690]\n"
     ]
    },
    {
     "name": "stdout",
     "output_type": "stream",
     "text": [
      "Epoch 6/15 - 0.72s - loss: 21.6690 - val_loss: 21.7360\n"
     ]
    },
    {
     "name": "stderr",
     "output_type": "stream",
     "text": [
      "Epoch 7/15: 100%|██████████| 125/125 [00:00<00:00, 211.50it/s, loss=21.4494]\n"
     ]
    },
    {
     "name": "stdout",
     "output_type": "stream",
     "text": [
      "Epoch 7/15 - 0.61s - loss: 21.4494 - val_loss: 21.5191\n"
     ]
    },
    {
     "name": "stderr",
     "output_type": "stream",
     "text": [
      "Epoch 8/15: 100%|██████████| 125/125 [00:00<00:00, 217.01it/s, loss=21.2330]\n"
     ]
    },
    {
     "name": "stdout",
     "output_type": "stream",
     "text": [
      "Epoch 8/15 - 0.60s - loss: 21.2330 - val_loss: 21.3049\n"
     ]
    },
    {
     "name": "stderr",
     "output_type": "stream",
     "text": [
      "Epoch 9/15: 100%|██████████| 125/125 [00:00<00:00, 205.59it/s, loss=21.0190]\n"
     ]
    },
    {
     "name": "stdout",
     "output_type": "stream",
     "text": [
      "Epoch 9/15 - 0.63s - loss: 21.0190 - val_loss: 21.0927\n"
     ]
    },
    {
     "name": "stderr",
     "output_type": "stream",
     "text": [
      "Epoch 10/15: 100%|██████████| 125/125 [00:00<00:00, 162.76it/s, loss=20.8095]\n"
     ]
    },
    {
     "name": "stdout",
     "output_type": "stream",
     "text": [
      "Epoch 10/15 - 0.79s - loss: 20.8095 - val_loss: 20.8820\n"
     ]
    },
    {
     "name": "stderr",
     "output_type": "stream",
     "text": [
      "Epoch 11/15: 100%|██████████| 125/125 [00:00<00:00, 184.63it/s, loss=20.6011]\n"
     ]
    },
    {
     "name": "stdout",
     "output_type": "stream",
     "text": [
      "Epoch 11/15 - 0.71s - loss: 20.6011 - val_loss: 20.6728\n"
     ]
    },
    {
     "name": "stderr",
     "output_type": "stream",
     "text": [
      "Epoch 12/15: 100%|██████████| 125/125 [00:00<00:00, 196.75it/s, loss=20.3946]\n"
     ]
    },
    {
     "name": "stdout",
     "output_type": "stream",
     "text": [
      "Epoch 12/15 - 0.66s - loss: 20.3946 - val_loss: 20.4658\n"
     ]
    },
    {
     "name": "stderr",
     "output_type": "stream",
     "text": [
      "Epoch 13/15: 100%|██████████| 125/125 [00:00<00:00, 166.00it/s, loss=20.1898]\n"
     ]
    },
    {
     "name": "stdout",
     "output_type": "stream",
     "text": [
      "Epoch 13/15 - 0.78s - loss: 20.1898 - val_loss: 20.2618\n"
     ]
    },
    {
     "name": "stderr",
     "output_type": "stream",
     "text": [
      "Epoch 14/15: 100%|██████████| 125/125 [00:00<00:00, 176.30it/s, loss=19.9861]\n"
     ]
    },
    {
     "name": "stdout",
     "output_type": "stream",
     "text": [
      "Epoch 14/15 - 0.73s - loss: 19.9861 - val_loss: 20.0617\n"
     ]
    },
    {
     "name": "stderr",
     "output_type": "stream",
     "text": [
      "Epoch 15/15: 100%|██████████| 125/125 [00:00<00:00, 223.89it/s, loss=19.7838]\n"
     ]
    },
    {
     "name": "stdout",
     "output_type": "stream",
     "text": [
      "Epoch 15/15 - 0.59s - loss: 19.7838 - val_loss: 19.8637\n",
      "Test accuracy: 0.1234\n",
      "\n",
      "Learning Rate: 0.01\n"
     ]
    },
    {
     "name": "stderr",
     "output_type": "stream",
     "text": [
      "Epoch 1/15: 100%|██████████| 125/125 [00:00<00:00, 225.75it/s, loss=21.8329]\n"
     ]
    },
    {
     "name": "stdout",
     "output_type": "stream",
     "text": [
      "Epoch 1/15 - 0.57s - loss: 21.8329 - val_loss: 20.8884\n"
     ]
    },
    {
     "name": "stderr",
     "output_type": "stream",
     "text": [
      "Epoch 2/15: 100%|██████████| 125/125 [00:00<00:00, 204.16it/s, loss=19.7292]\n"
     ]
    },
    {
     "name": "stdout",
     "output_type": "stream",
     "text": [
      "Epoch 2/15 - 0.63s - loss: 19.7292 - val_loss: 18.8961\n"
     ]
    },
    {
     "name": "stderr",
     "output_type": "stream",
     "text": [
      "Epoch 3/15: 100%|██████████| 125/125 [00:00<00:00, 207.42it/s, loss=17.8579]\n"
     ]
    },
    {
     "name": "stdout",
     "output_type": "stream",
     "text": [
      "Epoch 3/15 - 0.63s - loss: 17.8579 - val_loss: 17.1537\n"
     ]
    },
    {
     "name": "stderr",
     "output_type": "stream",
     "text": [
      "Epoch 4/15: 100%|██████████| 125/125 [00:00<00:00, 164.89it/s, loss=16.2584]\n"
     ]
    },
    {
     "name": "stdout",
     "output_type": "stream",
     "text": [
      "Epoch 4/15 - 0.78s - loss: 16.2584 - val_loss: 15.6751\n"
     ]
    },
    {
     "name": "stderr",
     "output_type": "stream",
     "text": [
      "Epoch 5/15: 100%|██████████| 125/125 [00:00<00:00, 212.22it/s, loss=14.9193]\n"
     ]
    },
    {
     "name": "stdout",
     "output_type": "stream",
     "text": [
      "Epoch 5/15 - 0.62s - loss: 14.9193 - val_loss: 14.3961\n"
     ]
    },
    {
     "name": "stderr",
     "output_type": "stream",
     "text": [
      "Epoch 6/15: 100%|██████████| 125/125 [00:00<00:00, 198.41it/s, loss=13.7449]\n"
     ]
    },
    {
     "name": "stdout",
     "output_type": "stream",
     "text": [
      "Epoch 6/15 - 0.65s - loss: 13.7449 - val_loss: 13.2553\n"
     ]
    },
    {
     "name": "stderr",
     "output_type": "stream",
     "text": [
      "Epoch 7/15: 100%|██████████| 125/125 [00:00<00:00, 203.58it/s, loss=12.7073]\n"
     ]
    },
    {
     "name": "stdout",
     "output_type": "stream",
     "text": [
      "Epoch 7/15 - 0.64s - loss: 12.7073 - val_loss: 12.2500\n"
     ]
    },
    {
     "name": "stderr",
     "output_type": "stream",
     "text": [
      "Epoch 8/15: 100%|██████████| 125/125 [00:00<00:00, 158.23it/s, loss=11.7902]\n"
     ]
    },
    {
     "name": "stdout",
     "output_type": "stream",
     "text": [
      "Epoch 8/15 - 0.81s - loss: 11.7902 - val_loss: 11.3586\n"
     ]
    },
    {
     "name": "stderr",
     "output_type": "stream",
     "text": [
      "Epoch 9/15: 100%|██████████| 125/125 [00:00<00:00, 159.24it/s, loss=10.9705]\n"
     ]
    },
    {
     "name": "stdout",
     "output_type": "stream",
     "text": [
      "Epoch 9/15 - 0.81s - loss: 10.9705 - val_loss: 10.5720\n"
     ]
    },
    {
     "name": "stderr",
     "output_type": "stream",
     "text": [
      "Epoch 10/15: 100%|██████████| 125/125 [00:00<00:00, 194.40it/s, loss=10.2333]\n"
     ]
    },
    {
     "name": "stdout",
     "output_type": "stream",
     "text": [
      "Epoch 10/15 - 0.67s - loss: 10.2333 - val_loss: 9.8699\n"
     ]
    },
    {
     "name": "stderr",
     "output_type": "stream",
     "text": [
      "Epoch 11/15: 100%|██████████| 125/125 [00:00<00:00, 220.45it/s, loss=9.5689]\n"
     ]
    },
    {
     "name": "stdout",
     "output_type": "stream",
     "text": [
      "Epoch 11/15 - 0.60s - loss: 9.5689 - val_loss: 9.2448\n"
     ]
    },
    {
     "name": "stderr",
     "output_type": "stream",
     "text": [
      "Epoch 12/15: 100%|██████████| 125/125 [00:00<00:00, 164.91it/s, loss=8.9746]\n"
     ]
    },
    {
     "name": "stdout",
     "output_type": "stream",
     "text": [
      "Epoch 12/15 - 0.78s - loss: 8.9746 - val_loss: 8.6971\n"
     ]
    },
    {
     "name": "stderr",
     "output_type": "stream",
     "text": [
      "Epoch 13/15: 100%|██████████| 125/125 [00:00<00:00, 207.68it/s, loss=8.4469]\n"
     ]
    },
    {
     "name": "stdout",
     "output_type": "stream",
     "text": [
      "Epoch 13/15 - 0.63s - loss: 8.4469 - val_loss: 8.2145\n"
     ]
    },
    {
     "name": "stderr",
     "output_type": "stream",
     "text": [
      "Epoch 14/15: 100%|██████████| 125/125 [00:00<00:00, 207.30it/s, loss=7.9767]\n"
     ]
    },
    {
     "name": "stdout",
     "output_type": "stream",
     "text": [
      "Epoch 14/15 - 0.63s - loss: 7.9767 - val_loss: 7.7821\n"
     ]
    },
    {
     "name": "stderr",
     "output_type": "stream",
     "text": [
      "Epoch 15/15: 100%|██████████| 125/125 [00:00<00:00, 189.11it/s, loss=7.5565]\n"
     ]
    },
    {
     "name": "stdout",
     "output_type": "stream",
     "text": [
      "Epoch 15/15 - 0.68s - loss: 7.5565 - val_loss: 7.3928\n",
      "Test accuracy: 0.4590\n",
      "\n",
      "Learning Rate: 0.1\n"
     ]
    },
    {
     "name": "stderr",
     "output_type": "stream",
     "text": [
      "Epoch 1/15: 100%|██████████| 125/125 [00:00<00:00, 168.39it/s, loss=15.2665]\n"
     ]
    },
    {
     "name": "stdout",
     "output_type": "stream",
     "text": [
      "Epoch 1/15 - 0.76s - loss: 15.2665 - val_loss: 9.7399\n"
     ]
    },
    {
     "name": "stderr",
     "output_type": "stream",
     "text": [
      "Epoch 2/15: 100%|██████████| 125/125 [00:00<00:00, 172.03it/s, loss=7.6348]\n"
     ]
    },
    {
     "name": "stdout",
     "output_type": "stream",
     "text": [
      "Epoch 2/15 - 0.75s - loss: 7.6348 - val_loss: 5.8506\n"
     ]
    },
    {
     "name": "stderr",
     "output_type": "stream",
     "text": [
      "Epoch 3/15: 100%|██████████| 125/125 [00:00<00:00, 192.01it/s, loss=5.0891]\n"
     ]
    },
    {
     "name": "stdout",
     "output_type": "stream",
     "text": [
      "Epoch 3/15 - 0.67s - loss: 5.0891 - val_loss: 4.3872\n"
     ]
    },
    {
     "name": "stderr",
     "output_type": "stream",
     "text": [
      "Epoch 4/15: 100%|██████████| 125/125 [00:00<00:00, 159.85it/s, loss=3.9294]\n"
     ]
    },
    {
     "name": "stdout",
     "output_type": "stream",
     "text": [
      "Epoch 4/15 - 0.82s - loss: 3.9294 - val_loss: 3.6725\n"
     ]
    },
    {
     "name": "stderr",
     "output_type": "stream",
     "text": [
      "Epoch 5/15: 100%|██████████| 125/125 [00:00<00:00, 141.70it/s, loss=3.2031]\n"
     ]
    },
    {
     "name": "stdout",
     "output_type": "stream",
     "text": [
      "Epoch 5/15 - 0.92s - loss: 3.2031 - val_loss: 3.1413\n"
     ]
    },
    {
     "name": "stderr",
     "output_type": "stream",
     "text": [
      "Epoch 6/15: 100%|██████████| 125/125 [00:00<00:00, 177.81it/s, loss=2.7035]\n"
     ]
    },
    {
     "name": "stdout",
     "output_type": "stream",
     "text": [
      "Epoch 6/15 - 0.73s - loss: 2.7035 - val_loss: 2.7865\n"
     ]
    },
    {
     "name": "stderr",
     "output_type": "stream",
     "text": [
      "Epoch 7/15: 100%|██████████| 125/125 [00:00<00:00, 158.63it/s, loss=2.3429]\n"
     ]
    },
    {
     "name": "stdout",
     "output_type": "stream",
     "text": [
      "Epoch 7/15 - 0.81s - loss: 2.3429 - val_loss: 2.5212\n"
     ]
    },
    {
     "name": "stderr",
     "output_type": "stream",
     "text": [
      "Epoch 8/15: 100%|██████████| 125/125 [00:00<00:00, 186.84it/s, loss=2.0769]\n"
     ]
    },
    {
     "name": "stdout",
     "output_type": "stream",
     "text": [
      "Epoch 8/15 - 0.70s - loss: 2.0769 - val_loss: 2.3293\n"
     ]
    },
    {
     "name": "stderr",
     "output_type": "stream",
     "text": [
      "Epoch 9/15: 100%|██████████| 125/125 [00:00<00:00, 156.23it/s, loss=1.8634]\n"
     ]
    },
    {
     "name": "stdout",
     "output_type": "stream",
     "text": [
      "Epoch 9/15 - 0.83s - loss: 1.8634 - val_loss: 2.1777\n"
     ]
    },
    {
     "name": "stderr",
     "output_type": "stream",
     "text": [
      "Epoch 10/15: 100%|██████████| 125/125 [00:00<00:00, 193.70it/s, loss=1.7013]\n"
     ]
    },
    {
     "name": "stdout",
     "output_type": "stream",
     "text": [
      "Epoch 10/15 - 0.68s - loss: 1.7013 - val_loss: 2.0569\n"
     ]
    },
    {
     "name": "stderr",
     "output_type": "stream",
     "text": [
      "Epoch 11/15: 100%|██████████| 125/125 [00:00<00:00, 198.10it/s, loss=1.5492]\n"
     ]
    },
    {
     "name": "stdout",
     "output_type": "stream",
     "text": [
      "Epoch 11/15 - 0.65s - loss: 1.5492 - val_loss: 1.9586\n"
     ]
    },
    {
     "name": "stderr",
     "output_type": "stream",
     "text": [
      "Epoch 12/15: 100%|██████████| 125/125 [00:00<00:00, 183.29it/s, loss=1.4284]\n"
     ]
    },
    {
     "name": "stdout",
     "output_type": "stream",
     "text": [
      "Epoch 12/15 - 0.71s - loss: 1.4284 - val_loss: 1.8911\n"
     ]
    },
    {
     "name": "stderr",
     "output_type": "stream",
     "text": [
      "Epoch 13/15: 100%|██████████| 125/125 [00:00<00:00, 161.29it/s, loss=1.3265]\n"
     ]
    },
    {
     "name": "stdout",
     "output_type": "stream",
     "text": [
      "Epoch 13/15 - 0.81s - loss: 1.3265 - val_loss: 1.8324\n"
     ]
    },
    {
     "name": "stderr",
     "output_type": "stream",
     "text": [
      "Epoch 14/15: 100%|██████████| 125/125 [00:00<00:00, 187.40it/s, loss=1.2381]\n"
     ]
    },
    {
     "name": "stdout",
     "output_type": "stream",
     "text": [
      "Epoch 14/15 - 0.69s - loss: 1.2381 - val_loss: 1.7583\n"
     ]
    },
    {
     "name": "stderr",
     "output_type": "stream",
     "text": [
      "Epoch 15/15: 100%|██████████| 125/125 [00:00<00:00, 184.09it/s, loss=1.1642]\n"
     ]
    },
    {
     "name": "stdout",
     "output_type": "stream",
     "text": [
      "Epoch 15/15 - 0.71s - loss: 1.1642 - val_loss: 1.7194\n",
      "Test accuracy: 0.7964\n"
     ]
    },
    {
     "data": {
      "image/png": "[encoded data removed]",
      "text/plain": [
       "<Figure size 1000x500 with 1 Axes>"
      ]
     },
     "metadata": {},
     "output_type": "display_data"
    },
    {
     "name": "stderr",
     "output_type": "stream",
     "text": [
      "INFO:matplotlib.category:Using categorical units to plot a list of strings that are all parsable as floats or dates. If these strings should be plotted as numbers, cast to the appropriate data type before plotting.\n",
      "INFO:matplotlib.category:Using categorical units to plot a list of strings that are all parsable as floats or dates. If these strings should be plotted as numbers, cast to the appropriate data type before plotting.\n"
     ]
    },
    {
     "data": {
      "image/png": "[encoded data removed]",
      "text/plain": [
       "<Figure size 1000x500 with 1 Axes>"
      ]
     },
     "metadata": {},
     "output_type": "display_data"
    },
    {
     "data": {
      "image/png": "[encoded data removed]",
      "text/plain": [
       "<Figure size 1500x500 with 3 Axes>"
      ]
     },
     "metadata": {},
     "output_type": "display_data"
    },
    {
     "data": {
      "image/png": "[encoded data removed]",
      "text/plain": [
       "<Figure size 1500x500 with 3 Axes>"
      ]
     },
     "metadata": {},
     "output_type": "display_data"
    }
   ],
   "source": [
    "# Define base architecture\n",
    "architecture = [784, 128, 10]\n",
    "\n",
    "# Define learning rates to test\n",
    "learning_rates = [0.001, 0.01, 0.1]\n",
    "\n",
    "# Test different learning rates\n",
    "lr_histories = []\n",
    "lr_accuracies = []\n",
    "lr_models = []\n",
    "\n",
    "print(\"Testing learning rates...\")\n",
    "for lr in learning_rates:\n",
    "    print(f\"\\nLearning Rate: {lr}\")\n",
    "    \n",
    "    # Create activations list (output layer uses Softmax)\n",
    "    activations = [ReLU()] + [Softmax()]\n",
    "    \n",
    "    # Create neural network\n",
    "    network = NeuralNetwork(\n",
    "        node_counts=architecture,\n",
    "        activations=activations,\n",
    "        loss_function=base_config['loss_function'],\n",
    "        initialize_method=base_config['initializer']\n",
    "    )\n",
    "    \n",
    "    # Create FFNN model\n",
    "    model = FFNN(network)\n",
    "    \n",
    "    # Train the model\n",
    "    history = model.fit(\n",
    "        X_train_ffnn, y_train_ffnn,\n",
    "        batch_size=base_config['batch_size'],\n",
    "        epochs=base_config['epochs'] * 3,\n",
    "        learning_rate=lr,\n",
    "        validation_data=(X_val, y_val),\n",
    "        verbose=1\n",
    "    )\n",
    "    \n",
    "    # Store results\n",
    "    lr_histories.append(history)\n",
    "    lr_models.append(model)\n",
    "    \n",
    "    # Evaluate on test set\n",
    "    accuracy = evaluate_model(model, X_test, y_test_onehot)\n",
    "    lr_accuracies.append(accuracy)\n",
    "    print(f\"Test accuracy: {accuracy:.4f}\")\n",
    "\n",
    "# Plot training loss\n",
    "plt.figure(figsize=(10, 5))\n",
    "for i, history in enumerate(lr_histories):\n",
    "    plt.plot(history['train_loss'], label=f\"LR = {learning_rates[i]}\")\n",
    "plt.title('Training Loss vs Learning Rate')\n",
    "plt.xlabel('Epoch')\n",
    "plt.ylabel('Loss')\n",
    "plt.legend()\n",
    "plt.grid(True, alpha=0.3)\n",
    "plt.show()\n",
    "\n",
    "# Compare test accuracies\n",
    "plt.figure(figsize=(10, 5))\n",
    "plt.bar([str(lr) for lr in learning_rates], lr_accuracies)\n",
    "plt.title('Test Accuracy vs Learning Rate')\n",
    "plt.xlabel('Learning Rate')\n",
    "plt.ylabel('Accuracy')\n",
    "plt.ylim(0, 1)\n",
    "plt.show()\n",
    "\n",
    "# Plot weight distributions\n",
    "plt.figure(figsize=(15, 5))\n",
    "for i, model in enumerate(lr_models):\n",
    "    plt.subplot(1, len(lr_models), i+1)\n",
    "    weights = model.network.weights[0].flatten()\n",
    "    plt.hist(weights, bins=30, alpha=0.7)\n",
    "    plt.title(f\"LR = {learning_rates[i]} Weights\")\n",
    "    plt.xlabel(\"Weight Value\")\n",
    "    plt.ylabel(\"Frequency\")\n",
    "plt.tight_layout()\n",
    "plt.show()\n",
    "\n",
    "# Plot gradient distributions\n",
    "plt.figure(figsize=(15, 5))\n",
    "for i, model in enumerate(lr_models):\n",
    "    plt.subplot(1, len(lr_models), i+1)\n",
    "    gradients = model.network.gradients[0].flatten()\n",
    "    plt.hist(gradients, bins=30, alpha=0.7)\n",
    "    plt.title(f\"LR = {learning_rates[i]} Gradients\")\n",
    "    plt.xlabel(\"Gradient Value\")\n",
    "    plt.ylabel(\"Frequency\")\n",
    "plt.tight_layout()\n",
    "plt.show()"
   ]
  },
  {
   "cell_type": "code",
   "execution_count": 20,
   "metadata": {},
   "outputs": [
    {
     "name": "stdout",
     "output_type": "stream",
     "text": [
      "Testing weight initializers...\n",
      "\n",
      "Initializer: Zero\n"
     ]
    },
    {
     "name": "stderr",
     "output_type": "stream",
     "text": [
      "Epoch 1/15:   0%|          | 0/125 [00:00<?, ?it/s]"
     ]
    },
    {
     "name": "stderr",
     "output_type": "stream",
     "text": [
      "Epoch 1/15: 100%|██████████| 125/125 [00:00<00:00, 156.84it/s, loss=2.3026]\n"
     ]
    },
    {
     "name": "stdout",
     "output_type": "stream",
     "text": [
      "Epoch 1/15 - 0.83s - loss: 2.3026 - val_loss: 2.3026\n"
     ]
    },
    {
     "name": "stderr",
     "output_type": "stream",
     "text": [
      "Epoch 2/15: 100%|██████████| 125/125 [00:00<00:00, 149.35it/s, loss=2.3026]\n"
     ]
    },
    {
     "name": "stdout",
     "output_type": "stream",
     "text": [
      "Epoch 2/15 - 0.87s - loss: 2.3026 - val_loss: 2.3026\n"
     ]
    },
    {
     "name": "stderr",
     "output_type": "stream",
     "text": [
      "Epoch 3/15: 100%|██████████| 125/125 [00:00<00:00, 234.25it/s, loss=2.3026]\n"
     ]
    },
    {
     "name": "stdout",
     "output_type": "stream",
     "text": [
      "Epoch 3/15 - 0.55s - loss: 2.3026 - val_loss: 2.3026\n"
     ]
    },
    {
     "name": "stderr",
     "output_type": "stream",
     "text": [
      "Epoch 4/15: 100%|██████████| 125/125 [00:00<00:00, 234.23it/s, loss=2.3025]\n"
     ]
    },
    {
     "name": "stdout",
     "output_type": "stream",
     "text": [
      "Epoch 4/15 - 0.55s - loss: 2.3025 - val_loss: 2.3025\n"
     ]
    },
    {
     "name": "stderr",
     "output_type": "stream",
     "text": [
      "Epoch 5/15: 100%|██████████| 125/125 [00:00<00:00, 215.53it/s, loss=2.3025]\n"
     ]
    },
    {
     "name": "stdout",
     "output_type": "stream",
     "text": [
      "Epoch 5/15 - 0.60s - loss: 2.3025 - val_loss: 2.3025\n"
     ]
    },
    {
     "name": "stderr",
     "output_type": "stream",
     "text": [
      "Epoch 6/15: 100%|██████████| 125/125 [00:00<00:00, 187.12it/s, loss=2.3025]\n"
     ]
    },
    {
     "name": "stdout",
     "output_type": "stream",
     "text": [
      "Epoch 6/15 - 0.69s - loss: 2.3025 - val_loss: 2.3025\n"
     ]
    },
    {
     "name": "stderr",
     "output_type": "stream",
     "text": [
      "Epoch 7/15: 100%|██████████| 125/125 [00:00<00:00, 224.85it/s, loss=2.3025]\n"
     ]
    },
    {
     "name": "stdout",
     "output_type": "stream",
     "text": [
      "Epoch 7/15 - 0.59s - loss: 2.3025 - val_loss: 2.3025\n"
     ]
    },
    {
     "name": "stderr",
     "output_type": "stream",
     "text": [
      "Epoch 8/15: 100%|██████████| 125/125 [00:00<00:00, 213.68it/s, loss=2.3025]\n"
     ]
    },
    {
     "name": "stdout",
     "output_type": "stream",
     "text": [
      "Epoch 8/15 - 0.60s - loss: 2.3025 - val_loss: 2.3025\n"
     ]
    },
    {
     "name": "stderr",
     "output_type": "stream",
     "text": [
      "Epoch 9/15: 100%|██████████| 125/125 [00:00<00:00, 213.05it/s, loss=2.3025]\n"
     ]
    },
    {
     "name": "stdout",
     "output_type": "stream",
     "text": [
      "Epoch 9/15 - 0.60s - loss: 2.3025 - val_loss: 2.3025\n"
     ]
    },
    {
     "name": "stderr",
     "output_type": "stream",
     "text": [
      "Epoch 10/15: 100%|██████████| 125/125 [00:00<00:00, 225.85it/s, loss=2.3025]\n"
     ]
    },
    {
     "name": "stdout",
     "output_type": "stream",
     "text": [
      "Epoch 10/15 - 0.59s - loss: 2.3025 - val_loss: 2.3025\n"
     ]
    },
    {
     "name": "stderr",
     "output_type": "stream",
     "text": [
      "Epoch 11/15: 100%|██████████| 125/125 [00:00<00:00, 183.92it/s, loss=2.3024]\n"
     ]
    },
    {
     "name": "stdout",
     "output_type": "stream",
     "text": [
      "Epoch 11/15 - 0.70s - loss: 2.3024 - val_loss: 2.3025\n"
     ]
    },
    {
     "name": "stderr",
     "output_type": "stream",
     "text": [
      "Epoch 12/15: 100%|██████████| 125/125 [00:00<00:00, 226.45it/s, loss=2.3024]\n"
     ]
    },
    {
     "name": "stdout",
     "output_type": "stream",
     "text": [
      "Epoch 12/15 - 0.57s - loss: 2.3024 - val_loss: 2.3025\n"
     ]
    },
    {
     "name": "stderr",
     "output_type": "stream",
     "text": [
      "Epoch 13/15: 100%|██████████| 125/125 [00:00<00:00, 191.42it/s, loss=2.3024]\n"
     ]
    },
    {
     "name": "stdout",
     "output_type": "stream",
     "text": [
      "Epoch 13/15 - 0.68s - loss: 2.3024 - val_loss: 2.3025\n"
     ]
    },
    {
     "name": "stderr",
     "output_type": "stream",
     "text": [
      "Epoch 14/15: 100%|██████████| 125/125 [00:00<00:00, 209.35it/s, loss=2.3024]\n"
     ]
    },
    {
     "name": "stdout",
     "output_type": "stream",
     "text": [
      "Epoch 14/15 - 0.62s - loss: 2.3024 - val_loss: 2.3025\n"
     ]
    },
    {
     "name": "stderr",
     "output_type": "stream",
     "text": [
      "Epoch 15/15: 100%|██████████| 125/125 [00:00<00:00, 180.38it/s, loss=2.3024]\n"
     ]
    },
    {
     "name": "stdout",
     "output_type": "stream",
     "text": [
      "Epoch 15/15 - 0.72s - loss: 2.3024 - val_loss: 2.3024\n",
      "Test accuracy: 0.1161\n",
      "\n",
      "Initializer: Uniform\n"
     ]
    },
    {
     "name": "stderr",
     "output_type": "stream",
     "text": [
      "Epoch 1/15: 100%|██████████| 125/125 [00:00<00:00, 227.34it/s, loss=2.3892]\n"
     ]
    },
    {
     "name": "stdout",
     "output_type": "stream",
     "text": [
      "Epoch 1/15 - 0.57s - loss: 2.3892 - val_loss: 2.3103\n"
     ]
    },
    {
     "name": "stderr",
     "output_type": "stream",
     "text": [
      "Epoch 2/15: 100%|██████████| 125/125 [00:00<00:00, 227.22it/s, loss=2.2958]\n"
     ]
    },
    {
     "name": "stdout",
     "output_type": "stream",
     "text": [
      "Epoch 2/15 - 0.57s - loss: 2.2958 - val_loss: 2.2237\n"
     ]
    },
    {
     "name": "stderr",
     "output_type": "stream",
     "text": [
      "Epoch 3/15: 100%|██████████| 125/125 [00:00<00:00, 168.24it/s, loss=2.2116]\n"
     ]
    },
    {
     "name": "stdout",
     "output_type": "stream",
     "text": [
      "Epoch 3/15 - 0.77s - loss: 2.2116 - val_loss: 2.1447\n"
     ]
    },
    {
     "name": "stderr",
     "output_type": "stream",
     "text": [
      "Epoch 4/15: 100%|██████████| 125/125 [00:00<00:00, 166.45it/s, loss=2.1348]\n"
     ]
    },
    {
     "name": "stdout",
     "output_type": "stream",
     "text": [
      "Epoch 4/15 - 0.80s - loss: 2.1348 - val_loss: 2.0720\n"
     ]
    },
    {
     "name": "stderr",
     "output_type": "stream",
     "text": [
      "Epoch 5/15: 100%|██████████| 125/125 [00:00<00:00, 231.07it/s, loss=2.0639]\n"
     ]
    },
    {
     "name": "stdout",
     "output_type": "stream",
     "text": [
      "Epoch 5/15 - 0.57s - loss: 2.0639 - val_loss: 2.0044\n"
     ]
    },
    {
     "name": "stderr",
     "output_type": "stream",
     "text": [
      "Epoch 6/15: 100%|██████████| 125/125 [00:00<00:00, 206.47it/s, loss=1.9980]\n"
     ]
    },
    {
     "name": "stdout",
     "output_type": "stream",
     "text": [
      "Epoch 6/15 - 0.63s - loss: 1.9980 - val_loss: 1.9412\n"
     ]
    },
    {
     "name": "stderr",
     "output_type": "stream",
     "text": [
      "Epoch 7/15: 100%|██████████| 125/125 [00:00<00:00, 229.36it/s, loss=1.9363]\n"
     ]
    },
    {
     "name": "stdout",
     "output_type": "stream",
     "text": [
      "Epoch 7/15 - 0.57s - loss: 1.9363 - val_loss: 1.8818\n"
     ]
    },
    {
     "name": "stderr",
     "output_type": "stream",
     "text": [
      "Epoch 8/15: 100%|██████████| 125/125 [00:00<00:00, 196.64it/s, loss=1.8783]\n"
     ]
    },
    {
     "name": "stdout",
     "output_type": "stream",
     "text": [
      "Epoch 8/15 - 0.66s - loss: 1.8783 - val_loss: 1.8257\n"
     ]
    },
    {
     "name": "stderr",
     "output_type": "stream",
     "text": [
      "Epoch 9/15: 100%|██████████| 125/125 [00:00<00:00, 186.01it/s, loss=1.8235]\n"
     ]
    },
    {
     "name": "stdout",
     "output_type": "stream",
     "text": [
      "Epoch 9/15 - 0.69s - loss: 1.8235 - val_loss: 1.7725\n"
     ]
    },
    {
     "name": "stderr",
     "output_type": "stream",
     "text": [
      "Epoch 10/15: 100%|██████████| 125/125 [00:00<00:00, 225.22it/s, loss=1.7715]\n"
     ]
    },
    {
     "name": "stdout",
     "output_type": "stream",
     "text": [
      "Epoch 10/15 - 0.58s - loss: 1.7715 - val_loss: 1.7221\n"
     ]
    },
    {
     "name": "stderr",
     "output_type": "stream",
     "text": [
      "Epoch 11/15: 100%|██████████| 125/125 [00:00<00:00, 224.82it/s, loss=1.7222]\n"
     ]
    },
    {
     "name": "stdout",
     "output_type": "stream",
     "text": [
      "Epoch 11/15 - 0.58s - loss: 1.7222 - val_loss: 1.6740\n"
     ]
    },
    {
     "name": "stderr",
     "output_type": "stream",
     "text": [
      "Epoch 12/15: 100%|██████████| 125/125 [00:00<00:00, 184.64it/s, loss=1.6753]\n"
     ]
    },
    {
     "name": "stdout",
     "output_type": "stream",
     "text": [
      "Epoch 12/15 - 0.70s - loss: 1.6753 - val_loss: 1.6283\n"
     ]
    },
    {
     "name": "stderr",
     "output_type": "stream",
     "text": [
      "Epoch 13/15: 100%|██████████| 125/125 [00:00<00:00, 185.46it/s, loss=1.6306]\n"
     ]
    },
    {
     "name": "stdout",
     "output_type": "stream",
     "text": [
      "Epoch 13/15 - 0.69s - loss: 1.6306 - val_loss: 1.5847\n"
     ]
    },
    {
     "name": "stderr",
     "output_type": "stream",
     "text": [
      "Epoch 14/15: 100%|██████████| 125/125 [00:00<00:00, 228.10it/s, loss=1.5880]\n"
     ]
    },
    {
     "name": "stdout",
     "output_type": "stream",
     "text": [
      "Epoch 14/15 - 0.57s - loss: 1.5880 - val_loss: 1.5431\n"
     ]
    },
    {
     "name": "stderr",
     "output_type": "stream",
     "text": [
      "Epoch 15/15: 100%|██████████| 125/125 [00:00<00:00, 223.62it/s, loss=1.5473]\n"
     ]
    },
    {
     "name": "stdout",
     "output_type": "stream",
     "text": [
      "Epoch 15/15 - 0.58s - loss: 1.5473 - val_loss: 1.5034\n",
      "Test accuracy: 0.5979\n",
      "\n",
      "Initializer: Normal\n"
     ]
    },
    {
     "name": "stderr",
     "output_type": "stream",
     "text": [
      "Epoch 1/15: 100%|██████████| 125/125 [00:00<00:00, 196.54it/s, loss=21.8315]\n"
     ]
    },
    {
     "name": "stdout",
     "output_type": "stream",
     "text": [
      "Epoch 1/15 - 0.65s - loss: 21.8315 - val_loss: 20.8919\n"
     ]
    },
    {
     "name": "stderr",
     "output_type": "stream",
     "text": [
      "Epoch 2/15: 100%|██████████| 125/125 [00:00<00:00, 214.40it/s, loss=19.7346]\n"
     ]
    },
    {
     "name": "stdout",
     "output_type": "stream",
     "text": [
      "Epoch 2/15 - 0.61s - loss: 19.7346 - val_loss: 18.8998\n"
     ]
    },
    {
     "name": "stderr",
     "output_type": "stream",
     "text": [
      "Epoch 3/15: 100%|██████████| 125/125 [00:00<00:00, 178.32it/s, loss=17.8522]\n"
     ]
    },
    {
     "name": "stdout",
     "output_type": "stream",
     "text": [
      "Epoch 3/15 - 0.72s - loss: 17.8522 - val_loss: 17.1375\n"
     ]
    },
    {
     "name": "stderr",
     "output_type": "stream",
     "text": [
      "Epoch 4/15: 100%|██████████| 125/125 [00:00<00:00, 221.63it/s, loss=16.2466]\n"
     ]
    },
    {
     "name": "stdout",
     "output_type": "stream",
     "text": [
      "Epoch 4/15 - 0.59s - loss: 16.2466 - val_loss: 15.6737\n"
     ]
    },
    {
     "name": "stderr",
     "output_type": "stream",
     "text": [
      "Epoch 5/15: 100%|██████████| 125/125 [00:00<00:00, 175.07it/s, loss=14.9155]\n"
     ]
    },
    {
     "name": "stdout",
     "output_type": "stream",
     "text": [
      "Epoch 5/15 - 0.73s - loss: 14.9155 - val_loss: 14.3856\n"
     ]
    },
    {
     "name": "stderr",
     "output_type": "stream",
     "text": [
      "Epoch 6/15: 100%|██████████| 125/125 [00:00<00:00, 195.62it/s, loss=13.7380]\n"
     ]
    },
    {
     "name": "stdout",
     "output_type": "stream",
     "text": [
      "Epoch 6/15 - 0.66s - loss: 13.7380 - val_loss: 13.2482\n"
     ]
    },
    {
     "name": "stderr",
     "output_type": "stream",
     "text": [
      "Epoch 7/15: 100%|██████████| 125/125 [00:00<00:00, 158.01it/s, loss=12.7051]\n"
     ]
    },
    {
     "name": "stdout",
     "output_type": "stream",
     "text": [
      "Epoch 7/15 - 0.81s - loss: 12.7051 - val_loss: 12.2424\n"
     ]
    },
    {
     "name": "stderr",
     "output_type": "stream",
     "text": [
      "Epoch 8/15: 100%|██████████| 125/125 [00:00<00:00, 157.12it/s, loss=11.7878]\n"
     ]
    },
    {
     "name": "stdout",
     "output_type": "stream",
     "text": [
      "Epoch 8/15 - 0.83s - loss: 11.7878 - val_loss: 11.3511\n"
     ]
    },
    {
     "name": "stderr",
     "output_type": "stream",
     "text": [
      "Epoch 9/15: 100%|██████████| 125/125 [00:00<00:00, 193.62it/s, loss=10.9685]\n"
     ]
    },
    {
     "name": "stdout",
     "output_type": "stream",
     "text": [
      "Epoch 9/15 - 0.67s - loss: 10.9685 - val_loss: 10.5636\n"
     ]
    },
    {
     "name": "stderr",
     "output_type": "stream",
     "text": [
      "Epoch 10/15: 100%|██████████| 125/125 [00:00<00:00, 182.59it/s, loss=10.2286]\n"
     ]
    },
    {
     "name": "stdout",
     "output_type": "stream",
     "text": [
      "Epoch 10/15 - 0.71s - loss: 10.2286 - val_loss: 9.8621\n"
     ]
    },
    {
     "name": "stderr",
     "output_type": "stream",
     "text": [
      "Epoch 11/15: 100%|██████████| 125/125 [00:00<00:00, 152.29it/s, loss=9.5636]\n"
     ]
    },
    {
     "name": "stdout",
     "output_type": "stream",
     "text": [
      "Epoch 11/15 - 0.85s - loss: 9.5636 - val_loss: 9.2418\n"
     ]
    },
    {
     "name": "stderr",
     "output_type": "stream",
     "text": [
      "Epoch 12/15: 100%|██████████| 125/125 [00:00<00:00, 183.82it/s, loss=8.9715]\n"
     ]
    },
    {
     "name": "stdout",
     "output_type": "stream",
     "text": [
      "Epoch 12/15 - 0.71s - loss: 8.9715 - val_loss: 8.6975\n"
     ]
    },
    {
     "name": "stderr",
     "output_type": "stream",
     "text": [
      "Epoch 13/15: 100%|██████████| 125/125 [00:00<00:00, 188.17it/s, loss=8.4445]\n"
     ]
    },
    {
     "name": "stdout",
     "output_type": "stream",
     "text": [
      "Epoch 13/15 - 0.69s - loss: 8.4445 - val_loss: 8.2111\n"
     ]
    },
    {
     "name": "stderr",
     "output_type": "stream",
     "text": [
      "Epoch 14/15: 100%|██████████| 125/125 [00:00<00:00, 217.77it/s, loss=7.9766]\n"
     ]
    },
    {
     "name": "stdout",
     "output_type": "stream",
     "text": [
      "Epoch 14/15 - 0.60s - loss: 7.9766 - val_loss: 7.7805\n"
     ]
    },
    {
     "name": "stderr",
     "output_type": "stream",
     "text": [
      "Epoch 15/15: 100%|██████████| 125/125 [00:00<00:00, 148.10it/s, loss=7.5567]\n"
     ]
    },
    {
     "name": "stdout",
     "output_type": "stream",
     "text": [
      "Epoch 15/15 - 0.87s - loss: 7.5567 - val_loss: 7.3945\n",
      "Test accuracy: 0.4594\n"
     ]
    },
    {
     "data": {
      "image/png": "[encoded data removed]",
      "text/plain": [
       "<Figure size 1000x500 with 1 Axes>"
      ]
     },
     "metadata": {},
     "output_type": "display_data"
    },
    {
     "data": {
      "image/png": "[encoded data removed]",
      "text/plain": [
       "<Figure size 1000x500 with 1 Axes>"
      ]
     },
     "metadata": {},
     "output_type": "display_data"
    },
    {
     "data": {
      "image/png": "[encoded data removed]",
      "text/plain": [
       "<Figure size 1500x500 with 3 Axes>"
      ]
     },
     "metadata": {},
     "output_type": "display_data"
    }
   ],
   "source": [
    "# Define base architecture\n",
    "architecture = [784, 128, 10]\n",
    "\n",
    "# Define initializers to test\n",
    "initializers = [\n",
    "    ZeroInitializer(),\n",
    "    UniformInitializer(low=-0.1, high=0.1, seed=42),\n",
    "    NormalInitializer(mean=0, var=0.1, seed=42)\n",
    "]\n",
    "initializer_names = [\"Zero\", \"Uniform\", \"Normal\"]\n",
    "\n",
    "# Test different initializers\n",
    "init_histories = []\n",
    "init_accuracies = []\n",
    "init_models = []\n",
    "\n",
    "print(\"Testing weight initializers...\")\n",
    "for i, initializer in enumerate(initializers):\n",
    "    print(f\"\\nInitializer: {initializer_names[i]}\")\n",
    "    \n",
    "    # Create activations list (output layer uses Softmax)\n",
    "    activations = [ReLU()] + [Softmax()]\n",
    "    \n",
    "    # Create neural network\n",
    "    network = NeuralNetwork(\n",
    "        node_counts=architecture,\n",
    "        activations=activations,\n",
    "        loss_function=base_config['loss_function'],\n",
    "        initialize_method=initializer\n",
    "    )\n",
    "    \n",
    "    # Create FFNN model\n",
    "    model = FFNN(network)\n",
    "    \n",
    "    # Train the model\n",
    "    history = model.fit(\n",
    "        X_train_ffnn, y_train_ffnn,\n",
    "        batch_size=base_config['batch_size'],\n",
    "        epochs=base_config['epochs'] * 3,\n",
    "        validation_data=(X_val, y_val),\n",
    "        verbose=1, \n",
    "        learning_rate=base_config['learning_rate']\n",
    "    )\n",
    "    \n",
    "    # Store results\n",
    "    init_histories.append(history)\n",
    "    init_models.append(model)\n",
    "    \n",
    "    # Evaluate on test set\n",
    "    accuracy = evaluate_model(model, X_test, y_test_onehot)\n",
    "    init_accuracies.append(accuracy)\n",
    "    print(f\"Test accuracy: {accuracy:.4f}\")\n",
    "\n",
    "# Plot training loss\n",
    "plt.figure(figsize=(10, 5))\n",
    "for i, history in enumerate(init_histories):\n",
    "    plt.plot(history['train_loss'], label=f\"{initializer_names[i]}\")\n",
    "plt.title('Training Loss vs Weight Initialization')\n",
    "plt.xlabel('Epoch')\n",
    "plt.ylabel('Loss')\n",
    "plt.legend()\n",
    "plt.grid(True, alpha=0.3)\n",
    "plt.show()\n",
    "\n",
    "# Compare test accuracies\n",
    "plt.figure(figsize=(10, 5))\n",
    "plt.bar(initializer_names, init_accuracies)\n",
    "plt.title('Test Accuracy vs Weight Initialization')\n",
    "plt.xlabel('Initialization Method')\n",
    "plt.ylabel('Accuracy')\n",
    "plt.ylim(0, 1)\n",
    "plt.show()\n",
    "\n",
    "# Plot initial weight distributions\n",
    "plt.figure(figsize=(15, 5))\n",
    "for i, model in enumerate(init_models):\n",
    "    plt.subplot(1, len(init_models), i+1)\n",
    "    weights = model.network.weights[0].flatten()\n",
    "    plt.hist(weights, bins=30, alpha=0.7)\n",
    "    plt.title(f\"{initializer_names[i]} Weights\")\n",
    "    plt.xlabel(\"Weight Value\")\n",
    "    plt.ylabel(\"Frequency\")\n",
    "plt.tight_layout()\n",
    "plt.show()"
   ]
  },
  {
   "cell_type": "code",
   "execution_count": null,
   "metadata": {},
   "outputs": [
    {
     "name": "stdout",
     "output_type": "stream",
     "text": [
      "Training custom FFNN model...\n"
     ]
    },
    {
     "name": "stderr",
     "output_type": "stream",
     "text": [
      "Epoch 1/50:   0%|          | 0/125 [00:00<?, ?it/s, loss=0.8778]"
     ]
    },
    {
     "name": "stderr",
     "output_type": "stream",
     "text": [
      "Epoch 1/50: 100%|██████████| 125/125 [00:00<00:00, 165.38it/s, loss=24.7509]\n"
     ]
    },
    {
     "name": "stdout",
     "output_type": "stream",
     "text": [
      "Epoch 1/50 - 0.79s - loss: 24.7509 - val_loss: 23.6640\n"
     ]
    },
    {
     "name": "stderr",
     "output_type": "stream",
     "text": [
      "Epoch 2/50: 100%|██████████| 125/125 [00:00<00:00, 204.25it/s, loss=22.3304]\n"
     ]
    },
    {
     "name": "stdout",
     "output_type": "stream",
     "text": [
      "Epoch 2/50 - 0.63s - loss: 22.3304 - val_loss: 21.4887\n"
     ]
    },
    {
     "name": "stderr",
     "output_type": "stream",
     "text": [
      "Epoch 3/50: 100%|██████████| 125/125 [00:00<00:00, 183.55it/s, loss=20.2800]\n"
     ]
    },
    {
     "name": "stdout",
     "output_type": "stream",
     "text": [
      "Epoch 3/50 - 0.70s - loss: 20.2800 - val_loss: 19.5945\n"
     ]
    },
    {
     "name": "stderr",
     "output_type": "stream",
     "text": [
      "Epoch 4/50: 100%|██████████| 125/125 [00:00<00:00, 232.77it/s, loss=18.5063]\n"
     ]
    },
    {
     "name": "stdout",
     "output_type": "stream",
     "text": [
      "Epoch 4/50 - 0.56s - loss: 18.5063 - val_loss: 17.9848\n"
     ]
    },
    {
     "name": "stderr",
     "output_type": "stream",
     "text": [
      "Epoch 5/50: 100%|██████████| 125/125 [00:00<00:00, 228.52it/s, loss=17.0409]\n"
     ]
    },
    {
     "name": "stdout",
     "output_type": "stream",
     "text": [
      "Epoch 5/50 - 0.57s - loss: 17.0409 - val_loss: 16.6754\n"
     ]
    },
    {
     "name": "stderr",
     "output_type": "stream",
     "text": [
      "Epoch 6/50: 100%|██████████| 125/125 [00:00<00:00, 182.75it/s, loss=15.8143]\n"
     ]
    },
    {
     "name": "stdout",
     "output_type": "stream",
     "text": [
      "Epoch 6/50 - 0.71s - loss: 15.8143 - val_loss: 15.5170\n"
     ]
    },
    {
     "name": "stderr",
     "output_type": "stream",
     "text": [
      "Epoch 7/50: 100%|██████████| 125/125 [00:00<00:00, 229.78it/s, loss=14.7063]\n"
     ]
    },
    {
     "name": "stdout",
     "output_type": "stream",
     "text": [
      "Epoch 7/50 - 0.58s - loss: 14.7063 - val_loss: 14.4254\n"
     ]
    },
    {
     "name": "stderr",
     "output_type": "stream",
     "text": [
      "Epoch 8/50: 100%|██████████| 125/125 [00:00<00:00, 217.81it/s, loss=13.6719]\n"
     ]
    },
    {
     "name": "stdout",
     "output_type": "stream",
     "text": [
      "Epoch 8/50 - 0.60s - loss: 13.6719 - val_loss: 13.4265\n"
     ]
    },
    {
     "name": "stderr",
     "output_type": "stream",
     "text": [
      "Epoch 9/50: 100%|██████████| 125/125 [00:00<00:00, 236.74it/s, loss=12.6997]\n"
     ]
    },
    {
     "name": "stdout",
     "output_type": "stream",
     "text": [
      "Epoch 9/50 - 0.54s - loss: 12.6997 - val_loss: 12.4856\n"
     ]
    },
    {
     "name": "stderr",
     "output_type": "stream",
     "text": [
      "Epoch 10/50: 100%|██████████| 125/125 [00:00<00:00, 199.73it/s, loss=11.8186]\n"
     ]
    },
    {
     "name": "stdout",
     "output_type": "stream",
     "text": [
      "Epoch 10/50 - 0.67s - loss: 11.8186 - val_loss: 11.6313\n"
     ]
    },
    {
     "name": "stderr",
     "output_type": "stream",
     "text": [
      "Epoch 11/50: 100%|██████████| 125/125 [00:00<00:00, 226.04it/s, loss=11.0322]\n"
     ]
    },
    {
     "name": "stdout",
     "output_type": "stream",
     "text": [
      "Epoch 11/50 - 0.58s - loss: 11.0322 - val_loss: 10.8192\n"
     ]
    },
    {
     "name": "stderr",
     "output_type": "stream",
     "text": [
      "Epoch 12/50: 100%|██████████| 125/125 [00:00<00:00, 215.52it/s, loss=10.3174]\n"
     ]
    },
    {
     "name": "stdout",
     "output_type": "stream",
     "text": [
      "Epoch 12/50 - 0.60s - loss: 10.3174 - val_loss: 10.1067\n"
     ]
    },
    {
     "name": "stderr",
     "output_type": "stream",
     "text": [
      "Epoch 13/50: 100%|██████████| 125/125 [00:00<00:00, 227.28it/s, loss=9.6767]\n"
     ]
    },
    {
     "name": "stdout",
     "output_type": "stream",
     "text": [
      "Epoch 13/50 - 0.57s - loss: 9.6767 - val_loss: 9.4924\n"
     ]
    },
    {
     "name": "stderr",
     "output_type": "stream",
     "text": [
      "Epoch 14/50: 100%|██████████| 125/125 [00:00<00:00, 183.79it/s, loss=9.1144]\n"
     ]
    },
    {
     "name": "stdout",
     "output_type": "stream",
     "text": [
      "Epoch 14/50 - 0.70s - loss: 9.1144 - val_loss: 8.9544\n"
     ]
    },
    {
     "name": "stderr",
     "output_type": "stream",
     "text": [
      "Epoch 15/50: 100%|██████████| 125/125 [00:00<00:00, 193.80it/s, loss=8.6258]\n"
     ]
    },
    {
     "name": "stdout",
     "output_type": "stream",
     "text": [
      "Epoch 15/50 - 0.67s - loss: 8.6258 - val_loss: 8.4837\n"
     ]
    },
    {
     "name": "stderr",
     "output_type": "stream",
     "text": [
      "Epoch 16/50: 100%|██████████| 125/125 [00:00<00:00, 231.92it/s, loss=8.1856]\n"
     ]
    },
    {
     "name": "stdout",
     "output_type": "stream",
     "text": [
      "Epoch 16/50 - 0.56s - loss: 8.1856 - val_loss: 8.0649\n"
     ]
    },
    {
     "name": "stderr",
     "output_type": "stream",
     "text": [
      "Epoch 17/50: 100%|██████████| 125/125 [00:00<00:00, 224.41it/s, loss=7.7845]\n"
     ]
    },
    {
     "name": "stdout",
     "output_type": "stream",
     "text": [
      "Epoch 17/50 - 0.58s - loss: 7.7845 - val_loss: 7.6943\n"
     ]
    },
    {
     "name": "stderr",
     "output_type": "stream",
     "text": [
      "Epoch 18/50: 100%|██████████| 125/125 [00:00<00:00, 187.69it/s, loss=7.4216]\n"
     ]
    },
    {
     "name": "stdout",
     "output_type": "stream",
     "text": [
      "Epoch 18/50 - 0.70s - loss: 7.4216 - val_loss: 7.3661\n"
     ]
    },
    {
     "name": "stderr",
     "output_type": "stream",
     "text": [
      "Epoch 19/50: 100%|██████████| 125/125 [00:00<00:00, 164.26it/s, loss=7.0971]\n"
     ]
    },
    {
     "name": "stdout",
     "output_type": "stream",
     "text": [
      "Epoch 19/50 - 0.79s - loss: 7.0971 - val_loss: 7.0794\n"
     ]
    },
    {
     "name": "stderr",
     "output_type": "stream",
     "text": [
      "Epoch 20/50: 100%|██████████| 125/125 [00:00<00:00, 195.31it/s, loss=6.8067]\n"
     ]
    },
    {
     "name": "stdout",
     "output_type": "stream",
     "text": [
      "Epoch 20/50 - 0.67s - loss: 6.8067 - val_loss: 6.8205\n"
     ]
    },
    {
     "name": "stderr",
     "output_type": "stream",
     "text": [
      "Epoch 21/50: 100%|██████████| 125/125 [00:00<00:00, 227.27it/s, loss=6.5445]\n"
     ]
    },
    {
     "name": "stdout",
     "output_type": "stream",
     "text": [
      "Epoch 21/50 - 0.58s - loss: 6.5445 - val_loss: 6.5867\n"
     ]
    },
    {
     "name": "stderr",
     "output_type": "stream",
     "text": [
      "Epoch 22/50: 100%|██████████| 125/125 [00:00<00:00, 221.22it/s, loss=6.3071]\n"
     ]
    },
    {
     "name": "stdout",
     "output_type": "stream",
     "text": [
      "Epoch 22/50 - 0.59s - loss: 6.3071 - val_loss: 6.3729\n"
     ]
    },
    {
     "name": "stderr",
     "output_type": "stream",
     "text": [
      "Epoch 23/50: 100%|██████████| 125/125 [00:00<00:00, 218.15it/s, loss=6.0911]\n"
     ]
    },
    {
     "name": "stdout",
     "output_type": "stream",
     "text": [
      "Epoch 23/50 - 0.60s - loss: 6.0911 - val_loss: 6.1685\n"
     ]
    },
    {
     "name": "stderr",
     "output_type": "stream",
     "text": [
      "Epoch 24/50: 100%|██████████| 125/125 [00:00<00:00, 184.10it/s, loss=5.8953]\n"
     ]
    },
    {
     "name": "stdout",
     "output_type": "stream",
     "text": [
      "Epoch 24/50 - 0.70s - loss: 5.8953 - val_loss: 5.9740\n"
     ]
    },
    {
     "name": "stderr",
     "output_type": "stream",
     "text": [
      "Epoch 25/50: 100%|██████████| 125/125 [00:00<00:00, 210.23it/s, loss=5.7134]\n"
     ]
    },
    {
     "name": "stdout",
     "output_type": "stream",
     "text": [
      "Epoch 25/50 - 0.63s - loss: 5.7134 - val_loss: 5.7918\n"
     ]
    },
    {
     "name": "stderr",
     "output_type": "stream",
     "text": [
      "Epoch 26/50: 100%|██████████| 125/125 [00:00<00:00, 215.19it/s, loss=5.5453]\n"
     ]
    },
    {
     "name": "stdout",
     "output_type": "stream",
     "text": [
      "Epoch 26/50 - 0.60s - loss: 5.5453 - val_loss: 5.6217\n"
     ]
    },
    {
     "name": "stderr",
     "output_type": "stream",
     "text": [
      "Epoch 27/50: 100%|██████████| 125/125 [00:00<00:00, 206.30it/s, loss=5.3846]\n"
     ]
    },
    {
     "name": "stdout",
     "output_type": "stream",
     "text": [
      "Epoch 27/50 - 0.63s - loss: 5.3846 - val_loss: 5.4635\n"
     ]
    },
    {
     "name": "stderr",
     "output_type": "stream",
     "text": [
      "Epoch 28/50: 100%|██████████| 125/125 [00:00<00:00, 182.44it/s, loss=5.2343]\n"
     ]
    },
    {
     "name": "stdout",
     "output_type": "stream",
     "text": [
      "Epoch 28/50 - 0.71s - loss: 5.2343 - val_loss: 5.3187\n"
     ]
    },
    {
     "name": "stderr",
     "output_type": "stream",
     "text": [
      "Epoch 29/50: 100%|██████████| 125/125 [00:00<00:00, 181.16it/s, loss=5.0957]\n"
     ]
    },
    {
     "name": "stdout",
     "output_type": "stream",
     "text": [
      "Epoch 29/50 - 0.71s - loss: 5.0957 - val_loss: 5.1824\n"
     ]
    },
    {
     "name": "stderr",
     "output_type": "stream",
     "text": [
      "Epoch 30/50: 100%|██████████| 125/125 [00:00<00:00, 191.71it/s, loss=4.9619]\n"
     ]
    },
    {
     "name": "stdout",
     "output_type": "stream",
     "text": [
      "Epoch 30/50 - 0.69s - loss: 4.9619 - val_loss: 5.0575\n"
     ]
    },
    {
     "name": "stderr",
     "output_type": "stream",
     "text": [
      "Epoch 31/50: 100%|██████████| 125/125 [00:00<00:00, 190.55it/s, loss=4.8347]\n"
     ]
    },
    {
     "name": "stdout",
     "output_type": "stream",
     "text": [
      "Epoch 31/50 - 0.68s - loss: 4.8347 - val_loss: 4.9425\n"
     ]
    },
    {
     "name": "stderr",
     "output_type": "stream",
     "text": [
      "Epoch 32/50: 100%|██████████| 125/125 [00:00<00:00, 152.60it/s, loss=4.7116]\n"
     ]
    },
    {
     "name": "stdout",
     "output_type": "stream",
     "text": [
      "Epoch 32/50 - 0.85s - loss: 4.7116 - val_loss: 4.8384\n"
     ]
    },
    {
     "name": "stderr",
     "output_type": "stream",
     "text": [
      "Epoch 33/50: 100%|██████████| 125/125 [00:00<00:00, 183.56it/s, loss=4.5954]\n"
     ]
    },
    {
     "name": "stdout",
     "output_type": "stream",
     "text": [
      "Epoch 33/50 - 0.70s - loss: 4.5954 - val_loss: 4.7436\n"
     ]
    },
    {
     "name": "stderr",
     "output_type": "stream",
     "text": [
      "Epoch 34/50: 100%|██████████| 125/125 [00:00<00:00, 217.02it/s, loss=4.4860]\n"
     ]
    },
    {
     "name": "stdout",
     "output_type": "stream",
     "text": [
      "Epoch 34/50 - 0.60s - loss: 4.4860 - val_loss: 4.6570\n"
     ]
    },
    {
     "name": "stderr",
     "output_type": "stream",
     "text": [
      "Epoch 35/50: 100%|██████████| 125/125 [00:00<00:00, 209.03it/s, loss=4.3838]\n"
     ]
    },
    {
     "name": "stdout",
     "output_type": "stream",
     "text": [
      "Epoch 35/50 - 0.62s - loss: 4.3838 - val_loss: 4.5784\n"
     ]
    },
    {
     "name": "stderr",
     "output_type": "stream",
     "text": [
      "Epoch 36/50: 100%|██████████| 125/125 [00:00<00:00, 168.69it/s, loss=4.2896]\n"
     ]
    },
    {
     "name": "stdout",
     "output_type": "stream",
     "text": [
      "Epoch 36/50 - 0.77s - loss: 4.2896 - val_loss: 4.5050\n"
     ]
    },
    {
     "name": "stderr",
     "output_type": "stream",
     "text": [
      "Epoch 37/50: 100%|██████████| 125/125 [00:00<00:00, 176.80it/s, loss=4.2011]\n"
     ]
    },
    {
     "name": "stdout",
     "output_type": "stream",
     "text": [
      "Epoch 37/50 - 0.74s - loss: 4.2011 - val_loss: 4.4357\n"
     ]
    },
    {
     "name": "stderr",
     "output_type": "stream",
     "text": [
      "Epoch 38/50: 100%|██████████| 125/125 [00:00<00:00, 215.46it/s, loss=4.1199]\n"
     ]
    },
    {
     "name": "stdout",
     "output_type": "stream",
     "text": [
      "Epoch 38/50 - 0.60s - loss: 4.1199 - val_loss: 4.3700\n"
     ]
    },
    {
     "name": "stderr",
     "output_type": "stream",
     "text": [
      "Epoch 39/50: 100%|██████████| 125/125 [00:00<00:00, 202.49it/s, loss=4.0439]\n"
     ]
    },
    {
     "name": "stdout",
     "output_type": "stream",
     "text": [
      "Epoch 39/50 - 0.64s - loss: 4.0439 - val_loss: 4.3058\n"
     ]
    },
    {
     "name": "stderr",
     "output_type": "stream",
     "text": [
      "Epoch 40/50: 100%|██████████| 125/125 [00:00<00:00, 213.67it/s, loss=3.9714]\n"
     ]
    },
    {
     "name": "stdout",
     "output_type": "stream",
     "text": [
      "Epoch 40/50 - 0.60s - loss: 3.9714 - val_loss: 4.2479\n"
     ]
    },
    {
     "name": "stderr",
     "output_type": "stream",
     "text": [
      "Epoch 41/50: 100%|██████████| 125/125 [00:00<00:00, 167.34it/s, loss=3.9016]\n"
     ]
    },
    {
     "name": "stdout",
     "output_type": "stream",
     "text": [
      "Epoch 41/50 - 0.76s - loss: 3.9016 - val_loss: 4.1945\n"
     ]
    },
    {
     "name": "stderr",
     "output_type": "stream",
     "text": [
      "Epoch 42/50: 100%|██████████| 125/125 [00:00<00:00, 222.02it/s, loss=3.8360]\n"
     ]
    },
    {
     "name": "stdout",
     "output_type": "stream",
     "text": [
      "Epoch 42/50 - 0.59s - loss: 3.8360 - val_loss: 4.1438\n"
     ]
    },
    {
     "name": "stderr",
     "output_type": "stream",
     "text": [
      "Epoch 43/50: 100%|██████████| 125/125 [00:00<00:00, 233.44it/s, loss=3.7728]\n"
     ]
    },
    {
     "name": "stdout",
     "output_type": "stream",
     "text": [
      "Epoch 43/50 - 0.56s - loss: 3.7728 - val_loss: 4.0979\n"
     ]
    },
    {
     "name": "stderr",
     "output_type": "stream",
     "text": [
      "Epoch 44/50: 100%|██████████| 125/125 [00:00<00:00, 233.21it/s, loss=3.7144]\n"
     ]
    },
    {
     "name": "stdout",
     "output_type": "stream",
     "text": [
      "Epoch 44/50 - 0.55s - loss: 3.7144 - val_loss: 4.0548\n"
     ]
    },
    {
     "name": "stderr",
     "output_type": "stream",
     "text": [
      "Epoch 45/50: 100%|██████████| 125/125 [00:00<00:00, 194.40it/s, loss=3.6591]\n"
     ]
    },
    {
     "name": "stdout",
     "output_type": "stream",
     "text": [
      "Epoch 45/50 - 0.67s - loss: 3.6591 - val_loss: 4.0134\n"
     ]
    },
    {
     "name": "stderr",
     "output_type": "stream",
     "text": [
      "Epoch 46/50: 100%|██████████| 125/125 [00:00<00:00, 170.30it/s, loss=3.6053]\n"
     ]
    },
    {
     "name": "stdout",
     "output_type": "stream",
     "text": [
      "Epoch 46/50 - 0.76s - loss: 3.6053 - val_loss: 3.9727\n"
     ]
    },
    {
     "name": "stderr",
     "output_type": "stream",
     "text": [
      "Epoch 47/50: 100%|██████████| 125/125 [00:00<00:00, 198.41it/s, loss=3.5514]\n"
     ]
    },
    {
     "name": "stdout",
     "output_type": "stream",
     "text": [
      "Epoch 47/50 - 0.65s - loss: 3.5514 - val_loss: 3.9340\n"
     ]
    },
    {
     "name": "stderr",
     "output_type": "stream",
     "text": [
      "Epoch 48/50: 100%|██████████| 125/125 [00:00<00:00, 195.75it/s, loss=3.4993]\n"
     ]
    },
    {
     "name": "stdout",
     "output_type": "stream",
     "text": [
      "Epoch 48/50 - 0.66s - loss: 3.4993 - val_loss: 3.8960\n"
     ]
    },
    {
     "name": "stderr",
     "output_type": "stream",
     "text": [
      "Epoch 49/50: 100%|██████████| 125/125 [00:00<00:00, 174.93it/s, loss=3.4462]\n"
     ]
    },
    {
     "name": "stdout",
     "output_type": "stream",
     "text": [
      "Epoch 49/50 - 0.74s - loss: 3.4462 - val_loss: 3.8587\n"
     ]
    },
    {
     "name": "stderr",
     "output_type": "stream",
     "text": [
      "Epoch 50/50: 100%|██████████| 125/125 [00:00<00:00, 160.44it/s, loss=3.3937]\n"
     ]
    },
    {
     "name": "stdout",
     "output_type": "stream",
     "text": [
      "Epoch 50/50 - 0.81s - loss: 3.3937 - val_loss: 3.8213\n",
      "\n",
      "Training sklearn MLPClassifier...\n",
      "First few training labels: [5 9 5 8 3]\n",
      "Label type: <class 'numpy.ndarray'> int64\n",
      "Iteration 1, loss = 0.58612142\n",
      "\n",
      "Model Comparison:\n",
      "Custom FFNN accuracy: 0.7529\n",
      "sklearn MLP accuracy: 0.8947\n"
     ]
    },
    {
     "name": "stderr",
     "output_type": "stream",
     "text": [
      "d:\\GitHub\\Tugas-Besar-I-ML\\.env\\Lib\\site-packages\\sklearn\\neural_network\\_multilayer_perceptron.py:691: ConvergenceWarning: Stochastic Optimizer: Maximum iterations (1) reached and the optimization hasn't converged yet.\n",
      "  warnings.warn(\n"
     ]
    },
    {
     "data": {
      "image/png": "[encoded data removed]",
      "text/plain": [
       "<Figure size 800x500 with 1 Axes>"
      ]
     },
     "metadata": {},
     "output_type": "display_data"
    }
   ],
   "source": [
    "# Import sklearn's MLPClassifier\n",
    "from sklearn.neural_network import MLPClassifier\n",
    "\n",
    "# Define architecture and parameters\n",
    "architecture = [784, 128, 10]\n",
    "learning_rate = 0.01\n",
    "batch_size = 32\n",
    "epochs = 5\n",
    "\n",
    "# Create our custom FFNN\n",
    "activations = [Linear()] + [Softmax()]\n",
    "network = NeuralNetwork(\n",
    "    node_counts=architecture,\n",
    "    activations=activations,\n",
    "    loss_function=CCE(),\n",
    "    initialize_method=NormalInitializer(seed=42)\n",
    ")\n",
    "custom_model = FFNN(network)\n",
    "\n",
    "# Train our custom model\n",
    "print(\"Training custom FFNN model...\")\n",
    "custom_history = custom_model.fit(\n",
    "    X_train_ffnn, y_train_ffnn,\n",
    "    batch_size=batch_size,\n",
    "    epochs=epochs*20,\n",
    "    validation_data=(X_val, y_val),\n",
    "    verbose=1, \n",
    "    learning_rate=learning_rate\n",
    ")\n",
    "\n",
    "# Create sklearn MLPClassifier\n",
    "sklearn_model = MLPClassifier(\n",
    "    hidden_layer_sizes=(128,),\n",
    "    activation='relu',\n",
    "    solver='sgd',\n",
    "    alpha=0.0001,\n",
    "    batch_size=batch_size,\n",
    "    learning_rate_init=learning_rate,\n",
    "    max_iter=epochs//5,\n",
    "    random_state=42,\n",
    "    verbose=True\n",
    ")\n",
    "\n",
    "# Train sklearn model with correct target format\n",
    "print(\"\\nTraining sklearn MLPClassifier...\")\n",
    "# Convert string labels to integers if needed\n",
    "y_train_int = np.array(y_train).astype(int) if isinstance(y_train[0], str) else np.array(y_train, dtype=int)\n",
    "y_test_int = np.array(y_test).astype(int) if isinstance(y_test[0], str) else np.array(y_test, dtype=int)\n",
    "\n",
    "# Check first few labels to debug\n",
    "print(f\"First few training labels: {y_train_int[:5]}\")\n",
    "print(f\"Label type: {type(y_train_int)} {y_train_int.dtype}\")\n",
    "\n",
    "# Fit the model\n",
    "sklearn_model.fit(X_train, y_train_int)\n",
    "\n",
    "# Evaluate both models\n",
    "custom_accuracy = evaluate_model(custom_model, X_test, y_test_onehot)\n",
    "sklearn_predictions = sklearn_model.predict(X_test)\n",
    "sklearn_accuracy = np.mean(sklearn_predictions == y_test_int)\n",
    "\n",
    "print(\"\\nModel Comparison:\")\n",
    "print(f\"Custom FFNN accuracy: {custom_accuracy:.4f}\")\n",
    "print(f\"sklearn MLP accuracy: {sklearn_accuracy:.4f}\")\n",
    "\n",
    "# Compare accuracies\n",
    "plt.figure(figsize=(8, 5))\n",
    "plt.bar(['Custom FFNN', 'sklearn MLP'], [custom_accuracy, sklearn_accuracy])\n",
    "plt.title('Test Accuracy Comparison')\n",
    "plt.ylabel('Accuracy')\n",
    "plt.ylim(0, 1)\n",
    "plt.show()"
   ]
  }
 ],
 "metadata": {
  "kernelspec": {
   "display_name": ".env",
   "language": "python",
   "name": "python3"
  },
  "language_info": {
   "codemirror_mode": {
    "name": "ipython",
    "version": 3
   },
   "file_extension": ".py",
   "mimetype": "text/x-python",
   "name": "python",
   "nbconvert_exporter": "python",
   "pygments_lexer": "ipython3",
   "version": "3.12.9"
  }
 },
 "nbformat": 4,
 "nbformat_minor": 2
}
