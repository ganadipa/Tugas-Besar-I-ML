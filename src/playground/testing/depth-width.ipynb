{
 "cells": [
  {
   "cell_type": "code",
   "execution_count": 1,
   "metadata": {},
   "outputs": [],
   "source": [
    "import os\n",
    "import sys\n",
    "import time\n",
    "import matplotlib.pyplot as plt\n",
    "import numpy as np\n",
    "from sklearn.datasets import fetch_openml\n",
    "from sklearn.linear_model import LogisticRegression\n",
    "from sklearn.model_selection import train_test_split\n",
    "from sklearn.preprocessing import StandardScaler\n",
    "from sklearn.utils import check_random_state\n",
    "from sklearn.preprocessing import OneHotEncoder\n",
    "\n",
    "# Add the parent directory to path to import your modules\n",
    "os.chdir(\"../..\")\n",
    "sys.path.append(os.path.dirname(os.path.dirname(os.getcwd())))\n",
    "from lib import *\n"
   ]
  },
  {
   "cell_type": "code",
   "execution_count": 2,
   "metadata": {},
   "outputs": [
    {
     "name": "stdout",
     "output_type": "stream",
     "text": [
      "Sparsity with L1 penalty: 80.28%\n",
      "Test score with L1 penalty: 0.8302\n",
      "Example run in 6.305 s\n"
     ]
    },
    {
     "data": {
      "image/png": "[encoded data removed]",
      "text/plain": [
       "<Figure size 1000x500 with 10 Axes>"
      ]
     },
     "metadata": {},
     "output_type": "display_data"
    }
   ],
   "source": [
    "# Authors: The scikit-learn developers\n",
    "# SPDX-License-Identifier: BSD-3-Clause\n",
    "\n",
    "# Turn down for faster convergence\n",
    "t0 = time.time()\n",
    "train_samples = 5000\n",
    "\n",
    "# Load data from https://www.openml.org/d/554\n",
    "X, y = fetch_openml(\"mnist_784\", version=1, return_X_y=True, as_frame=False)\n",
    "\n",
    "random_state = check_random_state(0)\n",
    "permutation = random_state.permutation(X.shape[0])\n",
    "X = X[permutation]\n",
    "y = y[permutation]\n",
    "X = X.reshape((X.shape[0], -1))\n",
    "\n",
    "X_train, X_test, y_train, y_test = train_test_split(\n",
    "    X, y, train_size=train_samples, test_size=10000\n",
    ")\n",
    "\n",
    "scaler = StandardScaler()\n",
    "X_train = scaler.fit_transform(X_train)\n",
    "X_test = scaler.transform(X_test)\n",
    "\n",
    "# Turn up tolerance for faster convergence\n",
    "clf = LogisticRegression(C=50.0 / train_samples, penalty=\"l1\", solver=\"saga\", tol=0.1)\n",
    "clf.fit(X_train, y_train)\n",
    "sparsity = np.mean(clf.coef_ == 0) * 100\n",
    "score = clf.score(X_test, y_test)\n",
    "# print('Best C % .4f' % clf.C_)\n",
    "print(\"Sparsity with L1 penalty: %.2f%%\" % sparsity)\n",
    "print(\"Test score with L1 penalty: %.4f\" % score)\n",
    "\n",
    "coef = clf.coef_.copy()\n",
    "plt.figure(figsize=(10, 5))\n",
    "scale = np.abs(coef).max()\n",
    "for i in range(10):\n",
    "    l1_plot = plt.subplot(2, 5, i + 1)\n",
    "    l1_plot.imshow(\n",
    "        coef[i].reshape(28, 28),\n",
    "        interpolation=\"nearest\",\n",
    "        cmap=plt.cm.RdBu,\n",
    "        vmin=-scale,\n",
    "        vmax=scale,\n",
    "    )\n",
    "    l1_plot.set_xticks(())\n",
    "    l1_plot.set_yticks(())\n",
    "    l1_plot.set_xlabel(\"Class %i\" % i)\n",
    "plt.suptitle(\"Classification vector for...\")\n",
    "\n",
    "run_time = time.time() - t0\n",
    "print(\"Example run in %.3f s\" % run_time)\n",
    "plt.show()"
   ]
  },
  {
   "cell_type": "code",
   "execution_count": 3,
   "metadata": {},
   "outputs": [
    {
     "name": "stdout",
     "output_type": "stream",
     "text": [
      "Training set: 4000 samples\n",
      "Validation set: 1000 samples\n",
      "Test set: 10000 samples\n",
      "Input features: 784\n",
      "Output classes: 10\n"
     ]
    }
   ],
   "source": [
    "# Convert labels to one-hot encoding for neural network\n",
    "encoder = OneHotEncoder(sparse_output=False)\n",
    "y_train_onehot = encoder.fit_transform(y_train.reshape(-1, 1))\n",
    "y_test_onehot = encoder.transform(y_test.reshape(-1, 1))\n",
    "\n",
    "# Create validation set\n",
    "X_train, X_val, y_train, y_val = train_test_split(\n",
    "    X_train, y_train_onehot, test_size=0.2, random_state=42\n",
    ")\n",
    "\n",
    "# Print dataset information\n",
    "print(f\"Training set: {X_train.shape[0]} samples\")\n",
    "print(f\"Validation set: {X_val.shape[0]} samples\")\n",
    "print(f\"Test set: {X_test.shape[0]} samples\")\n",
    "print(f\"Input features: {X_train.shape[1]}\")\n",
    "print(f\"Output classes: {y_train_onehot.shape[1]}\")"
   ]
  },
  {
   "cell_type": "markdown",
   "metadata": {},
   "source": [
    "### Pengaruh Depth"
   ]
  },
  {
   "cell_type": "code",
   "execution_count": 4,
   "metadata": {},
   "outputs": [],
   "source": [
    "# Define depth variations with 3, 4, and 5 layers\n",
    "depth_variations = [\n",
    "    [784, 156, 10],\n",
    "    [784, 156, 156, 10],\n",
    "    [784, 156, 156, 156, 10]\n",
    "]\n",
    "\n",
    "\n",
    "# Define width variations with 128, 156, 184 neurons in the hidden layers\n",
    "width_variations = [\n",
    "    [784, 128, 10],\n",
    "    [784, 328, 10],\n",
    "    [784, 528, 10]\n",
    "]"
   ]
  },
  {
   "cell_type": "code",
   "execution_count": 5,
   "metadata": {},
   "outputs": [],
   "source": [
    "# Create Neural Network\n",
    "depth_3_network = NeuralNetwork(\n",
    "    node_counts = depth_variations[0],\n",
    "    activations = [ReLU()] * (len(depth_variations[0]) - 2) + [Softmax()],\n",
    "    loss_function = CCE(),\n",
    "    initialize_methods = NormalInitializer(seed=22)\n",
    ")\n",
    "\n",
    "depth_4_network = NeuralNetwork(\n",
    "    node_counts = depth_variations[1],\n",
    "    activations = [ReLU()] * (len(depth_variations[1]) - 2) + [Softmax()],\n",
    "    loss_function = CCE(),\n",
    "    initialize_methods = NormalInitializer(seed=22)\n",
    ")\n",
    "\n",
    "depth_5_network = NeuralNetwork(\n",
    "    node_counts = depth_variations[2],\n",
    "    activations = [ReLU()] * (len(depth_variations[2]) - 2) + [Softmax()],\n",
    "    loss_function = CCE(),\n",
    "    initialize_methods = NormalInitializer(seed=22)\n",
    ")"
   ]
  },
  {
   "cell_type": "code",
   "execution_count": 6,
   "metadata": {},
   "outputs": [],
   "source": [
    "# Create FFNN model\n",
    "ffnn_depth_3 = FFNN(depth_3_network)\n",
    "\n",
    "ffnn_depth_4 = FFNN(depth_4_network)\n",
    "\n",
    "ffnn_depth_5 = FFNN(depth_5_network)"
   ]
  },
  {
   "cell_type": "code",
   "execution_count": 7,
   "metadata": {},
   "outputs": [
    {
     "name": "stderr",
     "output_type": "stream",
     "text": [
      "Epoch 1/20: 100%|██████████| 125/125 [00:00<00:00, 191.10it/s, loss=9.9570]\n"
     ]
    },
    {
     "name": "stdout",
     "output_type": "stream",
     "text": [
      "Epoch 1/20 - 0.70s - loss: 9.9570 - val_loss: 4.8452\n"
     ]
    },
    {
     "name": "stderr",
     "output_type": "stream",
     "text": [
      "Epoch 2/20: 100%|██████████| 125/125 [00:00<00:00, 144.44it/s, loss=3.5444]\n"
     ]
    },
    {
     "name": "stdout",
     "output_type": "stream",
     "text": [
      "Epoch 2/20 - 0.90s - loss: 3.5444 - val_loss: 3.3249\n"
     ]
    },
    {
     "name": "stderr",
     "output_type": "stream",
     "text": [
      "Epoch 3/20: 100%|██████████| 125/125 [00:00<00:00, 231.54it/s, loss=2.4339]\n"
     ]
    },
    {
     "name": "stdout",
     "output_type": "stream",
     "text": [
      "Epoch 3/20 - 0.56s - loss: 2.4339 - val_loss: 2.8051\n"
     ]
    },
    {
     "name": "stderr",
     "output_type": "stream",
     "text": [
      "Epoch 4/20: 100%|██████████| 125/125 [00:00<00:00, 331.12it/s, loss=1.8518]\n"
     ]
    },
    {
     "name": "stdout",
     "output_type": "stream",
     "text": [
      "Epoch 4/20 - 0.39s - loss: 1.8518 - val_loss: 2.5232\n"
     ]
    },
    {
     "name": "stderr",
     "output_type": "stream",
     "text": [
      "Epoch 5/20: 100%|██████████| 125/125 [00:00<00:00, 287.48it/s, loss=1.4912]\n"
     ]
    },
    {
     "name": "stdout",
     "output_type": "stream",
     "text": [
      "Epoch 5/20 - 0.45s - loss: 1.4912 - val_loss: 2.3869\n"
     ]
    },
    {
     "name": "stderr",
     "output_type": "stream",
     "text": [
      "Epoch 6/20: 100%|██████████| 125/125 [00:00<00:00, 292.15it/s, loss=1.2449]\n"
     ]
    },
    {
     "name": "stdout",
     "output_type": "stream",
     "text": [
      "Epoch 6/20 - 0.44s - loss: 1.2449 - val_loss: 2.2243\n"
     ]
    },
    {
     "name": "stderr",
     "output_type": "stream",
     "text": [
      "Epoch 7/20: 100%|██████████| 125/125 [00:00<00:00, 222.66it/s, loss=1.0576]\n"
     ]
    },
    {
     "name": "stdout",
     "output_type": "stream",
     "text": [
      "Epoch 7/20 - 0.58s - loss: 1.0576 - val_loss: 2.2392\n"
     ]
    },
    {
     "name": "stderr",
     "output_type": "stream",
     "text": [
      "Epoch 8/20: 100%|██████████| 125/125 [00:00<00:00, 254.91it/s, loss=0.9228]\n"
     ]
    },
    {
     "name": "stdout",
     "output_type": "stream",
     "text": [
      "Epoch 8/20 - 0.52s - loss: 0.9228 - val_loss: 2.1166\n"
     ]
    },
    {
     "name": "stderr",
     "output_type": "stream",
     "text": [
      "Epoch 9/20: 100%|██████████| 125/125 [00:01<00:00, 103.43it/s, loss=0.8217]\n"
     ]
    },
    {
     "name": "stdout",
     "output_type": "stream",
     "text": [
      "Epoch 9/20 - 1.23s - loss: 0.8217 - val_loss: 2.0288\n"
     ]
    },
    {
     "name": "stderr",
     "output_type": "stream",
     "text": [
      "Epoch 10/20: 100%|██████████| 125/125 [00:00<00:00, 132.66it/s, loss=0.7538]\n"
     ]
    },
    {
     "name": "stdout",
     "output_type": "stream",
     "text": [
      "Epoch 10/20 - 0.97s - loss: 0.7538 - val_loss: 2.0263\n"
     ]
    },
    {
     "name": "stderr",
     "output_type": "stream",
     "text": [
      "Epoch 11/20: 100%|██████████| 125/125 [00:00<00:00, 127.56it/s, loss=0.6944]\n"
     ]
    },
    {
     "name": "stdout",
     "output_type": "stream",
     "text": [
      "Epoch 11/20 - 1.01s - loss: 0.6944 - val_loss: 1.9670\n"
     ]
    },
    {
     "name": "stderr",
     "output_type": "stream",
     "text": [
      "Epoch 12/20: 100%|██████████| 125/125 [00:00<00:00, 217.58it/s, loss=0.6301]\n"
     ]
    },
    {
     "name": "stdout",
     "output_type": "stream",
     "text": [
      "Epoch 12/20 - 0.59s - loss: 0.6301 - val_loss: 1.9822\n"
     ]
    },
    {
     "name": "stderr",
     "output_type": "stream",
     "text": [
      "Epoch 13/20: 100%|██████████| 125/125 [00:00<00:00, 247.40it/s, loss=0.5825]\n"
     ]
    },
    {
     "name": "stdout",
     "output_type": "stream",
     "text": [
      "Epoch 13/20 - 0.53s - loss: 0.5825 - val_loss: 1.9290\n"
     ]
    },
    {
     "name": "stderr",
     "output_type": "stream",
     "text": [
      "Epoch 14/20: 100%|██████████| 125/125 [00:00<00:00, 256.91it/s, loss=0.5478]\n"
     ]
    },
    {
     "name": "stdout",
     "output_type": "stream",
     "text": [
      "Epoch 14/20 - 0.51s - loss: 0.5478 - val_loss: 1.8987\n"
     ]
    },
    {
     "name": "stderr",
     "output_type": "stream",
     "text": [
      "Epoch 15/20: 100%|██████████| 125/125 [00:00<00:00, 213.24it/s, loss=0.5181]\n"
     ]
    },
    {
     "name": "stdout",
     "output_type": "stream",
     "text": [
      "Epoch 15/20 - 0.61s - loss: 0.5181 - val_loss: 1.8891\n"
     ]
    },
    {
     "name": "stderr",
     "output_type": "stream",
     "text": [
      "Epoch 16/20: 100%|██████████| 125/125 [00:00<00:00, 215.57it/s, loss=0.4881]\n"
     ]
    },
    {
     "name": "stdout",
     "output_type": "stream",
     "text": [
      "Epoch 16/20 - 0.61s - loss: 0.4881 - val_loss: 1.8645\n"
     ]
    },
    {
     "name": "stderr",
     "output_type": "stream",
     "text": [
      "Epoch 17/20: 100%|██████████| 125/125 [00:01<00:00, 123.70it/s, loss=0.4612]\n"
     ]
    },
    {
     "name": "stdout",
     "output_type": "stream",
     "text": [
      "Epoch 17/20 - 1.03s - loss: 0.4612 - val_loss: 1.8762\n"
     ]
    },
    {
     "name": "stderr",
     "output_type": "stream",
     "text": [
      "Epoch 18/20: 100%|██████████| 125/125 [00:01<00:00, 124.15it/s, loss=0.4419]\n"
     ]
    },
    {
     "name": "stdout",
     "output_type": "stream",
     "text": [
      "Epoch 18/20 - 1.03s - loss: 0.4419 - val_loss: 1.8297\n"
     ]
    },
    {
     "name": "stderr",
     "output_type": "stream",
     "text": [
      "Epoch 19/20: 100%|██████████| 125/125 [00:00<00:00, 186.60it/s, loss=0.4228]\n"
     ]
    },
    {
     "name": "stdout",
     "output_type": "stream",
     "text": [
      "Epoch 19/20 - 0.70s - loss: 0.4228 - val_loss: 1.8235\n"
     ]
    },
    {
     "name": "stderr",
     "output_type": "stream",
     "text": [
      "Epoch 20/20: 100%|██████████| 125/125 [00:00<00:00, 245.49it/s, loss=0.4096]\n"
     ]
    },
    {
     "name": "stdout",
     "output_type": "stream",
     "text": [
      "Epoch 20/20 - 0.53s - loss: 0.4096 - val_loss: 1.8233\n"
     ]
    },
    {
     "name": "stderr",
     "output_type": "stream",
     "text": [
      "Epoch 1/20: 100%|██████████| 125/125 [00:00<00:00, 256.14it/s, loss=15.3501]\n"
     ]
    },
    {
     "name": "stdout",
     "output_type": "stream",
     "text": [
      "Epoch 1/20 - 0.51s - loss: 15.3501 - val_loss: 10.0490\n"
     ]
    },
    {
     "name": "stderr",
     "output_type": "stream",
     "text": [
      "Epoch 2/20: 100%|██████████| 125/125 [00:00<00:00, 239.79it/s, loss=8.3880]\n"
     ]
    },
    {
     "name": "stdout",
     "output_type": "stream",
     "text": [
      "Epoch 2/20 - 0.54s - loss: 8.3880 - val_loss: 8.3515\n"
     ]
    },
    {
     "name": "stderr",
     "output_type": "stream",
     "text": [
      "Epoch 3/20: 100%|██████████| 125/125 [00:00<00:00, 198.86it/s, loss=6.7475]\n"
     ]
    },
    {
     "name": "stdout",
     "output_type": "stream",
     "text": [
      "Epoch 3/20 - 0.74s - loss: 6.7475 - val_loss: 6.9042\n"
     ]
    },
    {
     "name": "stderr",
     "output_type": "stream",
     "text": [
      "Epoch 4/20: 100%|██████████| 125/125 [00:00<00:00, 162.12it/s, loss=4.0753]\n"
     ]
    },
    {
     "name": "stdout",
     "output_type": "stream",
     "text": [
      "Epoch 4/20 - 0.79s - loss: 4.0753 - val_loss: 5.1717\n"
     ]
    },
    {
     "name": "stderr",
     "output_type": "stream",
     "text": [
      "Epoch 5/20: 100%|██████████| 125/125 [00:00<00:00, 165.64it/s, loss=2.8369]\n"
     ]
    },
    {
     "name": "stdout",
     "output_type": "stream",
     "text": [
      "Epoch 5/20 - 0.78s - loss: 2.8369 - val_loss: 4.3821\n"
     ]
    },
    {
     "name": "stderr",
     "output_type": "stream",
     "text": [
      "Epoch 6/20: 100%|██████████| 125/125 [00:00<00:00, 149.41it/s, loss=2.3628]\n"
     ]
    },
    {
     "name": "stdout",
     "output_type": "stream",
     "text": [
      "Epoch 6/20 - 0.87s - loss: 2.3628 - val_loss: 4.3737\n"
     ]
    },
    {
     "name": "stderr",
     "output_type": "stream",
     "text": [
      "Epoch 7/20: 100%|██████████| 125/125 [00:01<00:00, 118.43it/s, loss=1.9926]\n"
     ]
    },
    {
     "name": "stdout",
     "output_type": "stream",
     "text": [
      "Epoch 7/20 - 1.09s - loss: 1.9926 - val_loss: 3.6969\n"
     ]
    },
    {
     "name": "stderr",
     "output_type": "stream",
     "text": [
      "Epoch 8/20: 100%|██████████| 125/125 [00:00<00:00, 166.82it/s, loss=1.8740]\n"
     ]
    },
    {
     "name": "stdout",
     "output_type": "stream",
     "text": [
      "Epoch 8/20 - 0.77s - loss: 1.8740 - val_loss: 3.7168\n"
     ]
    },
    {
     "name": "stderr",
     "output_type": "stream",
     "text": [
      "Epoch 9/20: 100%|██████████| 125/125 [00:00<00:00, 200.78it/s, loss=1.6597]\n"
     ]
    },
    {
     "name": "stdout",
     "output_type": "stream",
     "text": [
      "Epoch 9/20 - 0.72s - loss: 1.6597 - val_loss: 3.6516\n"
     ]
    },
    {
     "name": "stderr",
     "output_type": "stream",
     "text": [
      "Epoch 10/20: 100%|██████████| 125/125 [00:00<00:00, 184.38it/s, loss=1.5040]\n"
     ]
    },
    {
     "name": "stdout",
     "output_type": "stream",
     "text": [
      "Epoch 10/20 - 0.70s - loss: 1.5040 - val_loss: 3.5499\n"
     ]
    },
    {
     "name": "stderr",
     "output_type": "stream",
     "text": [
      "Epoch 11/20: 100%|██████████| 125/125 [00:00<00:00, 167.00it/s, loss=1.4676]\n"
     ]
    },
    {
     "name": "stdout",
     "output_type": "stream",
     "text": [
      "Epoch 11/20 - 0.77s - loss: 1.4676 - val_loss: 3.7026\n"
     ]
    },
    {
     "name": "stderr",
     "output_type": "stream",
     "text": [
      "Epoch 12/20: 100%|██████████| 125/125 [00:00<00:00, 191.48it/s, loss=1.4196]\n"
     ]
    },
    {
     "name": "stdout",
     "output_type": "stream",
     "text": [
      "Epoch 12/20 - 0.69s - loss: 1.4196 - val_loss: 3.6775\n"
     ]
    },
    {
     "name": "stderr",
     "output_type": "stream",
     "text": [
      "Epoch 13/20: 100%|██████████| 125/125 [00:00<00:00, 158.18it/s, loss=1.3837]\n"
     ]
    },
    {
     "name": "stdout",
     "output_type": "stream",
     "text": [
      "Epoch 13/20 - 0.81s - loss: 1.3837 - val_loss: 3.6078\n"
     ]
    },
    {
     "name": "stderr",
     "output_type": "stream",
     "text": [
      "Epoch 14/20: 100%|██████████| 125/125 [00:01<00:00, 120.11it/s, loss=1.3540]\n"
     ]
    },
    {
     "name": "stdout",
     "output_type": "stream",
     "text": [
      "Epoch 14/20 - 1.06s - loss: 1.3540 - val_loss: 3.6026\n"
     ]
    },
    {
     "name": "stderr",
     "output_type": "stream",
     "text": [
      "Epoch 15/20: 100%|██████████| 125/125 [00:01<00:00, 123.89it/s, loss=1.3099]\n"
     ]
    },
    {
     "name": "stdout",
     "output_type": "stream",
     "text": [
      "Epoch 15/20 - 1.04s - loss: 1.3099 - val_loss: 3.5821\n"
     ]
    },
    {
     "name": "stderr",
     "output_type": "stream",
     "text": [
      "Epoch 16/20: 100%|██████████| 125/125 [00:00<00:00, 189.95it/s, loss=1.2993]\n"
     ]
    },
    {
     "name": "stdout",
     "output_type": "stream",
     "text": [
      "Epoch 16/20 - 0.68s - loss: 1.2993 - val_loss: 3.5830\n"
     ]
    },
    {
     "name": "stderr",
     "output_type": "stream",
     "text": [
      "Epoch 17/20: 100%|██████████| 125/125 [00:00<00:00, 221.08it/s, loss=1.2913]\n"
     ]
    },
    {
     "name": "stdout",
     "output_type": "stream",
     "text": [
      "Epoch 17/20 - 0.58s - loss: 1.2913 - val_loss: 3.6118\n"
     ]
    },
    {
     "name": "stderr",
     "output_type": "stream",
     "text": [
      "Epoch 18/20: 100%|██████████| 125/125 [00:00<00:00, 216.70it/s, loss=1.2812]\n"
     ]
    },
    {
     "name": "stdout",
     "output_type": "stream",
     "text": [
      "Epoch 18/20 - 0.59s - loss: 1.2812 - val_loss: 3.6101\n"
     ]
    },
    {
     "name": "stderr",
     "output_type": "stream",
     "text": [
      "Epoch 19/20: 100%|██████████| 125/125 [00:00<00:00, 195.27it/s, loss=1.2583]\n"
     ]
    },
    {
     "name": "stdout",
     "output_type": "stream",
     "text": [
      "Epoch 19/20 - 0.65s - loss: 1.2583 - val_loss: 3.6074\n"
     ]
    },
    {
     "name": "stderr",
     "output_type": "stream",
     "text": [
      "Epoch 20/20: 100%|██████████| 125/125 [00:00<00:00, 202.95it/s, loss=1.2518]\n"
     ]
    },
    {
     "name": "stdout",
     "output_type": "stream",
     "text": [
      "Epoch 20/20 - 0.65s - loss: 1.2518 - val_loss: 3.6582\n"
     ]
    },
    {
     "name": "stderr",
     "output_type": "stream",
     "text": [
      "Epoch 1/20: 100%|██████████| 125/125 [00:00<00:00, 130.52it/s, loss=25.1346]\n"
     ]
    },
    {
     "name": "stdout",
     "output_type": "stream",
     "text": [
      "Epoch 1/20 - 0.99s - loss: 25.1346 - val_loss: 21.5169\n"
     ]
    },
    {
     "name": "stderr",
     "output_type": "stream",
     "text": [
      "Epoch 2/20: 100%|██████████| 125/125 [00:00<00:00, 140.95it/s, loss=20.5800]\n"
     ]
    },
    {
     "name": "stdout",
     "output_type": "stream",
     "text": [
      "Epoch 2/20 - 0.90s - loss: 20.5800 - val_loss: 19.9170\n"
     ]
    },
    {
     "name": "stderr",
     "output_type": "stream",
     "text": [
      "Epoch 3/20: 100%|██████████| 125/125 [00:00<00:00, 131.51it/s, loss=19.5078]\n"
     ]
    },
    {
     "name": "stdout",
     "output_type": "stream",
     "text": [
      "Epoch 3/20 - 0.97s - loss: 19.5078 - val_loss: 19.4887\n"
     ]
    },
    {
     "name": "stderr",
     "output_type": "stream",
     "text": [
      "Epoch 4/20: 100%|██████████| 125/125 [00:01<00:00, 108.94it/s, loss=18.7187]\n"
     ]
    },
    {
     "name": "stdout",
     "output_type": "stream",
     "text": [
      "Epoch 4/20 - 1.16s - loss: 18.7187 - val_loss: 19.1896\n"
     ]
    },
    {
     "name": "stderr",
     "output_type": "stream",
     "text": [
      "Epoch 5/20: 100%|██████████| 125/125 [00:01<00:00, 93.03it/s, loss=17.4317]\n"
     ]
    },
    {
     "name": "stdout",
     "output_type": "stream",
     "text": [
      "Epoch 5/20 - 1.37s - loss: 17.4317 - val_loss: 16.9661\n"
     ]
    },
    {
     "name": "stderr",
     "output_type": "stream",
     "text": [
      "Epoch 6/20: 100%|██████████| 125/125 [00:01<00:00, 117.24it/s, loss=15.9664]\n"
     ]
    },
    {
     "name": "stdout",
     "output_type": "stream",
     "text": [
      "Epoch 6/20 - 1.10s - loss: 15.9664 - val_loss: 16.5285\n"
     ]
    },
    {
     "name": "stderr",
     "output_type": "stream",
     "text": [
      "Epoch 7/20: 100%|██████████| 125/125 [00:00<00:00, 142.71it/s, loss=15.9554]\n"
     ]
    },
    {
     "name": "stdout",
     "output_type": "stream",
     "text": [
      "Epoch 7/20 - 0.91s - loss: 15.9554 - val_loss: 16.3520\n"
     ]
    },
    {
     "name": "stderr",
     "output_type": "stream",
     "text": [
      "Epoch 8/20: 100%|██████████| 125/125 [00:00<00:00, 139.93it/s, loss=15.6551]\n"
     ]
    },
    {
     "name": "stdout",
     "output_type": "stream",
     "text": [
      "Epoch 8/20 - 0.91s - loss: 15.6551 - val_loss: 16.6866\n"
     ]
    },
    {
     "name": "stderr",
     "output_type": "stream",
     "text": [
      "Epoch 9/20: 100%|██████████| 125/125 [00:01<00:00, 121.89it/s, loss=15.4723]\n"
     ]
    },
    {
     "name": "stdout",
     "output_type": "stream",
     "text": [
      "Epoch 9/20 - 1.05s - loss: 15.4723 - val_loss: 15.3706\n"
     ]
    },
    {
     "name": "stderr",
     "output_type": "stream",
     "text": [
      "Epoch 10/20: 100%|██████████| 125/125 [00:00<00:00, 130.79it/s, loss=15.2339]\n"
     ]
    },
    {
     "name": "stdout",
     "output_type": "stream",
     "text": [
      "Epoch 10/20 - 0.99s - loss: 15.2339 - val_loss: 16.3858\n"
     ]
    },
    {
     "name": "stderr",
     "output_type": "stream",
     "text": [
      "Epoch 11/20: 100%|██████████| 125/125 [00:00<00:00, 137.40it/s, loss=14.9720]\n"
     ]
    },
    {
     "name": "stdout",
     "output_type": "stream",
     "text": [
      "Epoch 11/20 - 0.94s - loss: 14.9720 - val_loss: 16.1028\n"
     ]
    },
    {
     "name": "stderr",
     "output_type": "stream",
     "text": [
      "Epoch 12/20: 100%|██████████| 125/125 [00:01<00:00, 95.44it/s, loss=14.3129] \n"
     ]
    },
    {
     "name": "stdout",
     "output_type": "stream",
     "text": [
      "Epoch 12/20 - 1.35s - loss: 14.3129 - val_loss: 14.3047\n"
     ]
    },
    {
     "name": "stderr",
     "output_type": "stream",
     "text": [
      "Epoch 13/20: 100%|██████████| 125/125 [00:01<00:00, 122.59it/s, loss=13.7584]\n"
     ]
    },
    {
     "name": "stdout",
     "output_type": "stream",
     "text": [
      "Epoch 13/20 - 1.05s - loss: 13.7584 - val_loss: 14.1474\n"
     ]
    },
    {
     "name": "stderr",
     "output_type": "stream",
     "text": [
      "Epoch 14/20: 100%|██████████| 125/125 [00:01<00:00, 117.56it/s, loss=13.5380]\n"
     ]
    },
    {
     "name": "stdout",
     "output_type": "stream",
     "text": [
      "Epoch 14/20 - 1.09s - loss: 13.5380 - val_loss: 13.9874\n"
     ]
    },
    {
     "name": "stderr",
     "output_type": "stream",
     "text": [
      "Epoch 15/20: 100%|██████████| 125/125 [00:01<00:00, 124.84it/s, loss=13.6194]\n"
     ]
    },
    {
     "name": "stdout",
     "output_type": "stream",
     "text": [
      "Epoch 15/20 - 1.04s - loss: 13.6194 - val_loss: 13.5213\n"
     ]
    },
    {
     "name": "stderr",
     "output_type": "stream",
     "text": [
      "Epoch 16/20: 100%|██████████| 125/125 [00:01<00:00, 110.43it/s, loss=13.0353]\n"
     ]
    },
    {
     "name": "stdout",
     "output_type": "stream",
     "text": [
      "Epoch 16/20 - 1.15s - loss: 13.0353 - val_loss: 13.4411\n"
     ]
    },
    {
     "name": "stderr",
     "output_type": "stream",
     "text": [
      "Epoch 17/20: 100%|██████████| 125/125 [00:00<00:00, 133.04it/s, loss=13.0305]\n"
     ]
    },
    {
     "name": "stdout",
     "output_type": "stream",
     "text": [
      "Epoch 17/20 - 0.96s - loss: 13.0305 - val_loss: 13.3666\n"
     ]
    },
    {
     "name": "stderr",
     "output_type": "stream",
     "text": [
      "Epoch 18/20: 100%|██████████| 125/125 [00:00<00:00, 143.44it/s, loss=12.9848]\n"
     ]
    },
    {
     "name": "stdout",
     "output_type": "stream",
     "text": [
      "Epoch 18/20 - 0.90s - loss: 12.9848 - val_loss: 13.5954\n"
     ]
    },
    {
     "name": "stderr",
     "output_type": "stream",
     "text": [
      "Epoch 19/20: 100%|██████████| 125/125 [00:01<00:00, 120.72it/s, loss=12.5044]\n"
     ]
    },
    {
     "name": "stdout",
     "output_type": "stream",
     "text": [
      "Epoch 19/20 - 1.05s - loss: 12.5044 - val_loss: 12.8163\n"
     ]
    },
    {
     "name": "stderr",
     "output_type": "stream",
     "text": [
      "Epoch 20/20: 100%|██████████| 125/125 [00:01<00:00, 121.82it/s, loss=12.6895]"
     ]
    },
    {
     "name": "stdout",
     "output_type": "stream",
     "text": [
      "Epoch 20/20 - 1.04s - loss: 12.6895 - val_loss: 13.5890\n"
     ]
    },
    {
     "name": "stderr",
     "output_type": "stream",
     "text": [
      "\n"
     ]
    }
   ],
   "source": [
    "# Train the model\n",
    "depth_3_history = ffnn_depth_3.fit(\n",
    "    x_train=X_train,\n",
    "    y_train=y_train,\n",
    "    batch_size=32,\n",
    "    epochs=20,\n",
    "    validation_data=(X_val, y_val),\n",
    "    learning_rate=0.01,\n",
    "    verbose=1\n",
    ")\n",
    "\n",
    "depth_4_history = ffnn_depth_4.fit(\n",
    "    x_train=X_train,\n",
    "    y_train=y_train,\n",
    "    batch_size=32,\n",
    "    epochs=20,\n",
    "    validation_data=(X_val, y_val),\n",
    "    learning_rate=0.01,\n",
    "    verbose=1\n",
    ")\n",
    "\n",
    "depth_5_history = ffnn_depth_5.fit(\n",
    "    x_train=X_train,\n",
    "    y_train=y_train,\n",
    "    batch_size=32,\n",
    "    epochs=20,\n",
    "    validation_data=(X_val, y_val),\n",
    "    learning_rate=0.01,\n",
    "    verbose=1\n",
    ")"
   ]
  },
  {
   "cell_type": "code",
   "execution_count": 8,
   "metadata": {},
   "outputs": [
    {
     "name": "stdout",
     "output_type": "stream",
     "text": [
      "\n",
      "----- Model Performance Summary -----\n",
      "Metric               Value     \n",
      "------------------------------\n",
      "Accuracy             0.8261000000\n",
      "Precision (macro)    0.8252719956\n",
      "Recall (macro)       0.8247380541\n",
      "F1 Score (macro)     0.8246522041\n",
      "------------------------------\n",
      "\n",
      "----- Model Performance Summary -----\n",
      "Metric               Value     \n",
      "------------------------------\n",
      "Accuracy             0.8561000000\n",
      "Precision (macro)    0.8563643810\n",
      "Recall (macro)       0.8553187346\n",
      "F1 Score (macro)     0.8554198561\n",
      "------------------------------\n",
      "\n",
      "----- Model Performance Summary -----\n",
      "Metric               Value     \n",
      "------------------------------\n",
      "Accuracy             0.6013000000\n",
      "Precision (macro)    0.5329740945\n",
      "Recall (macro)       0.5961679071\n",
      "F1 Score (macro)     0.4967579579\n",
      "------------------------------\n"
     ]
    },
    {
     "name": "stderr",
     "output_type": "stream",
     "text": [
      "/home/dovodedomo/Tugas-Besar-I-ML/myenv/lib/python3.13/site-packages/sklearn/metrics/_classification.py:1565: UndefinedMetricWarning: Precision is ill-defined and being set to 0.0 in labels with no predicted samples. Use `zero_division` parameter to control this behavior.\n",
      "  _warn_prf(average, modifier, f\"{metric.capitalize()} is\", len(result))\n"
     ]
    }
   ],
   "source": [
    "# Evaluate the model\n",
    "evaluate_model(ffnn_depth_3, X_test, y_test_onehot)\n",
    "\n",
    "evaluate_model(ffnn_depth_4, X_test, y_test_onehot)\n",
    "\n",
    "evaluate_model(ffnn_depth_5, X_test, y_test_onehot)"
   ]
  },
  {
   "cell_type": "code",
   "execution_count": 9,
   "metadata": {},
   "outputs": [
    {
     "data": {
      "image/png": "[encoded data removed]",
      "text/plain": [
       "<Figure size 800x600 with 1 Axes>"
      ]
     },
     "metadata": {},
     "output_type": "display_data"
    },
    {
     "data": {
      "image/png": "[encoded data removed]",
      "text/plain": [
       "<Figure size 800x600 with 1 Axes>"
      ]
     },
     "metadata": {},
     "output_type": "display_data"
    },
    {
     "data": {
      "image/png": "[encoded data removed]",
      "text/plain": [
       "<Figure size 800x600 with 1 Axes>"
      ]
     },
     "metadata": {},
     "output_type": "display_data"
    }
   ],
   "source": [
    "# Plot the training history\n",
    "plot_training_loss(depth_3_history, \"Depth 3 Training History\")\n",
    "\n",
    "plot_training_loss(depth_4_history, \"Depth 4 Training History\")\n",
    "\n",
    "plot_training_loss(depth_5_history, \"Depth 5 Training History\")"
   ]
  },
  {
   "cell_type": "markdown",
   "metadata": {},
   "source": [
    "### Pengaruh Width"
   ]
  },
  {
   "cell_type": "code",
   "execution_count": 10,
   "metadata": {},
   "outputs": [],
   "source": [
    "# Create Neural Network\n",
    "width_128_network = NeuralNetwork(\n",
    "    node_counts = width_variations[0],\n",
    "    activations = [ReLU()] * (len(width_variations[0]) - 2) + [Softmax()],\n",
    "    loss_function = CCE(),\n",
    "    initialize_methods = NormalInitializer(seed=22)\n",
    ")\n",
    "\n",
    "width_328_network = NeuralNetwork(\n",
    "    node_counts = width_variations[1],\n",
    "    activations = [ReLU()] * (len(width_variations[1]) - 2) + [Softmax()],\n",
    "    loss_function = CCE(),\n",
    "    initialize_methods = NormalInitializer(seed=22)\n",
    ")\n",
    "\n",
    "width_528_network = NeuralNetwork(\n",
    "    node_counts = width_variations[2],\n",
    "    activations = [ReLU()] * (len(width_variations[2]) - 2) + [Softmax()],\n",
    "    loss_function = CCE(),\n",
    "    initialize_methods = NormalInitializer(seed=22)\n",
    ")"
   ]
  },
  {
   "cell_type": "code",
   "execution_count": 11,
   "metadata": {},
   "outputs": [],
   "source": [
    "# Create FFNN model\n",
    "ffnn_width_128 = FFNN(width_128_network)\n",
    "\n",
    "ffnn_width_328 = FFNN(width_328_network)\n",
    "\n",
    "ffnn_width_528 = FFNN(width_528_network)"
   ]
  },
  {
   "cell_type": "code",
   "execution_count": 12,
   "metadata": {},
   "outputs": [
    {
     "name": "stderr",
     "output_type": "stream",
     "text": [
      "Epoch 1/20: 100%|██████████| 125/125 [00:00<00:00, 272.43it/s, loss=10.2406]\n"
     ]
    },
    {
     "name": "stdout",
     "output_type": "stream",
     "text": [
      "Epoch 1/20 - 0.47s - loss: 10.2406 - val_loss: 5.2492\n"
     ]
    },
    {
     "name": "stderr",
     "output_type": "stream",
     "text": [
      "Epoch 2/20: 100%|██████████| 125/125 [00:00<00:00, 248.24it/s, loss=3.9389]\n"
     ]
    },
    {
     "name": "stdout",
     "output_type": "stream",
     "text": [
      "Epoch 2/20 - 0.53s - loss: 3.9389 - val_loss: 3.4942\n"
     ]
    },
    {
     "name": "stderr",
     "output_type": "stream",
     "text": [
      "Epoch 3/20: 100%|██████████| 125/125 [00:00<00:00, 259.90it/s, loss=2.6309]\n"
     ]
    },
    {
     "name": "stdout",
     "output_type": "stream",
     "text": [
      "Epoch 3/20 - 0.50s - loss: 2.6309 - val_loss: 2.8003\n"
     ]
    },
    {
     "name": "stderr",
     "output_type": "stream",
     "text": [
      "Epoch 4/20: 100%|██████████| 125/125 [00:00<00:00, 248.38it/s, loss=1.9736]\n"
     ]
    },
    {
     "name": "stdout",
     "output_type": "stream",
     "text": [
      "Epoch 4/20 - 0.52s - loss: 1.9736 - val_loss: 2.4232\n"
     ]
    },
    {
     "name": "stderr",
     "output_type": "stream",
     "text": [
      "Epoch 5/20: 100%|██████████| 125/125 [00:00<00:00, 265.64it/s, loss=1.5809]\n"
     ]
    },
    {
     "name": "stdout",
     "output_type": "stream",
     "text": [
      "Epoch 5/20 - 0.54s - loss: 1.5809 - val_loss: 2.1911\n"
     ]
    },
    {
     "name": "stderr",
     "output_type": "stream",
     "text": [
      "Epoch 6/20: 100%|██████████| 125/125 [00:00<00:00, 258.81it/s, loss=1.3071]\n"
     ]
    },
    {
     "name": "stdout",
     "output_type": "stream",
     "text": [
      "Epoch 6/20 - 0.55s - loss: 1.3071 - val_loss: 2.1052\n"
     ]
    },
    {
     "name": "stderr",
     "output_type": "stream",
     "text": [
      "Epoch 7/20: 100%|██████████| 125/125 [00:00<00:00, 285.13it/s, loss=1.1016]\n"
     ]
    },
    {
     "name": "stdout",
     "output_type": "stream",
     "text": [
      "Epoch 7/20 - 0.47s - loss: 1.1016 - val_loss: 1.9863\n"
     ]
    },
    {
     "name": "stderr",
     "output_type": "stream",
     "text": [
      "Epoch 8/20: 100%|██████████| 125/125 [00:00<00:00, 270.77it/s, loss=0.9408]\n"
     ]
    },
    {
     "name": "stdout",
     "output_type": "stream",
     "text": [
      "Epoch 8/20 - 0.47s - loss: 0.9408 - val_loss: 1.9287\n"
     ]
    },
    {
     "name": "stderr",
     "output_type": "stream",
     "text": [
      "Epoch 9/20: 100%|██████████| 125/125 [00:00<00:00, 303.81it/s, loss=0.8211]\n"
     ]
    },
    {
     "name": "stdout",
     "output_type": "stream",
     "text": [
      "Epoch 9/20 - 0.44s - loss: 0.8211 - val_loss: 1.8492\n"
     ]
    },
    {
     "name": "stderr",
     "output_type": "stream",
     "text": [
      "Epoch 10/20: 100%|██████████| 125/125 [00:00<00:00, 361.30it/s, loss=0.7373]\n"
     ]
    },
    {
     "name": "stdout",
     "output_type": "stream",
     "text": [
      "Epoch 10/20 - 0.36s - loss: 0.7373 - val_loss: 1.8112\n"
     ]
    },
    {
     "name": "stderr",
     "output_type": "stream",
     "text": [
      "Epoch 11/20: 100%|██████████| 125/125 [00:00<00:00, 297.60it/s, loss=0.6669]\n"
     ]
    },
    {
     "name": "stdout",
     "output_type": "stream",
     "text": [
      "Epoch 11/20 - 0.44s - loss: 0.6669 - val_loss: 1.8075\n"
     ]
    },
    {
     "name": "stderr",
     "output_type": "stream",
     "text": [
      "Epoch 12/20: 100%|██████████| 125/125 [00:00<00:00, 316.51it/s, loss=0.6092]\n"
     ]
    },
    {
     "name": "stdout",
     "output_type": "stream",
     "text": [
      "Epoch 12/20 - 0.41s - loss: 0.6092 - val_loss: 1.7812\n"
     ]
    },
    {
     "name": "stderr",
     "output_type": "stream",
     "text": [
      "Epoch 13/20: 100%|██████████| 125/125 [00:00<00:00, 325.75it/s, loss=0.5640]\n"
     ]
    },
    {
     "name": "stdout",
     "output_type": "stream",
     "text": [
      "Epoch 13/20 - 0.40s - loss: 0.5640 - val_loss: 1.7521\n"
     ]
    },
    {
     "name": "stderr",
     "output_type": "stream",
     "text": [
      "Epoch 14/20: 100%|██████████| 125/125 [00:00<00:00, 324.51it/s, loss=0.5297]\n"
     ]
    },
    {
     "name": "stdout",
     "output_type": "stream",
     "text": [
      "Epoch 14/20 - 0.40s - loss: 0.5297 - val_loss: 1.7380\n"
     ]
    },
    {
     "name": "stderr",
     "output_type": "stream",
     "text": [
      "Epoch 15/20: 100%|██████████| 125/125 [00:00<00:00, 282.64it/s, loss=0.4968]\n"
     ]
    },
    {
     "name": "stdout",
     "output_type": "stream",
     "text": [
      "Epoch 15/20 - 0.47s - loss: 0.4968 - val_loss: 1.7366\n"
     ]
    },
    {
     "name": "stderr",
     "output_type": "stream",
     "text": [
      "Epoch 16/20: 100%|██████████| 125/125 [00:00<00:00, 286.45it/s, loss=0.4697]\n"
     ]
    },
    {
     "name": "stdout",
     "output_type": "stream",
     "text": [
      "Epoch 16/20 - 0.46s - loss: 0.4697 - val_loss: 1.7235\n"
     ]
    },
    {
     "name": "stderr",
     "output_type": "stream",
     "text": [
      "Epoch 17/20: 100%|██████████| 125/125 [00:00<00:00, 267.46it/s, loss=0.4469]\n"
     ]
    },
    {
     "name": "stdout",
     "output_type": "stream",
     "text": [
      "Epoch 17/20 - 0.49s - loss: 0.4469 - val_loss: 1.6989\n"
     ]
    },
    {
     "name": "stderr",
     "output_type": "stream",
     "text": [
      "Epoch 18/20: 100%|██████████| 125/125 [00:00<00:00, 323.13it/s, loss=0.4253]\n"
     ]
    },
    {
     "name": "stdout",
     "output_type": "stream",
     "text": [
      "Epoch 18/20 - 0.40s - loss: 0.4253 - val_loss: 1.6990\n"
     ]
    },
    {
     "name": "stderr",
     "output_type": "stream",
     "text": [
      "Epoch 19/20: 100%|██████████| 125/125 [00:00<00:00, 321.36it/s, loss=0.4076]\n"
     ]
    },
    {
     "name": "stdout",
     "output_type": "stream",
     "text": [
      "Epoch 19/20 - 0.42s - loss: 0.4076 - val_loss: 1.6898\n"
     ]
    },
    {
     "name": "stderr",
     "output_type": "stream",
     "text": [
      "Epoch 20/20: 100%|██████████| 125/125 [00:00<00:00, 260.64it/s, loss=0.3930]\n"
     ]
    },
    {
     "name": "stdout",
     "output_type": "stream",
     "text": [
      "Epoch 20/20 - 0.51s - loss: 0.3930 - val_loss: 1.6820\n"
     ]
    },
    {
     "name": "stderr",
     "output_type": "stream",
     "text": [
      "Epoch 1/20: 100%|██████████| 125/125 [00:00<00:00, 145.12it/s, loss=10.7375]\n"
     ]
    },
    {
     "name": "stdout",
     "output_type": "stream",
     "text": [
      "Epoch 1/20 - 0.88s - loss: 10.7375 - val_loss: 5.7360\n"
     ]
    },
    {
     "name": "stderr",
     "output_type": "stream",
     "text": [
      "Epoch 2/20: 100%|██████████| 125/125 [00:00<00:00, 187.30it/s, loss=4.3800]\n"
     ]
    },
    {
     "name": "stdout",
     "output_type": "stream",
     "text": [
      "Epoch 2/20 - 0.68s - loss: 4.3800 - val_loss: 4.1856\n"
     ]
    },
    {
     "name": "stderr",
     "output_type": "stream",
     "text": [
      "Epoch 3/20: 100%|██████████| 125/125 [00:00<00:00, 193.67it/s, loss=2.9749]\n"
     ]
    },
    {
     "name": "stdout",
     "output_type": "stream",
     "text": [
      "Epoch 3/20 - 0.66s - loss: 2.9749 - val_loss: 3.5479\n"
     ]
    },
    {
     "name": "stderr",
     "output_type": "stream",
     "text": [
      "Epoch 4/20: 100%|██████████| 125/125 [00:00<00:00, 217.74it/s, loss=2.2230]\n"
     ]
    },
    {
     "name": "stdout",
     "output_type": "stream",
     "text": [
      "Epoch 4/20 - 0.59s - loss: 2.2230 - val_loss: 3.1693\n"
     ]
    },
    {
     "name": "stderr",
     "output_type": "stream",
     "text": [
      "Epoch 5/20: 100%|██████████| 125/125 [00:00<00:00, 207.28it/s, loss=1.7519]\n"
     ]
    },
    {
     "name": "stdout",
     "output_type": "stream",
     "text": [
      "Epoch 5/20 - 0.62s - loss: 1.7519 - val_loss: 2.8984\n"
     ]
    },
    {
     "name": "stderr",
     "output_type": "stream",
     "text": [
      "Epoch 6/20: 100%|██████████| 125/125 [00:00<00:00, 147.67it/s, loss=1.4299]\n"
     ]
    },
    {
     "name": "stdout",
     "output_type": "stream",
     "text": [
      "Epoch 6/20 - 0.86s - loss: 1.4299 - val_loss: 2.7573\n"
     ]
    },
    {
     "name": "stderr",
     "output_type": "stream",
     "text": [
      "Epoch 7/20: 100%|██████████| 125/125 [00:00<00:00, 193.32it/s, loss=1.2120]\n"
     ]
    },
    {
     "name": "stdout",
     "output_type": "stream",
     "text": [
      "Epoch 7/20 - 0.67s - loss: 1.2120 - val_loss: 2.8801\n"
     ]
    },
    {
     "name": "stderr",
     "output_type": "stream",
     "text": [
      "Epoch 8/20: 100%|██████████| 125/125 [00:00<00:00, 170.07it/s, loss=1.0829]\n"
     ]
    },
    {
     "name": "stdout",
     "output_type": "stream",
     "text": [
      "Epoch 8/20 - 0.75s - loss: 1.0829 - val_loss: 2.7140\n"
     ]
    },
    {
     "name": "stderr",
     "output_type": "stream",
     "text": [
      "Epoch 9/20: 100%|██████████| 125/125 [00:00<00:00, 157.77it/s, loss=0.9910]\n"
     ]
    },
    {
     "name": "stdout",
     "output_type": "stream",
     "text": [
      "Epoch 9/20 - 0.81s - loss: 0.9910 - val_loss: 2.6254\n"
     ]
    },
    {
     "name": "stderr",
     "output_type": "stream",
     "text": [
      "Epoch 10/20: 100%|██████████| 125/125 [00:00<00:00, 205.76it/s, loss=0.9367]\n"
     ]
    },
    {
     "name": "stdout",
     "output_type": "stream",
     "text": [
      "Epoch 10/20 - 0.62s - loss: 0.9367 - val_loss: 2.6440\n"
     ]
    },
    {
     "name": "stderr",
     "output_type": "stream",
     "text": [
      "Epoch 11/20: 100%|██████████| 125/125 [00:00<00:00, 141.83it/s, loss=0.9051]\n"
     ]
    },
    {
     "name": "stdout",
     "output_type": "stream",
     "text": [
      "Epoch 11/20 - 0.90s - loss: 0.9051 - val_loss: 2.5740\n"
     ]
    },
    {
     "name": "stderr",
     "output_type": "stream",
     "text": [
      "Epoch 12/20: 100%|██████████| 125/125 [00:00<00:00, 130.51it/s, loss=0.8801]\n"
     ]
    },
    {
     "name": "stdout",
     "output_type": "stream",
     "text": [
      "Epoch 12/20 - 0.97s - loss: 0.8801 - val_loss: 2.5672\n"
     ]
    },
    {
     "name": "stderr",
     "output_type": "stream",
     "text": [
      "Epoch 13/20: 100%|██████████| 125/125 [00:01<00:00, 117.66it/s, loss=0.8546]\n"
     ]
    },
    {
     "name": "stdout",
     "output_type": "stream",
     "text": [
      "Epoch 13/20 - 1.08s - loss: 0.8546 - val_loss: 2.5243\n"
     ]
    },
    {
     "name": "stderr",
     "output_type": "stream",
     "text": [
      "Epoch 14/20: 100%|██████████| 125/125 [00:00<00:00, 125.33it/s, loss=0.8406]\n"
     ]
    },
    {
     "name": "stdout",
     "output_type": "stream",
     "text": [
      "Epoch 14/20 - 1.02s - loss: 0.8406 - val_loss: 2.5262\n"
     ]
    },
    {
     "name": "stderr",
     "output_type": "stream",
     "text": [
      "Epoch 15/20: 100%|██████████| 125/125 [00:00<00:00, 127.93it/s, loss=0.8277]\n"
     ]
    },
    {
     "name": "stdout",
     "output_type": "stream",
     "text": [
      "Epoch 15/20 - 1.00s - loss: 0.8277 - val_loss: 2.5268\n"
     ]
    },
    {
     "name": "stderr",
     "output_type": "stream",
     "text": [
      "Epoch 16/20: 100%|██████████| 125/125 [00:01<00:00, 113.28it/s, loss=0.8136]\n"
     ]
    },
    {
     "name": "stdout",
     "output_type": "stream",
     "text": [
      "Epoch 16/20 - 1.12s - loss: 0.8136 - val_loss: 2.5221\n"
     ]
    },
    {
     "name": "stderr",
     "output_type": "stream",
     "text": [
      "Epoch 17/20: 100%|██████████| 125/125 [00:00<00:00, 127.75it/s, loss=0.8020]\n"
     ]
    },
    {
     "name": "stdout",
     "output_type": "stream",
     "text": [
      "Epoch 17/20 - 1.00s - loss: 0.8020 - val_loss: 2.5282\n"
     ]
    },
    {
     "name": "stderr",
     "output_type": "stream",
     "text": [
      "Epoch 18/20: 100%|██████████| 125/125 [00:01<00:00, 117.10it/s, loss=0.7952]\n"
     ]
    },
    {
     "name": "stdout",
     "output_type": "stream",
     "text": [
      "Epoch 18/20 - 1.08s - loss: 0.7952 - val_loss: 2.5193\n"
     ]
    },
    {
     "name": "stderr",
     "output_type": "stream",
     "text": [
      "Epoch 19/20: 100%|██████████| 125/125 [00:01<00:00, 91.95it/s, loss=0.7899]\n"
     ]
    },
    {
     "name": "stdout",
     "output_type": "stream",
     "text": [
      "Epoch 19/20 - 1.39s - loss: 0.7899 - val_loss: 2.5106\n"
     ]
    },
    {
     "name": "stderr",
     "output_type": "stream",
     "text": [
      "Epoch 20/20: 100%|██████████| 125/125 [00:01<00:00, 88.91it/s, loss=0.7870]\n"
     ]
    },
    {
     "name": "stdout",
     "output_type": "stream",
     "text": [
      "Epoch 20/20 - 1.43s - loss: 0.7870 - val_loss: 2.5067\n"
     ]
    },
    {
     "name": "stderr",
     "output_type": "stream",
     "text": [
      "Epoch 1/20: 100%|██████████| 125/125 [00:01<00:00, 91.23it/s, loss=13.9726] \n"
     ]
    },
    {
     "name": "stdout",
     "output_type": "stream",
     "text": [
      "Epoch 1/20 - 1.40s - loss: 13.9726 - val_loss: 7.2546\n"
     ]
    },
    {
     "name": "stderr",
     "output_type": "stream",
     "text": [
      "Epoch 2/20: 100%|██████████| 125/125 [00:01<00:00, 120.02it/s, loss=5.2330]\n"
     ]
    },
    {
     "name": "stdout",
     "output_type": "stream",
     "text": [
      "Epoch 2/20 - 1.06s - loss: 5.2330 - val_loss: 5.3007\n"
     ]
    },
    {
     "name": "stderr",
     "output_type": "stream",
     "text": [
      "Epoch 3/20: 100%|██████████| 125/125 [00:01<00:00, 109.74it/s, loss=3.3862]\n"
     ]
    },
    {
     "name": "stdout",
     "output_type": "stream",
     "text": [
      "Epoch 3/20 - 1.16s - loss: 3.3862 - val_loss: 4.3959\n"
     ]
    },
    {
     "name": "stderr",
     "output_type": "stream",
     "text": [
      "Epoch 4/20: 100%|██████████| 125/125 [00:01<00:00, 85.20it/s, loss=2.6197]\n"
     ]
    },
    {
     "name": "stdout",
     "output_type": "stream",
     "text": [
      "Epoch 4/20 - 1.50s - loss: 2.6197 - val_loss: 4.1249\n"
     ]
    },
    {
     "name": "stderr",
     "output_type": "stream",
     "text": [
      "Epoch 5/20: 100%|██████████| 125/125 [00:01<00:00, 87.85it/s, loss=2.2464] \n"
     ]
    },
    {
     "name": "stdout",
     "output_type": "stream",
     "text": [
      "Epoch 5/20 - 1.44s - loss: 2.2464 - val_loss: 3.9343\n"
     ]
    },
    {
     "name": "stderr",
     "output_type": "stream",
     "text": [
      "Epoch 6/20: 100%|██████████| 125/125 [00:01<00:00, 83.53it/s, loss=1.9499]\n"
     ]
    },
    {
     "name": "stdout",
     "output_type": "stream",
     "text": [
      "Epoch 6/20 - 1.52s - loss: 1.9499 - val_loss: 3.5980\n"
     ]
    },
    {
     "name": "stderr",
     "output_type": "stream",
     "text": [
      "Epoch 7/20: 100%|██████████| 125/125 [00:01<00:00, 100.06it/s, loss=1.7577]\n"
     ]
    },
    {
     "name": "stdout",
     "output_type": "stream",
     "text": [
      "Epoch 7/20 - 1.27s - loss: 1.7577 - val_loss: 3.5646\n"
     ]
    },
    {
     "name": "stderr",
     "output_type": "stream",
     "text": [
      "Epoch 8/20: 100%|██████████| 125/125 [00:01<00:00, 79.02it/s, loss=1.6350]\n"
     ]
    },
    {
     "name": "stdout",
     "output_type": "stream",
     "text": [
      "Epoch 8/20 - 1.61s - loss: 1.6350 - val_loss: 3.5189\n"
     ]
    },
    {
     "name": "stderr",
     "output_type": "stream",
     "text": [
      "Epoch 9/20: 100%|██████████| 125/125 [00:01<00:00, 94.07it/s, loss=1.5484] \n"
     ]
    },
    {
     "name": "stdout",
     "output_type": "stream",
     "text": [
      "Epoch 9/20 - 1.35s - loss: 1.5484 - val_loss: 3.4409\n"
     ]
    },
    {
     "name": "stderr",
     "output_type": "stream",
     "text": [
      "Epoch 10/20: 100%|██████████| 125/125 [00:01<00:00, 84.51it/s, loss=1.4763]\n"
     ]
    },
    {
     "name": "stdout",
     "output_type": "stream",
     "text": [
      "Epoch 10/20 - 1.51s - loss: 1.4763 - val_loss: 3.4961\n"
     ]
    },
    {
     "name": "stderr",
     "output_type": "stream",
     "text": [
      "Epoch 11/20: 100%|██████████| 125/125 [00:01<00:00, 91.78it/s, loss=1.4344] \n"
     ]
    },
    {
     "name": "stdout",
     "output_type": "stream",
     "text": [
      "Epoch 11/20 - 1.39s - loss: 1.4344 - val_loss: 3.4673\n"
     ]
    },
    {
     "name": "stderr",
     "output_type": "stream",
     "text": [
      "Epoch 12/20: 100%|██████████| 125/125 [00:01<00:00, 70.25it/s, loss=1.3372]\n"
     ]
    },
    {
     "name": "stdout",
     "output_type": "stream",
     "text": [
      "Epoch 12/20 - 1.81s - loss: 1.3372 - val_loss: 3.4332\n"
     ]
    },
    {
     "name": "stderr",
     "output_type": "stream",
     "text": [
      "Epoch 13/20: 100%|██████████| 125/125 [00:01<00:00, 74.40it/s, loss=1.2973]\n"
     ]
    },
    {
     "name": "stdout",
     "output_type": "stream",
     "text": [
      "Epoch 13/20 - 1.71s - loss: 1.2973 - val_loss: 3.4078\n"
     ]
    },
    {
     "name": "stderr",
     "output_type": "stream",
     "text": [
      "Epoch 14/20: 100%|██████████| 125/125 [00:01<00:00, 79.39it/s, loss=1.2762]\n"
     ]
    },
    {
     "name": "stdout",
     "output_type": "stream",
     "text": [
      "Epoch 14/20 - 1.60s - loss: 1.2762 - val_loss: 3.3869\n"
     ]
    },
    {
     "name": "stderr",
     "output_type": "stream",
     "text": [
      "Epoch 15/20: 100%|██████████| 125/125 [00:01<00:00, 81.18it/s, loss=1.2692]\n"
     ]
    },
    {
     "name": "stdout",
     "output_type": "stream",
     "text": [
      "Epoch 15/20 - 1.56s - loss: 1.2692 - val_loss: 3.3570\n"
     ]
    },
    {
     "name": "stderr",
     "output_type": "stream",
     "text": [
      "Epoch 16/20: 100%|██████████| 125/125 [00:01<00:00, 80.52it/s, loss=1.2615]\n"
     ]
    },
    {
     "name": "stdout",
     "output_type": "stream",
     "text": [
      "Epoch 16/20 - 1.58s - loss: 1.2615 - val_loss: 3.3688\n"
     ]
    },
    {
     "name": "stderr",
     "output_type": "stream",
     "text": [
      "Epoch 17/20: 100%|██████████| 125/125 [00:01<00:00, 65.66it/s, loss=1.2577]\n"
     ]
    },
    {
     "name": "stdout",
     "output_type": "stream",
     "text": [
      "Epoch 17/20 - 1.94s - loss: 1.2577 - val_loss: 3.3487\n"
     ]
    },
    {
     "name": "stderr",
     "output_type": "stream",
     "text": [
      "Epoch 18/20: 100%|██████████| 125/125 [00:01<00:00, 101.52it/s, loss=1.2543]\n"
     ]
    },
    {
     "name": "stdout",
     "output_type": "stream",
     "text": [
      "Epoch 18/20 - 1.26s - loss: 1.2543 - val_loss: 3.3605\n"
     ]
    },
    {
     "name": "stderr",
     "output_type": "stream",
     "text": [
      "Epoch 19/20: 100%|██████████| 125/125 [00:01<00:00, 109.15it/s, loss=1.2508]\n"
     ]
    },
    {
     "name": "stdout",
     "output_type": "stream",
     "text": [
      "Epoch 19/20 - 1.18s - loss: 1.2508 - val_loss: 3.3322\n"
     ]
    },
    {
     "name": "stderr",
     "output_type": "stream",
     "text": [
      "Epoch 20/20: 100%|██████████| 125/125 [00:01<00:00, 115.57it/s, loss=1.2460]\n"
     ]
    },
    {
     "name": "stdout",
     "output_type": "stream",
     "text": [
      "Epoch 20/20 - 1.12s - loss: 1.2460 - val_loss: 3.3243\n"
     ]
    }
   ],
   "source": [
    "# Train the model\n",
    "width_128_history = ffnn_width_128.fit(\n",
    "    x_train=X_train,\n",
    "    y_train=y_train,\n",
    "    batch_size=32,\n",
    "    epochs=20,\n",
    "    validation_data=(X_val, y_val),\n",
    "    learning_rate=0.01,\n",
    "    verbose=1\n",
    ")\n",
    "\n",
    "width_328_history = ffnn_width_328.fit(\n",
    "    x_train=X_train,\n",
    "    y_train=y_train,\n",
    "    batch_size=32,\n",
    "    epochs=20,\n",
    "    validation_data=(X_val, y_val),\n",
    "    learning_rate=0.01,\n",
    "    verbose=1\n",
    ")\n",
    "\n",
    "width_528_history = ffnn_width_528.fit(\n",
    "    x_train=X_train,\n",
    "    y_train=y_train,\n",
    "    batch_size=32,\n",
    "    epochs=20,\n",
    "    validation_data=(X_val, y_val),\n",
    "    learning_rate=0.01,\n",
    "    verbose=1\n",
    ")"
   ]
  },
  {
   "cell_type": "code",
   "execution_count": 13,
   "metadata": {},
   "outputs": [
    {
     "name": "stdout",
     "output_type": "stream",
     "text": [
      "\n",
      "----- Model Performance Summary -----\n",
      "Metric               Value     \n",
      "------------------------------\n",
      "Accuracy             0.8260000000\n",
      "Precision (macro)    0.8249842077\n",
      "Recall (macro)       0.8248066871\n",
      "F1 Score (macro)     0.8247831286\n",
      "------------------------------\n",
      "\n",
      "----- Model Performance Summary -----\n",
      "Metric               Value     \n",
      "------------------------------\n",
      "Accuracy             0.8345000000\n",
      "Precision (macro)    0.8329224847\n",
      "Recall (macro)       0.8336821656\n",
      "F1 Score (macro)     0.8330194002\n",
      "------------------------------\n",
      "\n",
      "----- Model Performance Summary -----\n",
      "Metric               Value     \n",
      "------------------------------\n",
      "Accuracy             0.8371000000\n",
      "Precision (macro)    0.8363164880\n",
      "Recall (macro)       0.8362335689\n",
      "F1 Score (macro)     0.8356682365\n",
      "------------------------------\n"
     ]
    }
   ],
   "source": [
    "# Evaluate the model\n",
    "evaluate_model(ffnn_width_128, X_test, y_test_onehot)\n",
    "\n",
    "evaluate_model(ffnn_width_328, X_test, y_test_onehot)\n",
    "\n",
    "evaluate_model(ffnn_width_528, X_test, y_test_onehot)"
   ]
  },
  {
   "cell_type": "code",
   "execution_count": 14,
   "metadata": {},
   "outputs": [
    {
     "data": {
      "image/png": "[encoded data removed]",
      "text/plain": [
       "<Figure size 800x600 with 1 Axes>"
      ]
     },
     "metadata": {},
     "output_type": "display_data"
    },
    {
     "data": {
      "image/png": "[encoded data removed]",
      "text/plain": [
       "<Figure size 800x600 with 1 Axes>"
      ]
     },
     "metadata": {},
     "output_type": "display_data"
    },
    {
     "data": {
      "image/png": "[encoded data removed]",
      "text/plain": [
       "<Figure size 800x600 with 1 Axes>"
      ]
     },
     "metadata": {},
     "output_type": "display_data"
    }
   ],
   "source": [
    "# Plot the training history\n",
    "plot_training_loss(width_128_history, \"Width 128 Training History\")\n",
    "\n",
    "plot_training_loss(width_328_history, \"Width 328 Training History\")\n",
    "\n",
    "plot_training_loss(width_528_history, \"Width 528 Training History\")"
   ]
  }
 ],
 "metadata": {
  "kernelspec": {
   "display_name": "myenv",
   "language": "python",
   "name": "python3"
  },
  "language_info": {
   "codemirror_mode": {
    "name": "ipython",
    "version": 3
   },
   "file_extension": ".py",
   "mimetype": "text/x-python",
   "name": "python",
   "nbconvert_exporter": "python",
   "pygments_lexer": "ipython3",
   "version": "3.13.2"
  }
 },
 "nbformat": 4,
 "nbformat_minor": 2
}
