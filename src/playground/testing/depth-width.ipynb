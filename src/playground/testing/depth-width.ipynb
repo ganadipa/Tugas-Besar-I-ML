{
 "cells": [
  {
   "cell_type": "code",
   "execution_count": 1,
   "metadata": {},
   "outputs": [],
   "source": [
    "import os\n",
    "import sys\n",
    "import time\n",
    "import matplotlib.pyplot as plt\n",
    "import numpy as np\n",
    "from sklearn.datasets import fetch_openml\n",
    "from sklearn.linear_model import LogisticRegression\n",
    "from sklearn.model_selection import train_test_split\n",
    "from sklearn.preprocessing import StandardScaler\n",
    "from sklearn.utils import check_random_state\n",
    "from sklearn.preprocessing import OneHotEncoder\n",
    "\n",
    "# Add the parent directory to path to import your modules\n",
    "os.chdir(\"../..\")\n",
    "sys.path.append(os.path.dirname(os.path.dirname(os.getcwd())))\n",
    "from lib import *\n"
   ]
  },
  {
   "cell_type": "code",
   "execution_count": 2,
   "metadata": {},
   "outputs": [
    {
     "name": "stdout",
     "output_type": "stream",
     "text": [
      "Sparsity with L1 penalty: 78.94%\n",
      "Test score with L1 penalty: 0.8198\n",
      "Example run in 6.023 s\n"
     ]
    },
    {
     "data": {
      "image/png": "[encoded data removed]",
      "text/plain": [
       "<Figure size 1000x500 with 10 Axes>"
      ]
     },
     "metadata": {},
     "output_type": "display_data"
    }
   ],
   "source": [
    "# Authors: The scikit-learn developers\n",
    "# SPDX-License-Identifier: BSD-3-Clause\n",
    "\n",
    "# Turn down for faster convergence\n",
    "t0 = time.time()\n",
    "train_samples = 5000\n",
    "\n",
    "# Load data from https://www.openml.org/d/554\n",
    "X, y = fetch_openml(\"mnist_784\", version=1, return_X_y=True, as_frame=False)\n",
    "\n",
    "random_state = check_random_state(0)\n",
    "permutation = random_state.permutation(X.shape[0])\n",
    "X = X[permutation]\n",
    "y = y[permutation]\n",
    "X = X.reshape((X.shape[0], -1))\n",
    "\n",
    "X_train, X_test, y_train, y_test = train_test_split(\n",
    "    X, y, train_size=train_samples, test_size=10000\n",
    ")\n",
    "\n",
    "scaler = StandardScaler()\n",
    "X_train = scaler.fit_transform(X_train)\n",
    "X_test = scaler.transform(X_test)\n",
    "\n",
    "# Turn up tolerance for faster convergence\n",
    "clf = LogisticRegression(C=50.0 / train_samples, penalty=\"l1\", solver=\"saga\", tol=0.1)\n",
    "clf.fit(X_train, y_train)\n",
    "sparsity = np.mean(clf.coef_ == 0) * 100\n",
    "score = clf.score(X_test, y_test)\n",
    "# print('Best C % .4f' % clf.C_)\n",
    "print(\"Sparsity with L1 penalty: %.2f%%\" % sparsity)\n",
    "print(\"Test score with L1 penalty: %.4f\" % score)\n",
    "\n",
    "coef = clf.coef_.copy()\n",
    "plt.figure(figsize=(10, 5))\n",
    "scale = np.abs(coef).max()\n",
    "for i in range(10):\n",
    "    l1_plot = plt.subplot(2, 5, i + 1)\n",
    "    l1_plot.imshow(\n",
    "        coef[i].reshape(28, 28),\n",
    "        interpolation=\"nearest\",\n",
    "        cmap=plt.cm.RdBu,\n",
    "        vmin=-scale,\n",
    "        vmax=scale,\n",
    "    )\n",
    "    l1_plot.set_xticks(())\n",
    "    l1_plot.set_yticks(())\n",
    "    l1_plot.set_xlabel(\"Class %i\" % i)\n",
    "plt.suptitle(\"Classification vector for...\")\n",
    "\n",
    "run_time = time.time() - t0\n",
    "print(\"Example run in %.3f s\" % run_time)\n",
    "plt.show()"
   ]
  },
  {
   "cell_type": "code",
   "execution_count": 3,
   "metadata": {},
   "outputs": [
    {
     "name": "stdout",
     "output_type": "stream",
     "text": [
      "Training set: 4000 samples\n",
      "Validation set: 1000 samples\n",
      "Test set: 10000 samples\n",
      "Input features: 784\n",
      "Output classes: 10\n"
     ]
    }
   ],
   "source": [
    "# Convert labels to one-hot encoding for neural network\n",
    "encoder = OneHotEncoder(sparse_output=False)\n",
    "y_train_onehot = encoder.fit_transform(y_train.reshape(-1, 1))\n",
    "y_test_onehot = encoder.transform(y_test.reshape(-1, 1))\n",
    "\n",
    "# Create validation set\n",
    "X_train, X_val, y_train, y_val = train_test_split(\n",
    "    X_train, y_train_onehot, test_size=0.2, random_state=42\n",
    ")\n",
    "\n",
    "# Print dataset information\n",
    "print(f\"Training set: {X_train.shape[0]} samples\")\n",
    "print(f\"Validation set: {X_val.shape[0]} samples\")\n",
    "print(f\"Test set: {X_test.shape[0]} samples\")\n",
    "print(f\"Input features: {X_train.shape[1]}\")\n",
    "print(f\"Output classes: {y_train_onehot.shape[1]}\")"
   ]
  },
  {
   "cell_type": "markdown",
   "metadata": {},
   "source": [
    "### Pengaruh Depth"
   ]
  },
  {
   "cell_type": "code",
   "execution_count": null,
   "metadata": {},
   "outputs": [],
   "source": [
    "# Define depth variations with 3, 4, and 5 layers\n",
    "depth_variations = [\n",
    "    [784, 156, 10],\n",
    "    [784, 156, 156, 10],\n",
    "    [784, 156, 156, 156, 10]\n",
    "]\n",
    "\n",
    "\n",
    "# Define width variations with 128, 328, 528 neurons in the hidden layers\n",
    "width_variations = [\n",
    "    [784, 128, 10],\n",
    "    [784, 328, 10],\n",
    "    [784, 528, 10]\n",
    "]"
   ]
  },
  {
   "cell_type": "code",
   "execution_count": 5,
   "metadata": {},
   "outputs": [],
   "source": [
    "# Create Neural Network\n",
    "depth_3_network = NeuralNetwork(\n",
    "    node_counts = depth_variations[0],\n",
    "    activations = [ReLU()] * (len(depth_variations[0]) - 2) + [Softmax()],\n",
    "    loss_function = CCE(),\n",
    "    initialize_methods = NormalInitializer(seed=22)\n",
    ")\n",
    "\n",
    "depth_4_network = NeuralNetwork(\n",
    "    node_counts = depth_variations[1],\n",
    "    activations = [ReLU()] * (len(depth_variations[1]) - 2) + [Softmax()],\n",
    "    loss_function = CCE(),\n",
    "    initialize_methods = NormalInitializer(seed=22)\n",
    ")\n",
    "\n",
    "depth_5_network = NeuralNetwork(\n",
    "    node_counts = depth_variations[2],\n",
    "    activations = [ReLU()] * (len(depth_variations[2]) - 2) + [Softmax()],\n",
    "    loss_function = CCE(),\n",
    "    initialize_methods = NormalInitializer(seed=22)\n",
    ")"
   ]
  },
  {
   "cell_type": "code",
   "execution_count": 6,
   "metadata": {},
   "outputs": [],
   "source": [
    "# Create FFNN model\n",
    "ffnn_depth_3 = FFNN(depth_3_network)\n",
    "\n",
    "ffnn_depth_4 = FFNN(depth_4_network)\n",
    "\n",
    "ffnn_depth_5 = FFNN(depth_5_network)"
   ]
  },
  {
   "cell_type": "code",
   "execution_count": 7,
   "metadata": {},
   "outputs": [
    {
     "name": "stderr",
     "output_type": "stream",
     "text": [
      "Epoch 1/20: 100%|██████████| 125/125 [00:00<00:00, 174.34it/s, loss=10.1895]\n"
     ]
    },
    {
     "name": "stdout",
     "output_type": "stream",
     "text": [
      "Epoch 1/20 - 0.73s - loss: 10.1895 - val_loss: 4.6722\n"
     ]
    },
    {
     "name": "stderr",
     "output_type": "stream",
     "text": [
      "Epoch 2/20: 100%|██████████| 125/125 [00:00<00:00, 147.34it/s, loss=3.5630]\n"
     ]
    },
    {
     "name": "stdout",
     "output_type": "stream",
     "text": [
      "Epoch 2/20 - 0.87s - loss: 3.5630 - val_loss: 2.8940\n"
     ]
    },
    {
     "name": "stderr",
     "output_type": "stream",
     "text": [
      "Epoch 3/20: 100%|██████████| 125/125 [00:00<00:00, 206.04it/s, loss=2.3112]\n"
     ]
    },
    {
     "name": "stdout",
     "output_type": "stream",
     "text": [
      "Epoch 3/20 - 0.63s - loss: 2.3112 - val_loss: 2.5076\n"
     ]
    },
    {
     "name": "stderr",
     "output_type": "stream",
     "text": [
      "Epoch 4/20: 100%|██████████| 125/125 [00:00<00:00, 192.49it/s, loss=1.7453]\n"
     ]
    },
    {
     "name": "stdout",
     "output_type": "stream",
     "text": [
      "Epoch 4/20 - 0.68s - loss: 1.7453 - val_loss: 2.3101\n"
     ]
    },
    {
     "name": "stderr",
     "output_type": "stream",
     "text": [
      "Epoch 5/20: 100%|██████████| 125/125 [00:00<00:00, 191.59it/s, loss=1.4116]\n"
     ]
    },
    {
     "name": "stdout",
     "output_type": "stream",
     "text": [
      "Epoch 5/20 - 0.67s - loss: 1.4116 - val_loss: 2.1932\n"
     ]
    },
    {
     "name": "stderr",
     "output_type": "stream",
     "text": [
      "Epoch 6/20: 100%|██████████| 125/125 [00:00<00:00, 209.28it/s, loss=1.1679]\n"
     ]
    },
    {
     "name": "stdout",
     "output_type": "stream",
     "text": [
      "Epoch 6/20 - 0.62s - loss: 1.1679 - val_loss: 2.0398\n"
     ]
    },
    {
     "name": "stderr",
     "output_type": "stream",
     "text": [
      "Epoch 7/20: 100%|██████████| 125/125 [00:00<00:00, 174.02it/s, loss=0.9892]\n"
     ]
    },
    {
     "name": "stdout",
     "output_type": "stream",
     "text": [
      "Epoch 7/20 - 0.76s - loss: 0.9892 - val_loss: 2.0161\n"
     ]
    },
    {
     "name": "stderr",
     "output_type": "stream",
     "text": [
      "Epoch 8/20: 100%|██████████| 125/125 [00:00<00:00, 182.15it/s, loss=0.8685]\n"
     ]
    },
    {
     "name": "stdout",
     "output_type": "stream",
     "text": [
      "Epoch 8/20 - 0.72s - loss: 0.8685 - val_loss: 1.9185\n"
     ]
    },
    {
     "name": "stderr",
     "output_type": "stream",
     "text": [
      "Epoch 9/20: 100%|██████████| 125/125 [00:00<00:00, 215.46it/s, loss=0.7524]\n"
     ]
    },
    {
     "name": "stdout",
     "output_type": "stream",
     "text": [
      "Epoch 9/20 - 0.63s - loss: 0.7524 - val_loss: 1.8646\n"
     ]
    },
    {
     "name": "stderr",
     "output_type": "stream",
     "text": [
      "Epoch 10/20: 100%|██████████| 125/125 [00:00<00:00, 179.35it/s, loss=0.6682]\n"
     ]
    },
    {
     "name": "stdout",
     "output_type": "stream",
     "text": [
      "Epoch 10/20 - 0.73s - loss: 0.6682 - val_loss: 1.8129\n"
     ]
    },
    {
     "name": "stderr",
     "output_type": "stream",
     "text": [
      "Epoch 11/20: 100%|██████████| 125/125 [00:00<00:00, 225.81it/s, loss=0.5946]\n"
     ]
    },
    {
     "name": "stdout",
     "output_type": "stream",
     "text": [
      "Epoch 11/20 - 0.57s - loss: 0.5946 - val_loss: 1.7996\n"
     ]
    },
    {
     "name": "stderr",
     "output_type": "stream",
     "text": [
      "Epoch 12/20: 100%|██████████| 125/125 [00:00<00:00, 147.99it/s, loss=0.5427]\n"
     ]
    },
    {
     "name": "stdout",
     "output_type": "stream",
     "text": [
      "Epoch 12/20 - 0.90s - loss: 0.5427 - val_loss: 1.7729\n"
     ]
    },
    {
     "name": "stderr",
     "output_type": "stream",
     "text": [
      "Epoch 13/20: 100%|██████████| 125/125 [00:00<00:00, 128.27it/s, loss=0.5051]\n"
     ]
    },
    {
     "name": "stdout",
     "output_type": "stream",
     "text": [
      "Epoch 13/20 - 1.08s - loss: 0.5051 - val_loss: 1.7680\n"
     ]
    },
    {
     "name": "stderr",
     "output_type": "stream",
     "text": [
      "Epoch 14/20: 100%|██████████| 125/125 [00:00<00:00, 143.02it/s, loss=0.4691]\n"
     ]
    },
    {
     "name": "stdout",
     "output_type": "stream",
     "text": [
      "Epoch 14/20 - 0.91s - loss: 0.4691 - val_loss: 1.7636\n"
     ]
    },
    {
     "name": "stderr",
     "output_type": "stream",
     "text": [
      "Epoch 15/20: 100%|██████████| 125/125 [00:00<00:00, 126.68it/s, loss=0.4382]\n"
     ]
    },
    {
     "name": "stdout",
     "output_type": "stream",
     "text": [
      "Epoch 15/20 - 1.01s - loss: 0.4382 - val_loss: 1.7050\n"
     ]
    },
    {
     "name": "stderr",
     "output_type": "stream",
     "text": [
      "Epoch 16/20: 100%|██████████| 125/125 [00:00<00:00, 147.04it/s, loss=0.4129]\n"
     ]
    },
    {
     "name": "stdout",
     "output_type": "stream",
     "text": [
      "Epoch 16/20 - 0.89s - loss: 0.4129 - val_loss: 1.7247\n"
     ]
    },
    {
     "name": "stderr",
     "output_type": "stream",
     "text": [
      "Epoch 17/20: 100%|██████████| 125/125 [00:00<00:00, 137.84it/s, loss=0.3930]\n"
     ]
    },
    {
     "name": "stdout",
     "output_type": "stream",
     "text": [
      "Epoch 17/20 - 0.93s - loss: 0.3930 - val_loss: 1.7110\n"
     ]
    },
    {
     "name": "stderr",
     "output_type": "stream",
     "text": [
      "Epoch 18/20: 100%|██████████| 125/125 [00:00<00:00, 125.43it/s, loss=0.3784]\n"
     ]
    },
    {
     "name": "stdout",
     "output_type": "stream",
     "text": [
      "Epoch 18/20 - 1.03s - loss: 0.3784 - val_loss: 1.7120\n"
     ]
    },
    {
     "name": "stderr",
     "output_type": "stream",
     "text": [
      "Epoch 19/20: 100%|██████████| 125/125 [00:01<00:00, 122.34it/s, loss=0.3668]\n"
     ]
    },
    {
     "name": "stdout",
     "output_type": "stream",
     "text": [
      "Epoch 19/20 - 1.07s - loss: 0.3668 - val_loss: 1.7224\n"
     ]
    },
    {
     "name": "stderr",
     "output_type": "stream",
     "text": [
      "Epoch 20/20: 100%|██████████| 125/125 [00:00<00:00, 145.63it/s, loss=0.3473]\n"
     ]
    },
    {
     "name": "stdout",
     "output_type": "stream",
     "text": [
      "Epoch 20/20 - 0.89s - loss: 0.3473 - val_loss: 1.7107\n"
     ]
    },
    {
     "name": "stderr",
     "output_type": "stream",
     "text": [
      "Epoch 1/20: 100%|██████████| 125/125 [00:00<00:00, 136.85it/s, loss=15.6688]\n"
     ]
    },
    {
     "name": "stdout",
     "output_type": "stream",
     "text": [
      "Epoch 1/20 - 0.95s - loss: 15.6688 - val_loss: 9.1374\n"
     ]
    },
    {
     "name": "stderr",
     "output_type": "stream",
     "text": [
      "Epoch 2/20: 100%|██████████| 125/125 [00:00<00:00, 160.64it/s, loss=8.3613]\n"
     ]
    },
    {
     "name": "stdout",
     "output_type": "stream",
     "text": [
      "Epoch 2/20 - 0.81s - loss: 8.3613 - val_loss: 7.2466\n"
     ]
    },
    {
     "name": "stderr",
     "output_type": "stream",
     "text": [
      "Epoch 3/20: 100%|██████████| 125/125 [00:00<00:00, 157.17it/s, loss=6.6053]\n"
     ]
    },
    {
     "name": "stdout",
     "output_type": "stream",
     "text": [
      "Epoch 3/20 - 0.83s - loss: 6.6053 - val_loss: 7.0934\n"
     ]
    },
    {
     "name": "stderr",
     "output_type": "stream",
     "text": [
      "Epoch 4/20: 100%|██████████| 125/125 [00:00<00:00, 141.36it/s, loss=5.9669]\n"
     ]
    },
    {
     "name": "stdout",
     "output_type": "stream",
     "text": [
      "Epoch 4/20 - 0.92s - loss: 5.9669 - val_loss: 6.2736\n"
     ]
    },
    {
     "name": "stderr",
     "output_type": "stream",
     "text": [
      "Epoch 5/20: 100%|██████████| 125/125 [00:00<00:00, 137.33it/s, loss=5.4313]\n"
     ]
    },
    {
     "name": "stdout",
     "output_type": "stream",
     "text": [
      "Epoch 5/20 - 0.95s - loss: 5.4313 - val_loss: 6.0439\n"
     ]
    },
    {
     "name": "stderr",
     "output_type": "stream",
     "text": [
      "Epoch 6/20: 100%|██████████| 125/125 [00:00<00:00, 132.26it/s, loss=4.9827]\n"
     ]
    },
    {
     "name": "stdout",
     "output_type": "stream",
     "text": [
      "Epoch 6/20 - 0.98s - loss: 4.9827 - val_loss: 6.1159\n"
     ]
    },
    {
     "name": "stderr",
     "output_type": "stream",
     "text": [
      "Epoch 7/20: 100%|██████████| 125/125 [00:01<00:00, 108.98it/s, loss=4.8130]\n"
     ]
    },
    {
     "name": "stdout",
     "output_type": "stream",
     "text": [
      "Epoch 7/20 - 1.18s - loss: 4.8130 - val_loss: 6.0941\n"
     ]
    },
    {
     "name": "stderr",
     "output_type": "stream",
     "text": [
      "Epoch 8/20: 100%|██████████| 125/125 [00:01<00:00, 123.95it/s, loss=4.5577]\n"
     ]
    },
    {
     "name": "stdout",
     "output_type": "stream",
     "text": [
      "Epoch 8/20 - 1.04s - loss: 4.5577 - val_loss: 5.6281\n"
     ]
    },
    {
     "name": "stderr",
     "output_type": "stream",
     "text": [
      "Epoch 9/20: 100%|██████████| 125/125 [00:01<00:00, 105.47it/s, loss=2.8950]\n"
     ]
    },
    {
     "name": "stdout",
     "output_type": "stream",
     "text": [
      "Epoch 9/20 - 1.25s - loss: 2.8950 - val_loss: 3.6375\n"
     ]
    },
    {
     "name": "stderr",
     "output_type": "stream",
     "text": [
      "Epoch 10/20: 100%|██████████| 125/125 [00:01<00:00, 124.08it/s, loss=1.9107]\n"
     ]
    },
    {
     "name": "stdout",
     "output_type": "stream",
     "text": [
      "Epoch 10/20 - 1.03s - loss: 1.9107 - val_loss: 3.1881\n"
     ]
    },
    {
     "name": "stderr",
     "output_type": "stream",
     "text": [
      "Epoch 11/20: 100%|██████████| 125/125 [00:00<00:00, 143.06it/s, loss=1.4901]\n"
     ]
    },
    {
     "name": "stdout",
     "output_type": "stream",
     "text": [
      "Epoch 11/20 - 0.90s - loss: 1.4901 - val_loss: 3.1877\n"
     ]
    },
    {
     "name": "stderr",
     "output_type": "stream",
     "text": [
      "Epoch 12/20: 100%|██████████| 125/125 [00:01<00:00, 111.94it/s, loss=1.3023]\n"
     ]
    },
    {
     "name": "stdout",
     "output_type": "stream",
     "text": [
      "Epoch 12/20 - 1.15s - loss: 1.3023 - val_loss: 3.1059\n"
     ]
    },
    {
     "name": "stderr",
     "output_type": "stream",
     "text": [
      "Epoch 13/20: 100%|██████████| 125/125 [00:01<00:00, 108.67it/s, loss=1.2039]\n"
     ]
    },
    {
     "name": "stdout",
     "output_type": "stream",
     "text": [
      "Epoch 13/20 - 1.21s - loss: 1.2039 - val_loss: 3.1329\n"
     ]
    },
    {
     "name": "stderr",
     "output_type": "stream",
     "text": [
      "Epoch 14/20: 100%|██████████| 125/125 [00:01<00:00, 98.40it/s, loss=1.1555]\n"
     ]
    },
    {
     "name": "stdout",
     "output_type": "stream",
     "text": [
      "Epoch 14/20 - 1.31s - loss: 1.1555 - val_loss: 3.0047\n"
     ]
    },
    {
     "name": "stderr",
     "output_type": "stream",
     "text": [
      "Epoch 15/20: 100%|██████████| 125/125 [00:01<00:00, 124.43it/s, loss=1.1076]\n"
     ]
    },
    {
     "name": "stdout",
     "output_type": "stream",
     "text": [
      "Epoch 15/20 - 1.05s - loss: 1.1076 - val_loss: 3.0732\n"
     ]
    },
    {
     "name": "stderr",
     "output_type": "stream",
     "text": [
      "Epoch 16/20: 100%|██████████| 125/125 [00:00<00:00, 139.23it/s, loss=1.0786]\n"
     ]
    },
    {
     "name": "stdout",
     "output_type": "stream",
     "text": [
      "Epoch 16/20 - 0.94s - loss: 1.0786 - val_loss: 3.1566\n"
     ]
    },
    {
     "name": "stderr",
     "output_type": "stream",
     "text": [
      "Epoch 17/20: 100%|██████████| 125/125 [00:00<00:00, 130.20it/s, loss=1.0759]\n"
     ]
    },
    {
     "name": "stdout",
     "output_type": "stream",
     "text": [
      "Epoch 17/20 - 0.99s - loss: 1.0759 - val_loss: 3.0770\n"
     ]
    },
    {
     "name": "stderr",
     "output_type": "stream",
     "text": [
      "Epoch 18/20: 100%|██████████| 125/125 [00:01<00:00, 77.01it/s, loss=1.0325] \n"
     ]
    },
    {
     "name": "stdout",
     "output_type": "stream",
     "text": [
      "Epoch 18/20 - 1.73s - loss: 1.0325 - val_loss: 2.9985\n"
     ]
    },
    {
     "name": "stderr",
     "output_type": "stream",
     "text": [
      "Epoch 19/20: 100%|██████████| 125/125 [00:00<00:00, 127.83it/s, loss=1.0183]\n"
     ]
    },
    {
     "name": "stdout",
     "output_type": "stream",
     "text": [
      "Epoch 19/20 - 1.02s - loss: 1.0183 - val_loss: 2.9458\n"
     ]
    },
    {
     "name": "stderr",
     "output_type": "stream",
     "text": [
      "Epoch 20/20: 100%|██████████| 125/125 [00:00<00:00, 141.59it/s, loss=1.0115]\n"
     ]
    },
    {
     "name": "stdout",
     "output_type": "stream",
     "text": [
      "Epoch 20/20 - 0.90s - loss: 1.0115 - val_loss: 2.9561\n"
     ]
    },
    {
     "name": "stderr",
     "output_type": "stream",
     "text": [
      "Epoch 1/20: 100%|██████████| 125/125 [00:01<00:00, 113.87it/s, loss=25.6406]\n"
     ]
    },
    {
     "name": "stdout",
     "output_type": "stream",
     "text": [
      "Epoch 1/20 - 1.12s - loss: 25.6406 - val_loss: 24.1766\n"
     ]
    },
    {
     "name": "stderr",
     "output_type": "stream",
     "text": [
      "Epoch 2/20: 100%|██████████| 125/125 [00:01<00:00, 93.16it/s, loss=22.5321]\n"
     ]
    },
    {
     "name": "stdout",
     "output_type": "stream",
     "text": [
      "Epoch 2/20 - 1.37s - loss: 22.5321 - val_loss: 20.3674\n"
     ]
    },
    {
     "name": "stderr",
     "output_type": "stream",
     "text": [
      "Epoch 3/20: 100%|██████████| 125/125 [00:01<00:00, 89.08it/s, loss=21.1775]\n"
     ]
    },
    {
     "name": "stdout",
     "output_type": "stream",
     "text": [
      "Epoch 3/20 - 1.55s - loss: 21.1775 - val_loss: 20.2485\n"
     ]
    },
    {
     "name": "stderr",
     "output_type": "stream",
     "text": [
      "Epoch 4/20: 100%|██████████| 125/125 [00:01<00:00, 85.25it/s, loss=21.0641] \n"
     ]
    },
    {
     "name": "stdout",
     "output_type": "stream",
     "text": [
      "Epoch 4/20 - 1.54s - loss: 21.0641 - val_loss: 20.0492\n"
     ]
    },
    {
     "name": "stderr",
     "output_type": "stream",
     "text": [
      "Epoch 5/20: 100%|██████████| 125/125 [00:01<00:00, 82.21it/s, loss=20.7213]\n"
     ]
    },
    {
     "name": "stdout",
     "output_type": "stream",
     "text": [
      "Epoch 5/20 - 1.57s - loss: 20.7213 - val_loss: 20.0505\n"
     ]
    },
    {
     "name": "stderr",
     "output_type": "stream",
     "text": [
      "Epoch 6/20: 100%|██████████| 125/125 [00:01<00:00, 64.79it/s, loss=20.7475]\n"
     ]
    },
    {
     "name": "stdout",
     "output_type": "stream",
     "text": [
      "Epoch 6/20 - 2.13s - loss: 20.7475 - val_loss: 20.2597\n"
     ]
    },
    {
     "name": "stderr",
     "output_type": "stream",
     "text": [
      "Epoch 7/20: 100%|██████████| 125/125 [00:01<00:00, 80.30it/s, loss=20.7010]\n"
     ]
    },
    {
     "name": "stdout",
     "output_type": "stream",
     "text": [
      "Epoch 7/20 - 1.60s - loss: 20.7010 - val_loss: 20.1282\n"
     ]
    },
    {
     "name": "stderr",
     "output_type": "stream",
     "text": [
      "Epoch 8/20: 100%|██████████| 125/125 [00:01<00:00, 92.97it/s, loss=20.5825]\n"
     ]
    },
    {
     "name": "stdout",
     "output_type": "stream",
     "text": [
      "Epoch 8/20 - 1.39s - loss: 20.5825 - val_loss: 19.7856\n"
     ]
    },
    {
     "name": "stderr",
     "output_type": "stream",
     "text": [
      "Epoch 9/20: 100%|██████████| 125/125 [00:01<00:00, 108.05it/s, loss=20.1772]\n"
     ]
    },
    {
     "name": "stdout",
     "output_type": "stream",
     "text": [
      "Epoch 9/20 - 1.19s - loss: 20.1772 - val_loss: 19.1870\n"
     ]
    },
    {
     "name": "stderr",
     "output_type": "stream",
     "text": [
      "Epoch 10/20: 100%|██████████| 125/125 [00:01<00:00, 86.84it/s, loss=19.6845]\n"
     ]
    },
    {
     "name": "stdout",
     "output_type": "stream",
     "text": [
      "Epoch 10/20 - 1.47s - loss: 19.6845 - val_loss: 18.6841\n"
     ]
    },
    {
     "name": "stderr",
     "output_type": "stream",
     "text": [
      "Epoch 11/20: 100%|██████████| 125/125 [00:01<00:00, 81.65it/s, loss=19.3382]\n"
     ]
    },
    {
     "name": "stdout",
     "output_type": "stream",
     "text": [
      "Epoch 11/20 - 1.57s - loss: 19.3382 - val_loss: 18.7143\n"
     ]
    },
    {
     "name": "stderr",
     "output_type": "stream",
     "text": [
      "Epoch 12/20: 100%|██████████| 125/125 [00:01<00:00, 76.06it/s, loss=18.9083]\n"
     ]
    },
    {
     "name": "stdout",
     "output_type": "stream",
     "text": [
      "Epoch 12/20 - 1.66s - loss: 18.9083 - val_loss: 18.4856\n"
     ]
    },
    {
     "name": "stderr",
     "output_type": "stream",
     "text": [
      "Epoch 13/20: 100%|██████████| 125/125 [00:01<00:00, 80.44it/s, loss=18.9332]\n"
     ]
    },
    {
     "name": "stdout",
     "output_type": "stream",
     "text": [
      "Epoch 13/20 - 1.59s - loss: 18.9332 - val_loss: 18.3572\n"
     ]
    },
    {
     "name": "stderr",
     "output_type": "stream",
     "text": [
      "Epoch 14/20: 100%|██████████| 125/125 [00:01<00:00, 82.85it/s, loss=19.1199]\n"
     ]
    },
    {
     "name": "stdout",
     "output_type": "stream",
     "text": [
      "Epoch 14/20 - 1.58s - loss: 19.1199 - val_loss: 18.8750\n"
     ]
    },
    {
     "name": "stderr",
     "output_type": "stream",
     "text": [
      "Epoch 15/20: 100%|██████████| 125/125 [00:01<00:00, 96.21it/s, loss=18.9887] \n"
     ]
    },
    {
     "name": "stdout",
     "output_type": "stream",
     "text": [
      "Epoch 15/20 - 1.33s - loss: 18.9887 - val_loss: 17.9954\n"
     ]
    },
    {
     "name": "stderr",
     "output_type": "stream",
     "text": [
      "Epoch 16/20: 100%|██████████| 125/125 [00:01<00:00, 93.66it/s, loss=18.5724] \n"
     ]
    },
    {
     "name": "stdout",
     "output_type": "stream",
     "text": [
      "Epoch 16/20 - 1.38s - loss: 18.5724 - val_loss: 17.9540\n"
     ]
    },
    {
     "name": "stderr",
     "output_type": "stream",
     "text": [
      "Epoch 17/20: 100%|██████████| 125/125 [00:01<00:00, 111.01it/s, loss=17.1819]\n"
     ]
    },
    {
     "name": "stdout",
     "output_type": "stream",
     "text": [
      "Epoch 17/20 - 1.15s - loss: 17.1819 - val_loss: 16.1186\n"
     ]
    },
    {
     "name": "stderr",
     "output_type": "stream",
     "text": [
      "Epoch 18/20: 100%|██████████| 125/125 [00:01<00:00, 85.78it/s, loss=16.7158]\n"
     ]
    },
    {
     "name": "stdout",
     "output_type": "stream",
     "text": [
      "Epoch 18/20 - 1.49s - loss: 16.7158 - val_loss: 16.3205\n"
     ]
    },
    {
     "name": "stderr",
     "output_type": "stream",
     "text": [
      "Epoch 19/20: 100%|██████████| 125/125 [00:01<00:00, 85.67it/s, loss=16.1930]\n"
     ]
    },
    {
     "name": "stdout",
     "output_type": "stream",
     "text": [
      "Epoch 19/20 - 1.48s - loss: 16.1930 - val_loss: 15.9830\n"
     ]
    },
    {
     "name": "stderr",
     "output_type": "stream",
     "text": [
      "Epoch 20/20: 100%|██████████| 125/125 [00:01<00:00, 97.82it/s, loss=16.3053]\n"
     ]
    },
    {
     "name": "stdout",
     "output_type": "stream",
     "text": [
      "Epoch 20/20 - 1.30s - loss: 16.3053 - val_loss: 15.3893\n"
     ]
    }
   ],
   "source": [
    "# Train the model\n",
    "depth_3_history = ffnn_depth_3.fit(\n",
    "    x_train=X_train,\n",
    "    y_train=y_train,\n",
    "    batch_size=32,\n",
    "    epochs=20,\n",
    "    validation_data=(X_val, y_val),\n",
    "    learning_rate=0.01,\n",
    "    verbose=1\n",
    ")\n",
    "\n",
    "depth_4_history = ffnn_depth_4.fit(\n",
    "    x_train=X_train,\n",
    "    y_train=y_train,\n",
    "    batch_size=32,\n",
    "    epochs=20,\n",
    "    validation_data=(X_val, y_val),\n",
    "    learning_rate=0.01,\n",
    "    verbose=1\n",
    ")\n",
    "\n",
    "depth_5_history = ffnn_depth_5.fit(\n",
    "    x_train=X_train,\n",
    "    y_train=y_train,\n",
    "    batch_size=32,\n",
    "    epochs=20,\n",
    "    validation_data=(X_val, y_val),\n",
    "    learning_rate=0.01,\n",
    "    verbose=1\n",
    ")"
   ]
  },
  {
   "cell_type": "code",
   "execution_count": 8,
   "metadata": {},
   "outputs": [
    {
     "name": "stdout",
     "output_type": "stream",
     "text": [
      "\n",
      "----- Model Performance Summary -----\n",
      "Metric               Value     \n",
      "------------------------------\n",
      "Accuracy             0.8233000000\n",
      "Precision (macro)    0.8244363618\n",
      "Recall (macro)       0.8216177327\n",
      "F1 Score (macro)     0.8221891758\n",
      "------------------------------\n",
      "\n",
      "----- Model Performance Summary -----\n",
      "Metric               Value     \n",
      "------------------------------\n",
      "Accuracy             0.8514000000\n",
      "Precision (macro)    0.8519176168\n",
      "Recall (macro)       0.8502652613\n",
      "F1 Score (macro)     0.8499188507\n",
      "------------------------------\n",
      "\n",
      "----- Model Performance Summary -----\n",
      "Metric               Value     \n",
      "------------------------------\n",
      "Accuracy             0.5324000000\n",
      "Precision (macro)    0.3465329181\n",
      "Recall (macro)       0.5252515830\n",
      "F1 Score (macro)     0.4043920317\n",
      "------------------------------\n"
     ]
    },
    {
     "name": "stderr",
     "output_type": "stream",
     "text": [
      "/home/dovodedomo/Tugas-Besar-I-ML/myenv/lib/python3.13/site-packages/sklearn/metrics/_classification.py:1565: UndefinedMetricWarning: Precision is ill-defined and being set to 0.0 in labels with no predicted samples. Use `zero_division` parameter to control this behavior.\n",
      "  _warn_prf(average, modifier, f\"{metric.capitalize()} is\", len(result))\n"
     ]
    }
   ],
   "source": [
    "# Evaluate the model\n",
    "evaluate_model(ffnn_depth_3, X_test, y_test_onehot)\n",
    "\n",
    "evaluate_model(ffnn_depth_4, X_test, y_test_onehot)\n",
    "\n",
    "evaluate_model(ffnn_depth_5, X_test, y_test_onehot)"
   ]
  },
  {
   "cell_type": "code",
   "execution_count": 9,
   "metadata": {},
   "outputs": [
    {
     "data": {
      "image/png": "[encoded data removed]",
      "text/plain": [
       "<Figure size 800x600 with 1 Axes>"
      ]
     },
     "metadata": {},
     "output_type": "display_data"
    },
    {
     "data": {
      "image/png": "[encoded data removed]",
      "text/plain": [
       "<Figure size 800x600 with 1 Axes>"
      ]
     },
     "metadata": {},
     "output_type": "display_data"
    },
    {
     "data": {
      "image/png": "[encoded data removed]",
      "text/plain": [
       "<Figure size 800x600 with 1 Axes>"
      ]
     },
     "metadata": {},
     "output_type": "display_data"
    }
   ],
   "source": [
    "# Plot the training history\n",
    "plot_training_loss(depth_3_history, \"Depth 3 Training History\")\n",
    "\n",
    "plot_training_loss(depth_4_history, \"Depth 4 Training History\")\n",
    "\n",
    "plot_training_loss(depth_5_history, \"Depth 5 Training History\")"
   ]
  },
  {
   "cell_type": "markdown",
   "metadata": {},
   "source": [
    "### Pengaruh Width"
   ]
  },
  {
   "cell_type": "code",
   "execution_count": 10,
   "metadata": {},
   "outputs": [],
   "source": [
    "# Create Neural Network\n",
    "width_128_network = NeuralNetwork(\n",
    "    node_counts = width_variations[0],\n",
    "    activations = [ReLU()] * (len(width_variations[0]) - 2) + [Softmax()],\n",
    "    loss_function = CCE(),\n",
    "    initialize_methods = NormalInitializer(seed=22)\n",
    ")\n",
    "\n",
    "width_328_network = NeuralNetwork(\n",
    "    node_counts = width_variations[1],\n",
    "    activations = [ReLU()] * (len(width_variations[1]) - 2) + [Softmax()],\n",
    "    loss_function = CCE(),\n",
    "    initialize_methods = NormalInitializer(seed=22)\n",
    ")\n",
    "\n",
    "width_528_network = NeuralNetwork(\n",
    "    node_counts = width_variations[2],\n",
    "    activations = [ReLU()] * (len(width_variations[2]) - 2) + [Softmax()],\n",
    "    loss_function = CCE(),\n",
    "    initialize_methods = NormalInitializer(seed=22)\n",
    ")"
   ]
  },
  {
   "cell_type": "code",
   "execution_count": 11,
   "metadata": {},
   "outputs": [],
   "source": [
    "# Create FFNN model\n",
    "ffnn_width_128 = FFNN(width_128_network)\n",
    "\n",
    "ffnn_width_328 = FFNN(width_328_network)\n",
    "\n",
    "ffnn_width_528 = FFNN(width_528_network)"
   ]
  },
  {
   "cell_type": "code",
   "execution_count": 12,
   "metadata": {},
   "outputs": [
    {
     "name": "stderr",
     "output_type": "stream",
     "text": [
      "Epoch 1/20: 100%|██████████| 125/125 [00:00<00:00, 244.46it/s, loss=10.3924]\n"
     ]
    },
    {
     "name": "stdout",
     "output_type": "stream",
     "text": [
      "Epoch 1/20 - 0.54s - loss: 10.3924 - val_loss: 5.2410\n"
     ]
    },
    {
     "name": "stderr",
     "output_type": "stream",
     "text": [
      "Epoch 2/20: 100%|██████████| 125/125 [00:00<00:00, 205.77it/s, loss=4.1404]\n"
     ]
    },
    {
     "name": "stdout",
     "output_type": "stream",
     "text": [
      "Epoch 2/20 - 0.65s - loss: 4.1404 - val_loss: 3.2913\n"
     ]
    },
    {
     "name": "stderr",
     "output_type": "stream",
     "text": [
      "Epoch 3/20: 100%|██████████| 125/125 [00:00<00:00, 189.67it/s, loss=2.6270]\n"
     ]
    },
    {
     "name": "stdout",
     "output_type": "stream",
     "text": [
      "Epoch 3/20 - 0.68s - loss: 2.6270 - val_loss: 2.5573\n"
     ]
    },
    {
     "name": "stderr",
     "output_type": "stream",
     "text": [
      "Epoch 4/20: 100%|██████████| 125/125 [00:00<00:00, 180.71it/s, loss=1.9606]\n"
     ]
    },
    {
     "name": "stdout",
     "output_type": "stream",
     "text": [
      "Epoch 4/20 - 0.72s - loss: 1.9606 - val_loss: 2.3134\n"
     ]
    },
    {
     "name": "stderr",
     "output_type": "stream",
     "text": [
      "Epoch 5/20: 100%|██████████| 125/125 [00:00<00:00, 210.13it/s, loss=1.5438]\n"
     ]
    },
    {
     "name": "stdout",
     "output_type": "stream",
     "text": [
      "Epoch 5/20 - 0.62s - loss: 1.5438 - val_loss: 2.0946\n"
     ]
    },
    {
     "name": "stderr",
     "output_type": "stream",
     "text": [
      "Epoch 6/20: 100%|██████████| 125/125 [00:00<00:00, 178.83it/s, loss=1.2700]\n"
     ]
    },
    {
     "name": "stdout",
     "output_type": "stream",
     "text": [
      "Epoch 6/20 - 0.73s - loss: 1.2700 - val_loss: 1.9911\n"
     ]
    },
    {
     "name": "stderr",
     "output_type": "stream",
     "text": [
      "Epoch 7/20: 100%|██████████| 125/125 [00:00<00:00, 184.39it/s, loss=1.0821]\n"
     ]
    },
    {
     "name": "stdout",
     "output_type": "stream",
     "text": [
      "Epoch 7/20 - 0.70s - loss: 1.0821 - val_loss: 1.8368\n"
     ]
    },
    {
     "name": "stderr",
     "output_type": "stream",
     "text": [
      "Epoch 8/20: 100%|██████████| 125/125 [00:00<00:00, 178.09it/s, loss=0.9401]\n"
     ]
    },
    {
     "name": "stdout",
     "output_type": "stream",
     "text": [
      "Epoch 8/20 - 0.72s - loss: 0.9401 - val_loss: 1.8238\n"
     ]
    },
    {
     "name": "stderr",
     "output_type": "stream",
     "text": [
      "Epoch 9/20: 100%|██████████| 125/125 [00:00<00:00, 210.79it/s, loss=0.8355]\n"
     ]
    },
    {
     "name": "stdout",
     "output_type": "stream",
     "text": [
      "Epoch 9/20 - 0.62s - loss: 0.8355 - val_loss: 1.7813\n"
     ]
    },
    {
     "name": "stderr",
     "output_type": "stream",
     "text": [
      "Epoch 10/20: 100%|██████████| 125/125 [00:00<00:00, 212.62it/s, loss=0.7391]\n"
     ]
    },
    {
     "name": "stdout",
     "output_type": "stream",
     "text": [
      "Epoch 10/20 - 0.61s - loss: 0.7391 - val_loss: 1.6909\n"
     ]
    },
    {
     "name": "stderr",
     "output_type": "stream",
     "text": [
      "Epoch 11/20: 100%|██████████| 125/125 [00:00<00:00, 192.20it/s, loss=0.6653]\n"
     ]
    },
    {
     "name": "stdout",
     "output_type": "stream",
     "text": [
      "Epoch 11/20 - 0.67s - loss: 0.6653 - val_loss: 1.6498\n"
     ]
    },
    {
     "name": "stderr",
     "output_type": "stream",
     "text": [
      "Epoch 12/20: 100%|██████████| 125/125 [00:00<00:00, 232.55it/s, loss=0.6098]\n"
     ]
    },
    {
     "name": "stdout",
     "output_type": "stream",
     "text": [
      "Epoch 12/20 - 0.56s - loss: 0.6098 - val_loss: 1.6378\n"
     ]
    },
    {
     "name": "stderr",
     "output_type": "stream",
     "text": [
      "Epoch 13/20: 100%|██████████| 125/125 [00:00<00:00, 157.15it/s, loss=0.5596]\n"
     ]
    },
    {
     "name": "stdout",
     "output_type": "stream",
     "text": [
      "Epoch 13/20 - 0.82s - loss: 0.5596 - val_loss: 1.5971\n"
     ]
    },
    {
     "name": "stderr",
     "output_type": "stream",
     "text": [
      "Epoch 14/20: 100%|██████████| 125/125 [00:00<00:00, 206.14it/s, loss=0.5067]\n"
     ]
    },
    {
     "name": "stdout",
     "output_type": "stream",
     "text": [
      "Epoch 14/20 - 0.63s - loss: 0.5067 - val_loss: 1.6040\n"
     ]
    },
    {
     "name": "stderr",
     "output_type": "stream",
     "text": [
      "Epoch 15/20: 100%|██████████| 125/125 [00:00<00:00, 188.55it/s, loss=0.4718]\n"
     ]
    },
    {
     "name": "stdout",
     "output_type": "stream",
     "text": [
      "Epoch 15/20 - 0.69s - loss: 0.4718 - val_loss: 1.6050\n"
     ]
    },
    {
     "name": "stderr",
     "output_type": "stream",
     "text": [
      "Epoch 16/20: 100%|██████████| 125/125 [00:00<00:00, 189.60it/s, loss=0.4434]\n"
     ]
    },
    {
     "name": "stdout",
     "output_type": "stream",
     "text": [
      "Epoch 16/20 - 0.70s - loss: 0.4434 - val_loss: 1.5881\n"
     ]
    },
    {
     "name": "stderr",
     "output_type": "stream",
     "text": [
      "Epoch 17/20: 100%|██████████| 125/125 [00:00<00:00, 194.63it/s, loss=0.4114]\n"
     ]
    },
    {
     "name": "stdout",
     "output_type": "stream",
     "text": [
      "Epoch 17/20 - 0.67s - loss: 0.4114 - val_loss: 1.5933\n"
     ]
    },
    {
     "name": "stderr",
     "output_type": "stream",
     "text": [
      "Epoch 18/20: 100%|██████████| 125/125 [00:00<00:00, 184.32it/s, loss=0.3879]\n"
     ]
    },
    {
     "name": "stdout",
     "output_type": "stream",
     "text": [
      "Epoch 18/20 - 0.72s - loss: 0.3879 - val_loss: 1.5936\n"
     ]
    },
    {
     "name": "stderr",
     "output_type": "stream",
     "text": [
      "Epoch 19/20: 100%|██████████| 125/125 [00:00<00:00, 174.85it/s, loss=0.3709]\n"
     ]
    },
    {
     "name": "stdout",
     "output_type": "stream",
     "text": [
      "Epoch 19/20 - 0.73s - loss: 0.3709 - val_loss: 1.5856\n"
     ]
    },
    {
     "name": "stderr",
     "output_type": "stream",
     "text": [
      "Epoch 20/20: 100%|██████████| 125/125 [00:00<00:00, 217.02it/s, loss=0.3563]\n"
     ]
    },
    {
     "name": "stdout",
     "output_type": "stream",
     "text": [
      "Epoch 20/20 - 0.60s - loss: 0.3563 - val_loss: 1.5786\n"
     ]
    },
    {
     "name": "stderr",
     "output_type": "stream",
     "text": [
      "Epoch 1/20: 100%|██████████| 125/125 [00:00<00:00, 131.25it/s, loss=10.3711]\n"
     ]
    },
    {
     "name": "stdout",
     "output_type": "stream",
     "text": [
      "Epoch 1/20 - 0.97s - loss: 10.3711 - val_loss: 5.1678\n"
     ]
    },
    {
     "name": "stderr",
     "output_type": "stream",
     "text": [
      "Epoch 2/20: 100%|██████████| 125/125 [00:01<00:00, 98.97it/s, loss=3.9434]\n"
     ]
    },
    {
     "name": "stdout",
     "output_type": "stream",
     "text": [
      "Epoch 2/20 - 1.29s - loss: 3.9434 - val_loss: 3.7721\n"
     ]
    },
    {
     "name": "stderr",
     "output_type": "stream",
     "text": [
      "Epoch 3/20: 100%|██████████| 125/125 [00:01<00:00, 96.09it/s, loss=2.6732] \n"
     ]
    },
    {
     "name": "stdout",
     "output_type": "stream",
     "text": [
      "Epoch 3/20 - 1.34s - loss: 2.6732 - val_loss: 3.2676\n"
     ]
    },
    {
     "name": "stderr",
     "output_type": "stream",
     "text": [
      "Epoch 4/20: 100%|██████████| 125/125 [00:01<00:00, 67.66it/s, loss=2.0194]\n"
     ]
    },
    {
     "name": "stdout",
     "output_type": "stream",
     "text": [
      "Epoch 4/20 - 1.88s - loss: 2.0194 - val_loss: 2.9535\n"
     ]
    },
    {
     "name": "stderr",
     "output_type": "stream",
     "text": [
      "Epoch 5/20: 100%|██████████| 125/125 [00:01<00:00, 75.66it/s, loss=1.6270]\n"
     ]
    },
    {
     "name": "stdout",
     "output_type": "stream",
     "text": [
      "Epoch 5/20 - 1.68s - loss: 1.6270 - val_loss: 2.7222\n"
     ]
    },
    {
     "name": "stderr",
     "output_type": "stream",
     "text": [
      "Epoch 6/20: 100%|██████████| 125/125 [00:01<00:00, 85.23it/s, loss=1.3363]\n"
     ]
    },
    {
     "name": "stdout",
     "output_type": "stream",
     "text": [
      "Epoch 6/20 - 1.49s - loss: 1.3363 - val_loss: 2.5266\n"
     ]
    },
    {
     "name": "stderr",
     "output_type": "stream",
     "text": [
      "Epoch 7/20: 100%|██████████| 125/125 [00:01<00:00, 81.37it/s, loss=1.1433]\n"
     ]
    },
    {
     "name": "stdout",
     "output_type": "stream",
     "text": [
      "Epoch 7/20 - 1.59s - loss: 1.1433 - val_loss: 2.4754\n"
     ]
    },
    {
     "name": "stderr",
     "output_type": "stream",
     "text": [
      "Epoch 8/20: 100%|██████████| 125/125 [00:01<00:00, 80.36it/s, loss=1.0208]\n"
     ]
    },
    {
     "name": "stdout",
     "output_type": "stream",
     "text": [
      "Epoch 8/20 - 1.59s - loss: 1.0208 - val_loss: 2.4394\n"
     ]
    },
    {
     "name": "stderr",
     "output_type": "stream",
     "text": [
      "Epoch 9/20: 100%|██████████| 125/125 [00:02<00:00, 55.28it/s, loss=0.9396]\n"
     ]
    },
    {
     "name": "stdout",
     "output_type": "stream",
     "text": [
      "Epoch 9/20 - 2.29s - loss: 0.9396 - val_loss: 2.4644\n"
     ]
    },
    {
     "name": "stderr",
     "output_type": "stream",
     "text": [
      "Epoch 10/20: 100%|██████████| 125/125 [00:01<00:00, 68.09it/s, loss=0.8744]\n"
     ]
    },
    {
     "name": "stdout",
     "output_type": "stream",
     "text": [
      "Epoch 10/20 - 1.86s - loss: 0.8744 - val_loss: 2.4478\n"
     ]
    },
    {
     "name": "stderr",
     "output_type": "stream",
     "text": [
      "Epoch 11/20: 100%|██████████| 125/125 [00:01<00:00, 86.20it/s, loss=0.8270]\n"
     ]
    },
    {
     "name": "stdout",
     "output_type": "stream",
     "text": [
      "Epoch 11/20 - 1.48s - loss: 0.8270 - val_loss: 2.3966\n"
     ]
    },
    {
     "name": "stderr",
     "output_type": "stream",
     "text": [
      "Epoch 12/20: 100%|██████████| 125/125 [00:01<00:00, 81.96it/s, loss=0.7975]\n"
     ]
    },
    {
     "name": "stdout",
     "output_type": "stream",
     "text": [
      "Epoch 12/20 - 1.56s - loss: 0.7975 - val_loss: 2.4200\n"
     ]
    },
    {
     "name": "stderr",
     "output_type": "stream",
     "text": [
      "Epoch 13/20: 100%|██████████| 125/125 [00:01<00:00, 77.95it/s, loss=0.7738]\n"
     ]
    },
    {
     "name": "stdout",
     "output_type": "stream",
     "text": [
      "Epoch 13/20 - 1.63s - loss: 0.7738 - val_loss: 2.4023\n"
     ]
    },
    {
     "name": "stderr",
     "output_type": "stream",
     "text": [
      "Epoch 14/20: 100%|██████████| 125/125 [00:01<00:00, 91.28it/s, loss=0.7415]\n"
     ]
    },
    {
     "name": "stdout",
     "output_type": "stream",
     "text": [
      "Epoch 14/20 - 1.39s - loss: 0.7415 - val_loss: 2.4480\n"
     ]
    },
    {
     "name": "stderr",
     "output_type": "stream",
     "text": [
      "Epoch 15/20: 100%|██████████| 125/125 [00:01<00:00, 95.69it/s, loss=0.7196]\n"
     ]
    },
    {
     "name": "stdout",
     "output_type": "stream",
     "text": [
      "Epoch 15/20 - 1.34s - loss: 0.7196 - val_loss: 2.4535\n"
     ]
    },
    {
     "name": "stderr",
     "output_type": "stream",
     "text": [
      "Epoch 16/20: 100%|██████████| 125/125 [00:01<00:00, 93.63it/s, loss=0.7030]\n"
     ]
    },
    {
     "name": "stdout",
     "output_type": "stream",
     "text": [
      "Epoch 16/20 - 1.37s - loss: 0.7030 - val_loss: 2.4264\n"
     ]
    },
    {
     "name": "stderr",
     "output_type": "stream",
     "text": [
      "Epoch 17/20: 100%|██████████| 125/125 [00:01<00:00, 76.98it/s, loss=0.6902]\n"
     ]
    },
    {
     "name": "stdout",
     "output_type": "stream",
     "text": [
      "Epoch 17/20 - 1.66s - loss: 0.6902 - val_loss: 2.4571\n"
     ]
    },
    {
     "name": "stderr",
     "output_type": "stream",
     "text": [
      "Epoch 18/20: 100%|██████████| 125/125 [00:01<00:00, 73.95it/s, loss=0.6804]\n"
     ]
    },
    {
     "name": "stdout",
     "output_type": "stream",
     "text": [
      "Epoch 18/20 - 1.72s - loss: 0.6804 - val_loss: 2.4413\n"
     ]
    },
    {
     "name": "stderr",
     "output_type": "stream",
     "text": [
      "Epoch 19/20: 100%|██████████| 125/125 [00:01<00:00, 71.20it/s, loss=0.6725]\n"
     ]
    },
    {
     "name": "stdout",
     "output_type": "stream",
     "text": [
      "Epoch 19/20 - 1.80s - loss: 0.6725 - val_loss: 2.4144\n"
     ]
    },
    {
     "name": "stderr",
     "output_type": "stream",
     "text": [
      "Epoch 20/20: 100%|██████████| 125/125 [00:01<00:00, 76.20it/s, loss=0.6646]\n"
     ]
    },
    {
     "name": "stdout",
     "output_type": "stream",
     "text": [
      "Epoch 20/20 - 1.67s - loss: 0.6646 - val_loss: 2.4284\n"
     ]
    },
    {
     "name": "stderr",
     "output_type": "stream",
     "text": [
      "Epoch 1/20: 100%|██████████| 125/125 [00:01<00:00, 69.36it/s, loss=14.1413]\n"
     ]
    },
    {
     "name": "stdout",
     "output_type": "stream",
     "text": [
      "Epoch 1/20 - 1.84s - loss: 14.1413 - val_loss: 5.7864\n"
     ]
    },
    {
     "name": "stderr",
     "output_type": "stream",
     "text": [
      "Epoch 2/20: 100%|██████████| 125/125 [00:01<00:00, 80.09it/s, loss=4.8877]\n"
     ]
    },
    {
     "name": "stdout",
     "output_type": "stream",
     "text": [
      "Epoch 2/20 - 1.60s - loss: 4.8877 - val_loss: 4.0060\n"
     ]
    },
    {
     "name": "stderr",
     "output_type": "stream",
     "text": [
      "Epoch 3/20: 100%|██████████| 125/125 [00:01<00:00, 72.12it/s, loss=3.2473]\n"
     ]
    },
    {
     "name": "stdout",
     "output_type": "stream",
     "text": [
      "Epoch 3/20 - 1.79s - loss: 3.2473 - val_loss: 3.2329\n"
     ]
    },
    {
     "name": "stderr",
     "output_type": "stream",
     "text": [
      "Epoch 4/20: 100%|██████████| 125/125 [00:01<00:00, 68.71it/s, loss=2.5476]\n"
     ]
    },
    {
     "name": "stdout",
     "output_type": "stream",
     "text": [
      "Epoch 4/20 - 1.87s - loss: 2.5476 - val_loss: 3.0652\n"
     ]
    },
    {
     "name": "stderr",
     "output_type": "stream",
     "text": [
      "Epoch 5/20: 100%|██████████| 125/125 [00:01<00:00, 74.49it/s, loss=2.1380]\n"
     ]
    },
    {
     "name": "stdout",
     "output_type": "stream",
     "text": [
      "Epoch 5/20 - 1.70s - loss: 2.1380 - val_loss: 2.8550\n"
     ]
    },
    {
     "name": "stderr",
     "output_type": "stream",
     "text": [
      "Epoch 6/20: 100%|██████████| 125/125 [00:01<00:00, 68.90it/s, loss=1.8198]\n"
     ]
    },
    {
     "name": "stdout",
     "output_type": "stream",
     "text": [
      "Epoch 6/20 - 1.85s - loss: 1.8198 - val_loss: 2.7409\n"
     ]
    },
    {
     "name": "stderr",
     "output_type": "stream",
     "text": [
      "Epoch 7/20: 100%|██████████| 125/125 [00:01<00:00, 63.62it/s, loss=1.6074]\n"
     ]
    },
    {
     "name": "stdout",
     "output_type": "stream",
     "text": [
      "Epoch 7/20 - 2.00s - loss: 1.6074 - val_loss: 2.7350\n"
     ]
    },
    {
     "name": "stderr",
     "output_type": "stream",
     "text": [
      "Epoch 8/20: 100%|██████████| 125/125 [00:01<00:00, 68.26it/s, loss=1.5122]\n"
     ]
    },
    {
     "name": "stdout",
     "output_type": "stream",
     "text": [
      "Epoch 8/20 - 1.86s - loss: 1.5122 - val_loss: 2.7279\n"
     ]
    },
    {
     "name": "stderr",
     "output_type": "stream",
     "text": [
      "Epoch 9/20: 100%|██████████| 125/125 [00:01<00:00, 83.45it/s, loss=1.4245]\n"
     ]
    },
    {
     "name": "stdout",
     "output_type": "stream",
     "text": [
      "Epoch 9/20 - 1.55s - loss: 1.4245 - val_loss: 2.6886\n"
     ]
    },
    {
     "name": "stderr",
     "output_type": "stream",
     "text": [
      "Epoch 10/20: 100%|██████████| 125/125 [00:01<00:00, 74.94it/s, loss=1.3783]\n"
     ]
    },
    {
     "name": "stdout",
     "output_type": "stream",
     "text": [
      "Epoch 10/20 - 1.72s - loss: 1.3783 - val_loss: 2.6307\n"
     ]
    },
    {
     "name": "stderr",
     "output_type": "stream",
     "text": [
      "Epoch 11/20: 100%|██████████| 125/125 [00:01<00:00, 72.20it/s, loss=1.3419]\n"
     ]
    },
    {
     "name": "stdout",
     "output_type": "stream",
     "text": [
      "Epoch 11/20 - 1.77s - loss: 1.3419 - val_loss: 2.5849\n"
     ]
    },
    {
     "name": "stderr",
     "output_type": "stream",
     "text": [
      "Epoch 12/20: 100%|██████████| 125/125 [00:01<00:00, 78.44it/s, loss=1.3151]\n"
     ]
    },
    {
     "name": "stdout",
     "output_type": "stream",
     "text": [
      "Epoch 12/20 - 1.63s - loss: 1.3151 - val_loss: 2.6185\n"
     ]
    },
    {
     "name": "stderr",
     "output_type": "stream",
     "text": [
      "Epoch 13/20: 100%|██████████| 125/125 [00:01<00:00, 83.23it/s, loss=1.3012]\n"
     ]
    },
    {
     "name": "stdout",
     "output_type": "stream",
     "text": [
      "Epoch 13/20 - 1.54s - loss: 1.3012 - val_loss: 2.5841\n"
     ]
    },
    {
     "name": "stderr",
     "output_type": "stream",
     "text": [
      "Epoch 14/20: 100%|██████████| 125/125 [00:01<00:00, 81.41it/s, loss=1.2894]\n"
     ]
    },
    {
     "name": "stdout",
     "output_type": "stream",
     "text": [
      "Epoch 14/20 - 1.57s - loss: 1.2894 - val_loss: 2.5799\n"
     ]
    },
    {
     "name": "stderr",
     "output_type": "stream",
     "text": [
      "Epoch 15/20: 100%|██████████| 125/125 [00:01<00:00, 63.86it/s, loss=1.2693]\n"
     ]
    },
    {
     "name": "stdout",
     "output_type": "stream",
     "text": [
      "Epoch 15/20 - 1.99s - loss: 1.2693 - val_loss: 2.5811\n"
     ]
    },
    {
     "name": "stderr",
     "output_type": "stream",
     "text": [
      "Epoch 16/20: 100%|██████████| 125/125 [00:01<00:00, 71.69it/s, loss=1.2616]\n"
     ]
    },
    {
     "name": "stdout",
     "output_type": "stream",
     "text": [
      "Epoch 16/20 - 1.78s - loss: 1.2616 - val_loss: 2.5883\n"
     ]
    },
    {
     "name": "stderr",
     "output_type": "stream",
     "text": [
      "Epoch 17/20: 100%|██████████| 125/125 [00:01<00:00, 69.82it/s, loss=1.2560]\n"
     ]
    },
    {
     "name": "stdout",
     "output_type": "stream",
     "text": [
      "Epoch 17/20 - 1.82s - loss: 1.2560 - val_loss: 2.5769\n"
     ]
    },
    {
     "name": "stderr",
     "output_type": "stream",
     "text": [
      "Epoch 18/20: 100%|██████████| 125/125 [00:01<00:00, 78.90it/s, loss=1.2511]\n"
     ]
    },
    {
     "name": "stdout",
     "output_type": "stream",
     "text": [
      "Epoch 18/20 - 1.62s - loss: 1.2511 - val_loss: 2.5698\n"
     ]
    },
    {
     "name": "stderr",
     "output_type": "stream",
     "text": [
      "Epoch 19/20: 100%|██████████| 125/125 [00:01<00:00, 68.53it/s, loss=1.2462]\n"
     ]
    },
    {
     "name": "stdout",
     "output_type": "stream",
     "text": [
      "Epoch 19/20 - 1.87s - loss: 1.2462 - val_loss: 2.5605\n"
     ]
    },
    {
     "name": "stderr",
     "output_type": "stream",
     "text": [
      "Epoch 20/20: 100%|██████████| 125/125 [00:01<00:00, 71.00it/s, loss=1.2446]\n"
     ]
    },
    {
     "name": "stdout",
     "output_type": "stream",
     "text": [
      "Epoch 20/20 - 1.79s - loss: 1.2446 - val_loss: 2.5536\n"
     ]
    }
   ],
   "source": [
    "# Train the model\n",
    "width_128_history = ffnn_width_128.fit(\n",
    "    x_train=X_train,\n",
    "    y_train=y_train,\n",
    "    batch_size=32,\n",
    "    epochs=20,\n",
    "    validation_data=(X_val, y_val),\n",
    "    learning_rate=0.01,\n",
    "    verbose=1\n",
    ")\n",
    "\n",
    "width_328_history = ffnn_width_328.fit(\n",
    "    x_train=X_train,\n",
    "    y_train=y_train,\n",
    "    batch_size=32,\n",
    "    epochs=20,\n",
    "    validation_data=(X_val, y_val),\n",
    "    learning_rate=0.01,\n",
    "    verbose=1\n",
    ")\n",
    "\n",
    "width_528_history = ffnn_width_528.fit(\n",
    "    x_train=X_train,\n",
    "    y_train=y_train,\n",
    "    batch_size=32,\n",
    "    epochs=20,\n",
    "    validation_data=(X_val, y_val),\n",
    "    learning_rate=0.01,\n",
    "    verbose=1\n",
    ")"
   ]
  },
  {
   "cell_type": "code",
   "execution_count": 13,
   "metadata": {},
   "outputs": [
    {
     "name": "stdout",
     "output_type": "stream",
     "text": [
      "\n",
      "----- Model Performance Summary -----\n",
      "Metric               Value     \n",
      "------------------------------\n",
      "Accuracy             0.8307000000\n",
      "Precision (macro)    0.8290685679\n",
      "Recall (macro)       0.8291396182\n",
      "F1 Score (macro)     0.8288167575\n",
      "------------------------------\n",
      "\n",
      "----- Model Performance Summary -----\n",
      "Metric               Value     \n",
      "------------------------------\n",
      "Accuracy             0.8306000000\n",
      "Precision (macro)    0.8301740964\n",
      "Recall (macro)       0.8292553941\n",
      "F1 Score (macro)     0.8294908768\n",
      "------------------------------\n",
      "\n",
      "----- Model Performance Summary -----\n",
      "Metric               Value     \n",
      "------------------------------\n",
      "Accuracy             0.8462000000\n",
      "Precision (macro)    0.8457486204\n",
      "Recall (macro)       0.8449861291\n",
      "F1 Score (macro)     0.8447939786\n",
      "------------------------------\n"
     ]
    }
   ],
   "source": [
    "# Evaluate the model\n",
    "evaluate_model(ffnn_width_128, X_test, y_test_onehot)\n",
    "\n",
    "evaluate_model(ffnn_width_328, X_test, y_test_onehot)\n",
    "\n",
    "evaluate_model(ffnn_width_528, X_test, y_test_onehot)"
   ]
  },
  {
   "cell_type": "code",
   "execution_count": 14,
   "metadata": {},
   "outputs": [
    {
     "data": {
      "image/png": "[encoded data removed]",
      "text/plain": [
       "<Figure size 800x600 with 1 Axes>"
      ]
     },
     "metadata": {},
     "output_type": "display_data"
    },
    {
     "data": {
      "image/png": "[encoded data removed]",
      "text/plain": [
       "<Figure size 800x600 with 1 Axes>"
      ]
     },
     "metadata": {},
     "output_type": "display_data"
    },
    {
     "data": {
      "image/png": "[encoded data removed]",
      "text/plain": [
       "<Figure size 800x600 with 1 Axes>"
      ]
     },
     "metadata": {},
     "output_type": "display_data"
    }
   ],
   "source": [
    "# Plot the training history\n",
    "plot_training_loss(width_128_history, \"Width 128 Training History\")\n",
    "\n",
    "plot_training_loss(width_328_history, \"Width 328 Training History\")\n",
    "\n",
    "plot_training_loss(width_528_history, \"Width 528 Training History\")"
   ]
  }
 ],
 "metadata": {
  "kernelspec": {
   "display_name": "myenv",
   "language": "python",
   "name": "python3"
  },
  "language_info": {
   "codemirror_mode": {
    "name": "ipython",
    "version": 3
   },
   "file_extension": ".py",
   "mimetype": "text/x-python",
   "name": "python",
   "nbconvert_exporter": "python",
   "pygments_lexer": "ipython3",
   "version": "3.13.2"
  }
 },
 "nbformat": 4,
 "nbformat_minor": 2
}
